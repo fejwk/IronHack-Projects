{
 "cells": [
  {
   "cell_type": "code",
   "execution_count": 194,
   "id": "0581f8a0",
   "metadata": {
    "ExecuteTime": {
     "end_time": "2022-06-14T13:13:06.438834Z",
     "start_time": "2022-06-14T13:13:06.434221Z"
    }
   },
   "outputs": [],
   "source": [
    "import pandas as pd\n",
    "import re"
   ]
  },
  {
   "cell_type": "code",
   "execution_count": 202,
   "id": "7a768b9b",
   "metadata": {
    "ExecuteTime": {
     "end_time": "2022-06-14T15:26:03.720805Z",
     "start_time": "2022-06-14T15:26:03.716683Z"
    }
   },
   "outputs": [
    {
     "data": {
      "text/plain": [
       "['.DS_Store', 'Project Week 2', '.ipynb_checkpoints', 'Project Week 1']"
      ]
     },
     "execution_count": 202,
     "metadata": {},
     "output_type": "execute_result"
    }
   ],
   "source": [
    "import os\n",
    "os.listdir('..')"
   ]
  },
  {
   "cell_type": "code",
   "execution_count": 3,
   "id": "99eaa39e",
   "metadata": {
    "ExecuteTime": {
     "end_time": "2022-06-14T04:05:59.562520Z",
     "start_time": "2022-06-14T04:05:59.559745Z"
    }
   },
   "outputs": [],
   "source": [
    "pd.set_option(\"display.max_columns\", 25)"
   ]
  },
  {
   "cell_type": "code",
   "execution_count": 4,
   "id": "8e4413ec",
   "metadata": {
    "ExecuteTime": {
     "end_time": "2022-06-14T04:05:59.662266Z",
     "start_time": "2022-06-14T04:05:59.565636Z"
    }
   },
   "outputs": [],
   "source": [
    "attacks = pd.read_csv('attacks.csv', encoding='latin-1')"
   ]
  },
  {
   "cell_type": "code",
   "execution_count": 5,
   "id": "af6f10cb",
   "metadata": {
    "ExecuteTime": {
     "end_time": "2022-06-14T04:05:59.668415Z",
     "start_time": "2022-06-14T04:05:59.664333Z"
    }
   },
   "outputs": [],
   "source": [
    "#tratamento das colunas\n",
    "import re\n",
    "novas_colunas = []\n",
    "for col in attacks.columns:\n",
    "    col = re.sub('[^a-zA-Z0-9 ]','',col)\n",
    "    col = re.sub('[ ]','_',col)\n",
    "    col = col.lower()\n",
    "    novas_colunas.append(col)\n",
    "\n",
    "attacks.columns = novas_colunas"
   ]
  },
  {
   "cell_type": "code",
   "execution_count": 6,
   "id": "0ca00a27",
   "metadata": {
    "ExecuteTime": {
     "end_time": "2022-06-14T04:05:59.673439Z",
     "start_time": "2022-06-14T04:05:59.670327Z"
    }
   },
   "outputs": [],
   "source": [
    "attacks.rename(columns={'sex_':'sex','species_':'species'},inplace=True)"
   ]
  },
  {
   "cell_type": "code",
   "execution_count": 7,
   "id": "9f414f74",
   "metadata": {
    "ExecuteTime": {
     "end_time": "2022-06-14T04:05:59.684027Z",
     "start_time": "2022-06-14T04:05:59.674910Z"
    }
   },
   "outputs": [],
   "source": [
    "#drop colunas 22 e 23, sem conteudo\n",
    "attacks.drop(['unnamed_22','unnamed_23'],axis=1,inplace=True)"
   ]
  },
  {
   "cell_type": "code",
   "execution_count": 8,
   "id": "07567cb3",
   "metadata": {
    "ExecuteTime": {
     "end_time": "2022-06-14T04:05:59.704225Z",
     "start_time": "2022-06-14T04:05:59.685479Z"
    }
   },
   "outputs": [
    {
     "data": {
      "text/html": [
       "<div>\n",
       "<style scoped>\n",
       "    .dataframe tbody tr th:only-of-type {\n",
       "        vertical-align: middle;\n",
       "    }\n",
       "\n",
       "    .dataframe tbody tr th {\n",
       "        vertical-align: top;\n",
       "    }\n",
       "\n",
       "    .dataframe thead th {\n",
       "        text-align: right;\n",
       "    }\n",
       "</style>\n",
       "<table border=\"1\" class=\"dataframe\">\n",
       "  <thead>\n",
       "    <tr style=\"text-align: right;\">\n",
       "      <th></th>\n",
       "      <th>case_number</th>\n",
       "      <th>date</th>\n",
       "      <th>year</th>\n",
       "      <th>type</th>\n",
       "      <th>country</th>\n",
       "      <th>area</th>\n",
       "      <th>location</th>\n",
       "      <th>activity</th>\n",
       "      <th>name</th>\n",
       "      <th>sex</th>\n",
       "      <th>age</th>\n",
       "      <th>injury</th>\n",
       "      <th>fatal_yn</th>\n",
       "      <th>time</th>\n",
       "      <th>species</th>\n",
       "      <th>investigator_or_source</th>\n",
       "      <th>pdf</th>\n",
       "      <th>href_formula</th>\n",
       "      <th>href</th>\n",
       "      <th>case_number1</th>\n",
       "      <th>case_number2</th>\n",
       "      <th>original_order</th>\n",
       "    </tr>\n",
       "  </thead>\n",
       "  <tbody>\n",
       "    <tr>\n",
       "      <th>0</th>\n",
       "      <td>2018.06.25</td>\n",
       "      <td>25-Jun-2018</td>\n",
       "      <td>2018.0</td>\n",
       "      <td>Boating</td>\n",
       "      <td>USA</td>\n",
       "      <td>California</td>\n",
       "      <td>Oceanside, San Diego County</td>\n",
       "      <td>Paddling</td>\n",
       "      <td>Julie Wolfe</td>\n",
       "      <td>F</td>\n",
       "      <td>57</td>\n",
       "      <td>No injury to occupant, outrigger canoe and pad...</td>\n",
       "      <td>N</td>\n",
       "      <td>18h00</td>\n",
       "      <td>White shark</td>\n",
       "      <td>R. Collier, GSAF</td>\n",
       "      <td>2018.06.25-Wolfe.pdf</td>\n",
       "      <td>http://sharkattackfile.net/spreadsheets/pdf_di...</td>\n",
       "      <td>http://sharkattackfile.net/spreadsheets/pdf_di...</td>\n",
       "      <td>2018.06.25</td>\n",
       "      <td>2018.06.25</td>\n",
       "      <td>6303.0</td>\n",
       "    </tr>\n",
       "    <tr>\n",
       "      <th>1</th>\n",
       "      <td>2018.06.18</td>\n",
       "      <td>18-Jun-2018</td>\n",
       "      <td>2018.0</td>\n",
       "      <td>Unprovoked</td>\n",
       "      <td>USA</td>\n",
       "      <td>Georgia</td>\n",
       "      <td>St. Simon Island, Glynn County</td>\n",
       "      <td>Standing</td>\n",
       "      <td>Adyson McNeely</td>\n",
       "      <td>F</td>\n",
       "      <td>11</td>\n",
       "      <td>Minor injury to left thigh</td>\n",
       "      <td>N</td>\n",
       "      <td>14h00  -15h00</td>\n",
       "      <td>NaN</td>\n",
       "      <td>K.McMurray, TrackingSharks.com</td>\n",
       "      <td>2018.06.18-McNeely.pdf</td>\n",
       "      <td>http://sharkattackfile.net/spreadsheets/pdf_di...</td>\n",
       "      <td>http://sharkattackfile.net/spreadsheets/pdf_di...</td>\n",
       "      <td>2018.06.18</td>\n",
       "      <td>2018.06.18</td>\n",
       "      <td>6302.0</td>\n",
       "    </tr>\n",
       "    <tr>\n",
       "      <th>2</th>\n",
       "      <td>2018.06.09</td>\n",
       "      <td>09-Jun-2018</td>\n",
       "      <td>2018.0</td>\n",
       "      <td>Invalid</td>\n",
       "      <td>USA</td>\n",
       "      <td>Hawaii</td>\n",
       "      <td>Habush, Oahu</td>\n",
       "      <td>Surfing</td>\n",
       "      <td>John Denges</td>\n",
       "      <td>M</td>\n",
       "      <td>48</td>\n",
       "      <td>Injury to left lower leg from surfboard skeg</td>\n",
       "      <td>N</td>\n",
       "      <td>07h45</td>\n",
       "      <td>NaN</td>\n",
       "      <td>K.McMurray, TrackingSharks.com</td>\n",
       "      <td>2018.06.09-Denges.pdf</td>\n",
       "      <td>http://sharkattackfile.net/spreadsheets/pdf_di...</td>\n",
       "      <td>http://sharkattackfile.net/spreadsheets/pdf_di...</td>\n",
       "      <td>2018.06.09</td>\n",
       "      <td>2018.06.09</td>\n",
       "      <td>6301.0</td>\n",
       "    </tr>\n",
       "    <tr>\n",
       "      <th>3</th>\n",
       "      <td>2018.06.08</td>\n",
       "      <td>08-Jun-2018</td>\n",
       "      <td>2018.0</td>\n",
       "      <td>Unprovoked</td>\n",
       "      <td>AUSTRALIA</td>\n",
       "      <td>New South Wales</td>\n",
       "      <td>Arrawarra Headland</td>\n",
       "      <td>Surfing</td>\n",
       "      <td>male</td>\n",
       "      <td>M</td>\n",
       "      <td>NaN</td>\n",
       "      <td>Minor injury to lower leg</td>\n",
       "      <td>N</td>\n",
       "      <td>NaN</td>\n",
       "      <td>2 m shark</td>\n",
       "      <td>B. Myatt, GSAF</td>\n",
       "      <td>2018.06.08-Arrawarra.pdf</td>\n",
       "      <td>http://sharkattackfile.net/spreadsheets/pdf_di...</td>\n",
       "      <td>http://sharkattackfile.net/spreadsheets/pdf_di...</td>\n",
       "      <td>2018.06.08</td>\n",
       "      <td>2018.06.08</td>\n",
       "      <td>6300.0</td>\n",
       "    </tr>\n",
       "    <tr>\n",
       "      <th>4</th>\n",
       "      <td>2018.06.04</td>\n",
       "      <td>04-Jun-2018</td>\n",
       "      <td>2018.0</td>\n",
       "      <td>Provoked</td>\n",
       "      <td>MEXICO</td>\n",
       "      <td>Colima</td>\n",
       "      <td>La Ticla</td>\n",
       "      <td>Free diving</td>\n",
       "      <td>Gustavo Ramos</td>\n",
       "      <td>M</td>\n",
       "      <td>NaN</td>\n",
       "      <td>Lacerations to leg &amp; hand shark PROVOKED INCIDENT</td>\n",
       "      <td>N</td>\n",
       "      <td>NaN</td>\n",
       "      <td>Tiger shark, 3m</td>\n",
       "      <td>A .Kipper</td>\n",
       "      <td>2018.06.04-Ramos.pdf</td>\n",
       "      <td>http://sharkattackfile.net/spreadsheets/pdf_di...</td>\n",
       "      <td>http://sharkattackfile.net/spreadsheets/pdf_di...</td>\n",
       "      <td>2018.06.04</td>\n",
       "      <td>2018.06.04</td>\n",
       "      <td>6299.0</td>\n",
       "    </tr>\n",
       "  </tbody>\n",
       "</table>\n",
       "</div>"
      ],
      "text/plain": [
       "  case_number         date    year        type    country             area  \\\n",
       "0  2018.06.25  25-Jun-2018  2018.0     Boating        USA       California   \n",
       "1  2018.06.18  18-Jun-2018  2018.0  Unprovoked        USA          Georgia   \n",
       "2  2018.06.09  09-Jun-2018  2018.0     Invalid        USA           Hawaii   \n",
       "3  2018.06.08  08-Jun-2018  2018.0  Unprovoked  AUSTRALIA  New South Wales   \n",
       "4  2018.06.04  04-Jun-2018  2018.0    Provoked     MEXICO           Colima   \n",
       "\n",
       "                         location     activity             name sex  age  \\\n",
       "0     Oceanside, San Diego County     Paddling      Julie Wolfe   F   57   \n",
       "1  St. Simon Island, Glynn County     Standing  Adyson McNeely    F   11   \n",
       "2                    Habush, Oahu      Surfing      John Denges   M   48   \n",
       "3              Arrawarra Headland      Surfing             male   M  NaN   \n",
       "4                        La Ticla  Free diving   Gustavo Ramos    M  NaN   \n",
       "\n",
       "                                              injury fatal_yn           time  \\\n",
       "0  No injury to occupant, outrigger canoe and pad...        N          18h00   \n",
       "1                         Minor injury to left thigh        N  14h00  -15h00   \n",
       "2       Injury to left lower leg from surfboard skeg        N          07h45   \n",
       "3                          Minor injury to lower leg        N            NaN   \n",
       "4  Lacerations to leg & hand shark PROVOKED INCIDENT        N            NaN   \n",
       "\n",
       "           species          investigator_or_source                       pdf  \\\n",
       "0      White shark                R. Collier, GSAF      2018.06.25-Wolfe.pdf   \n",
       "1              NaN  K.McMurray, TrackingSharks.com    2018.06.18-McNeely.pdf   \n",
       "2              NaN  K.McMurray, TrackingSharks.com     2018.06.09-Denges.pdf   \n",
       "3        2 m shark                  B. Myatt, GSAF  2018.06.08-Arrawarra.pdf   \n",
       "4  Tiger shark, 3m                       A .Kipper      2018.06.04-Ramos.pdf   \n",
       "\n",
       "                                        href_formula  \\\n",
       "0  http://sharkattackfile.net/spreadsheets/pdf_di...   \n",
       "1  http://sharkattackfile.net/spreadsheets/pdf_di...   \n",
       "2  http://sharkattackfile.net/spreadsheets/pdf_di...   \n",
       "3  http://sharkattackfile.net/spreadsheets/pdf_di...   \n",
       "4  http://sharkattackfile.net/spreadsheets/pdf_di...   \n",
       "\n",
       "                                                href case_number1  \\\n",
       "0  http://sharkattackfile.net/spreadsheets/pdf_di...   2018.06.25   \n",
       "1  http://sharkattackfile.net/spreadsheets/pdf_di...   2018.06.18   \n",
       "2  http://sharkattackfile.net/spreadsheets/pdf_di...   2018.06.09   \n",
       "3  http://sharkattackfile.net/spreadsheets/pdf_di...   2018.06.08   \n",
       "4  http://sharkattackfile.net/spreadsheets/pdf_di...   2018.06.04   \n",
       "\n",
       "  case_number2  original_order  \n",
       "0   2018.06.25          6303.0  \n",
       "1   2018.06.18          6302.0  \n",
       "2   2018.06.09          6301.0  \n",
       "3   2018.06.08          6300.0  \n",
       "4   2018.06.04          6299.0  "
      ]
     },
     "execution_count": 8,
     "metadata": {},
     "output_type": "execute_result"
    }
   ],
   "source": [
    "attacks.head()"
   ]
  },
  {
   "cell_type": "code",
   "execution_count": 195,
   "id": "273c2212",
   "metadata": {
    "ExecuteTime": {
     "end_time": "2022-06-14T14:00:04.961282Z",
     "start_time": "2022-06-14T14:00:04.899618Z"
    }
   },
   "outputs": [
    {
     "data": {
      "text/plain": [
       "(6302, 24)"
      ]
     },
     "execution_count": 195,
     "metadata": {},
     "output_type": "execute_result"
    }
   ],
   "source": [
    "attacks.shape"
   ]
  },
  {
   "cell_type": "code",
   "execution_count": 10,
   "id": "b01a8ca6",
   "metadata": {
    "ExecuteTime": {
     "end_time": "2022-06-14T04:05:59.785666Z",
     "start_time": "2022-06-14T04:05:59.713249Z"
    },
    "scrolled": true
   },
   "outputs": [
    {
     "name": "stdout",
     "output_type": "stream",
     "text": [
      "<class 'pandas.core.frame.DataFrame'>\n",
      "RangeIndex: 25723 entries, 0 to 25722\n",
      "Data columns (total 22 columns):\n",
      " #   Column                  Non-Null Count  Dtype  \n",
      "---  ------                  --------------  -----  \n",
      " 0   case_number             8702 non-null   object \n",
      " 1   date                    6302 non-null   object \n",
      " 2   year                    6300 non-null   float64\n",
      " 3   type                    6298 non-null   object \n",
      " 4   country                 6252 non-null   object \n",
      " 5   area                    5847 non-null   object \n",
      " 6   location                5762 non-null   object \n",
      " 7   activity                5758 non-null   object \n",
      " 8   name                    6092 non-null   object \n",
      " 9   sex                     5737 non-null   object \n",
      " 10  age                     3471 non-null   object \n",
      " 11  injury                  6274 non-null   object \n",
      " 12  fatal_yn                5763 non-null   object \n",
      " 13  time                    2948 non-null   object \n",
      " 14  species                 3464 non-null   object \n",
      " 15  investigator_or_source  6285 non-null   object \n",
      " 16  pdf                     6302 non-null   object \n",
      " 17  href_formula            6301 non-null   object \n",
      " 18  href                    6302 non-null   object \n",
      " 19  case_number1            6302 non-null   object \n",
      " 20  case_number2            6302 non-null   object \n",
      " 21  original_order          6309 non-null   float64\n",
      "dtypes: float64(2), object(20)\n",
      "memory usage: 4.3+ MB\n"
     ]
    }
   ],
   "source": [
    "attacks.info()"
   ]
  },
  {
   "cell_type": "code",
   "execution_count": 11,
   "id": "41376c84",
   "metadata": {
    "ExecuteTime": {
     "end_time": "2022-06-14T04:05:59.851719Z",
     "start_time": "2022-06-14T04:05:59.787205Z"
    }
   },
   "outputs": [],
   "source": [
    "#drop na com thresh igual numero de colunas\n",
    "attacks.dropna(thresh=3,inplace=True)\n",
    "#6302 rows × 22 columns"
   ]
  },
  {
   "cell_type": "markdown",
   "id": "833a06ec",
   "metadata": {
    "ExecuteTime": {
     "end_time": "2022-06-13T18:28:16.012523Z",
     "start_time": "2022-06-13T18:28:15.977694Z"
    }
   },
   "source": [
    "# Existem atividades que mais provocam os tubaroes?"
   ]
  },
  {
   "cell_type": "markdown",
   "id": "7956cd40",
   "metadata": {},
   "source": [
    "## Limpeza de coluna type"
   ]
  },
  {
   "cell_type": "code",
   "execution_count": 66,
   "id": "58b9182b",
   "metadata": {
    "ExecuteTime": {
     "end_time": "2022-06-14T04:12:17.803689Z",
     "start_time": "2022-06-14T04:12:17.798061Z"
    }
   },
   "outputs": [
    {
     "data": {
      "text/plain": [
       "array(['Watercraft', 'Unprovoked', 'Questionable', 'Provoked',\n",
       "       'Sea Disaster', 'nan'], dtype=object)"
      ]
     },
     "execution_count": 66,
     "metadata": {},
     "output_type": "execute_result"
    }
   ],
   "source": [
    "attacks.loc[:,'type'].unique()\n",
    "\n",
    "#padronizando com informacoes do site"
   ]
  },
  {
   "cell_type": "code",
   "execution_count": 13,
   "id": "27b317b4",
   "metadata": {
    "ExecuteTime": {
     "end_time": "2022-06-14T04:05:59.884472Z",
     "start_time": "2022-06-14T04:05:59.860825Z"
    },
    "scrolled": true
   },
   "outputs": [
    {
     "data": {
      "text/html": [
       "<div>\n",
       "<style scoped>\n",
       "    .dataframe tbody tr th:only-of-type {\n",
       "        vertical-align: middle;\n",
       "    }\n",
       "\n",
       "    .dataframe tbody tr th {\n",
       "        vertical-align: top;\n",
       "    }\n",
       "\n",
       "    .dataframe thead th {\n",
       "        text-align: right;\n",
       "    }\n",
       "</style>\n",
       "<table border=\"1\" class=\"dataframe\">\n",
       "  <thead>\n",
       "    <tr style=\"text-align: right;\">\n",
       "      <th></th>\n",
       "      <th>case_number</th>\n",
       "      <th>date</th>\n",
       "      <th>year</th>\n",
       "      <th>type</th>\n",
       "      <th>country</th>\n",
       "      <th>area</th>\n",
       "      <th>location</th>\n",
       "      <th>activity</th>\n",
       "      <th>name</th>\n",
       "      <th>sex</th>\n",
       "      <th>age</th>\n",
       "      <th>injury</th>\n",
       "      <th>fatal_yn</th>\n",
       "      <th>time</th>\n",
       "      <th>species</th>\n",
       "      <th>investigator_or_source</th>\n",
       "      <th>pdf</th>\n",
       "      <th>href_formula</th>\n",
       "      <th>href</th>\n",
       "      <th>case_number1</th>\n",
       "      <th>case_number2</th>\n",
       "      <th>original_order</th>\n",
       "    </tr>\n",
       "  </thead>\n",
       "  <tbody>\n",
       "    <tr>\n",
       "      <th>0</th>\n",
       "      <td>2018.06.25</td>\n",
       "      <td>25-Jun-2018</td>\n",
       "      <td>2018.0</td>\n",
       "      <td>Boating</td>\n",
       "      <td>USA</td>\n",
       "      <td>California</td>\n",
       "      <td>Oceanside, San Diego County</td>\n",
       "      <td>Paddling</td>\n",
       "      <td>Julie Wolfe</td>\n",
       "      <td>F</td>\n",
       "      <td>57</td>\n",
       "      <td>No injury to occupant, outrigger canoe and pad...</td>\n",
       "      <td>N</td>\n",
       "      <td>18h00</td>\n",
       "      <td>White shark</td>\n",
       "      <td>R. Collier, GSAF</td>\n",
       "      <td>2018.06.25-Wolfe.pdf</td>\n",
       "      <td>http://sharkattackfile.net/spreadsheets/pdf_di...</td>\n",
       "      <td>http://sharkattackfile.net/spreadsheets/pdf_di...</td>\n",
       "      <td>2018.06.25</td>\n",
       "      <td>2018.06.25</td>\n",
       "      <td>6303.0</td>\n",
       "    </tr>\n",
       "    <tr>\n",
       "      <th>1</th>\n",
       "      <td>2018.06.18</td>\n",
       "      <td>18-Jun-2018</td>\n",
       "      <td>2018.0</td>\n",
       "      <td>Unprovoked</td>\n",
       "      <td>USA</td>\n",
       "      <td>Georgia</td>\n",
       "      <td>St. Simon Island, Glynn County</td>\n",
       "      <td>Standing</td>\n",
       "      <td>Adyson McNeely</td>\n",
       "      <td>F</td>\n",
       "      <td>11</td>\n",
       "      <td>Minor injury to left thigh</td>\n",
       "      <td>N</td>\n",
       "      <td>14h00  -15h00</td>\n",
       "      <td>NaN</td>\n",
       "      <td>K.McMurray, TrackingSharks.com</td>\n",
       "      <td>2018.06.18-McNeely.pdf</td>\n",
       "      <td>http://sharkattackfile.net/spreadsheets/pdf_di...</td>\n",
       "      <td>http://sharkattackfile.net/spreadsheets/pdf_di...</td>\n",
       "      <td>2018.06.18</td>\n",
       "      <td>2018.06.18</td>\n",
       "      <td>6302.0</td>\n",
       "    </tr>\n",
       "    <tr>\n",
       "      <th>2</th>\n",
       "      <td>2018.06.09</td>\n",
       "      <td>09-Jun-2018</td>\n",
       "      <td>2018.0</td>\n",
       "      <td>Invalid</td>\n",
       "      <td>USA</td>\n",
       "      <td>Hawaii</td>\n",
       "      <td>Habush, Oahu</td>\n",
       "      <td>Surfing</td>\n",
       "      <td>John Denges</td>\n",
       "      <td>M</td>\n",
       "      <td>48</td>\n",
       "      <td>Injury to left lower leg from surfboard skeg</td>\n",
       "      <td>N</td>\n",
       "      <td>07h45</td>\n",
       "      <td>NaN</td>\n",
       "      <td>K.McMurray, TrackingSharks.com</td>\n",
       "      <td>2018.06.09-Denges.pdf</td>\n",
       "      <td>http://sharkattackfile.net/spreadsheets/pdf_di...</td>\n",
       "      <td>http://sharkattackfile.net/spreadsheets/pdf_di...</td>\n",
       "      <td>2018.06.09</td>\n",
       "      <td>2018.06.09</td>\n",
       "      <td>6301.0</td>\n",
       "    </tr>\n",
       "    <tr>\n",
       "      <th>3</th>\n",
       "      <td>2018.06.08</td>\n",
       "      <td>08-Jun-2018</td>\n",
       "      <td>2018.0</td>\n",
       "      <td>Unprovoked</td>\n",
       "      <td>AUSTRALIA</td>\n",
       "      <td>New South Wales</td>\n",
       "      <td>Arrawarra Headland</td>\n",
       "      <td>Surfing</td>\n",
       "      <td>male</td>\n",
       "      <td>M</td>\n",
       "      <td>NaN</td>\n",
       "      <td>Minor injury to lower leg</td>\n",
       "      <td>N</td>\n",
       "      <td>NaN</td>\n",
       "      <td>2 m shark</td>\n",
       "      <td>B. Myatt, GSAF</td>\n",
       "      <td>2018.06.08-Arrawarra.pdf</td>\n",
       "      <td>http://sharkattackfile.net/spreadsheets/pdf_di...</td>\n",
       "      <td>http://sharkattackfile.net/spreadsheets/pdf_di...</td>\n",
       "      <td>2018.06.08</td>\n",
       "      <td>2018.06.08</td>\n",
       "      <td>6300.0</td>\n",
       "    </tr>\n",
       "    <tr>\n",
       "      <th>4</th>\n",
       "      <td>2018.06.04</td>\n",
       "      <td>04-Jun-2018</td>\n",
       "      <td>2018.0</td>\n",
       "      <td>Provoked</td>\n",
       "      <td>MEXICO</td>\n",
       "      <td>Colima</td>\n",
       "      <td>La Ticla</td>\n",
       "      <td>Free diving</td>\n",
       "      <td>Gustavo Ramos</td>\n",
       "      <td>M</td>\n",
       "      <td>NaN</td>\n",
       "      <td>Lacerations to leg &amp; hand shark PROVOKED INCIDENT</td>\n",
       "      <td>N</td>\n",
       "      <td>NaN</td>\n",
       "      <td>Tiger shark, 3m</td>\n",
       "      <td>A .Kipper</td>\n",
       "      <td>2018.06.04-Ramos.pdf</td>\n",
       "      <td>http://sharkattackfile.net/spreadsheets/pdf_di...</td>\n",
       "      <td>http://sharkattackfile.net/spreadsheets/pdf_di...</td>\n",
       "      <td>2018.06.04</td>\n",
       "      <td>2018.06.04</td>\n",
       "      <td>6299.0</td>\n",
       "    </tr>\n",
       "    <tr>\n",
       "      <th>...</th>\n",
       "      <td>...</td>\n",
       "      <td>...</td>\n",
       "      <td>...</td>\n",
       "      <td>...</td>\n",
       "      <td>...</td>\n",
       "      <td>...</td>\n",
       "      <td>...</td>\n",
       "      <td>...</td>\n",
       "      <td>...</td>\n",
       "      <td>...</td>\n",
       "      <td>...</td>\n",
       "      <td>...</td>\n",
       "      <td>...</td>\n",
       "      <td>...</td>\n",
       "      <td>...</td>\n",
       "      <td>...</td>\n",
       "      <td>...</td>\n",
       "      <td>...</td>\n",
       "      <td>...</td>\n",
       "      <td>...</td>\n",
       "      <td>...</td>\n",
       "      <td>...</td>\n",
       "    </tr>\n",
       "    <tr>\n",
       "      <th>6297</th>\n",
       "      <td>ND.0005</td>\n",
       "      <td>Before 1903</td>\n",
       "      <td>0.0</td>\n",
       "      <td>Unprovoked</td>\n",
       "      <td>AUSTRALIA</td>\n",
       "      <td>Western Australia</td>\n",
       "      <td>Roebuck Bay</td>\n",
       "      <td>Diving</td>\n",
       "      <td>male</td>\n",
       "      <td>M</td>\n",
       "      <td>NaN</td>\n",
       "      <td>FATAL</td>\n",
       "      <td>Y</td>\n",
       "      <td>NaN</td>\n",
       "      <td>NaN</td>\n",
       "      <td>H. Taunton; N. Bartlett,  p. 234</td>\n",
       "      <td>ND-0005-RoebuckBay.pdf</td>\n",
       "      <td>http://sharkattackfile.net/spreadsheets/pdf_di...</td>\n",
       "      <td>http://sharkattackfile.net/spreadsheets/pdf_di...</td>\n",
       "      <td>ND.0005</td>\n",
       "      <td>ND.0005</td>\n",
       "      <td>6.0</td>\n",
       "    </tr>\n",
       "    <tr>\n",
       "      <th>6298</th>\n",
       "      <td>ND.0004</td>\n",
       "      <td>Before 1903</td>\n",
       "      <td>0.0</td>\n",
       "      <td>Unprovoked</td>\n",
       "      <td>AUSTRALIA</td>\n",
       "      <td>Western Australia</td>\n",
       "      <td>NaN</td>\n",
       "      <td>Pearl diving</td>\n",
       "      <td>Ahmun</td>\n",
       "      <td>M</td>\n",
       "      <td>NaN</td>\n",
       "      <td>FATAL</td>\n",
       "      <td>Y</td>\n",
       "      <td>NaN</td>\n",
       "      <td>NaN</td>\n",
       "      <td>H. Taunton; N. Bartlett,  pp. 233-234</td>\n",
       "      <td>ND-0004-Ahmun.pdf</td>\n",
       "      <td>http://sharkattackfile.net/spreadsheets/pdf_di...</td>\n",
       "      <td>http://sharkattackfile.net/spreadsheets/pdf_di...</td>\n",
       "      <td>ND.0004</td>\n",
       "      <td>ND.0004</td>\n",
       "      <td>5.0</td>\n",
       "    </tr>\n",
       "    <tr>\n",
       "      <th>6299</th>\n",
       "      <td>ND.0003</td>\n",
       "      <td>1900-1905</td>\n",
       "      <td>0.0</td>\n",
       "      <td>Unprovoked</td>\n",
       "      <td>USA</td>\n",
       "      <td>North Carolina</td>\n",
       "      <td>Ocracoke Inlet</td>\n",
       "      <td>Swimming</td>\n",
       "      <td>Coast Guard personnel</td>\n",
       "      <td>M</td>\n",
       "      <td>NaN</td>\n",
       "      <td>FATAL</td>\n",
       "      <td>Y</td>\n",
       "      <td>NaN</td>\n",
       "      <td>NaN</td>\n",
       "      <td>F. Schwartz, p.23; C. Creswell, GSAF</td>\n",
       "      <td>ND-0003-Ocracoke_1900-1905.pdf</td>\n",
       "      <td>http://sharkattackfile.net/spreadsheets/pdf_di...</td>\n",
       "      <td>http://sharkattackfile.net/spreadsheets/pdf_di...</td>\n",
       "      <td>ND.0003</td>\n",
       "      <td>ND.0003</td>\n",
       "      <td>4.0</td>\n",
       "    </tr>\n",
       "    <tr>\n",
       "      <th>6300</th>\n",
       "      <td>ND.0002</td>\n",
       "      <td>1883-1889</td>\n",
       "      <td>0.0</td>\n",
       "      <td>Unprovoked</td>\n",
       "      <td>PANAMA</td>\n",
       "      <td>NaN</td>\n",
       "      <td>Panama Bay 8ºN, 79ºW</td>\n",
       "      <td>NaN</td>\n",
       "      <td>Jules Patterson</td>\n",
       "      <td>M</td>\n",
       "      <td>NaN</td>\n",
       "      <td>FATAL</td>\n",
       "      <td>Y</td>\n",
       "      <td>NaN</td>\n",
       "      <td>NaN</td>\n",
       "      <td>The Sun, 10/20/1938</td>\n",
       "      <td>ND-0002-JulesPatterson.pdf</td>\n",
       "      <td>http://sharkattackfile.net/spreadsheets/pdf_di...</td>\n",
       "      <td>http://sharkattackfile.net/spreadsheets/pdf_di...</td>\n",
       "      <td>ND.0002</td>\n",
       "      <td>ND.0002</td>\n",
       "      <td>3.0</td>\n",
       "    </tr>\n",
       "    <tr>\n",
       "      <th>6301</th>\n",
       "      <td>ND.0001</td>\n",
       "      <td>1845-1853</td>\n",
       "      <td>0.0</td>\n",
       "      <td>Unprovoked</td>\n",
       "      <td>CEYLON (SRI LANKA)</td>\n",
       "      <td>Eastern Province</td>\n",
       "      <td>Below the English fort, Trincomalee</td>\n",
       "      <td>Swimming</td>\n",
       "      <td>male</td>\n",
       "      <td>M</td>\n",
       "      <td>15</td>\n",
       "      <td>FATAL. \"Shark bit him in half, carrying away t...</td>\n",
       "      <td>Y</td>\n",
       "      <td>NaN</td>\n",
       "      <td>NaN</td>\n",
       "      <td>S.W. Baker</td>\n",
       "      <td>ND-0001-Ceylon.pdf</td>\n",
       "      <td>http://sharkattackfile.net/spreadsheets/pdf_di...</td>\n",
       "      <td>http://sharkattackfile.net/spreadsheets/pdf_di...</td>\n",
       "      <td>ND.0001</td>\n",
       "      <td>ND.0001</td>\n",
       "      <td>2.0</td>\n",
       "    </tr>\n",
       "  </tbody>\n",
       "</table>\n",
       "<p>6302 rows × 22 columns</p>\n",
       "</div>"
      ],
      "text/plain": [
       "     case_number         date    year        type             country  \\\n",
       "0     2018.06.25  25-Jun-2018  2018.0     Boating                 USA   \n",
       "1     2018.06.18  18-Jun-2018  2018.0  Unprovoked                 USA   \n",
       "2     2018.06.09  09-Jun-2018  2018.0     Invalid                 USA   \n",
       "3     2018.06.08  08-Jun-2018  2018.0  Unprovoked           AUSTRALIA   \n",
       "4     2018.06.04  04-Jun-2018  2018.0    Provoked              MEXICO   \n",
       "...          ...          ...     ...         ...                 ...   \n",
       "6297     ND.0005  Before 1903     0.0  Unprovoked           AUSTRALIA   \n",
       "6298     ND.0004  Before 1903     0.0  Unprovoked           AUSTRALIA   \n",
       "6299     ND.0003    1900-1905     0.0  Unprovoked                 USA   \n",
       "6300     ND.0002    1883-1889     0.0  Unprovoked              PANAMA   \n",
       "6301     ND.0001    1845-1853     0.0  Unprovoked  CEYLON (SRI LANKA)   \n",
       "\n",
       "                   area                             location      activity  \\\n",
       "0            California          Oceanside, San Diego County      Paddling   \n",
       "1               Georgia       St. Simon Island, Glynn County      Standing   \n",
       "2                Hawaii                         Habush, Oahu       Surfing   \n",
       "3       New South Wales                   Arrawarra Headland       Surfing   \n",
       "4                Colima                             La Ticla   Free diving   \n",
       "...                 ...                                  ...           ...   \n",
       "6297  Western Australia                          Roebuck Bay        Diving   \n",
       "6298  Western Australia                                  NaN  Pearl diving   \n",
       "6299     North Carolina                       Ocracoke Inlet      Swimming   \n",
       "6300                NaN                 Panama Bay 8ºN, 79ºW           NaN   \n",
       "6301   Eastern Province  Below the English fort, Trincomalee      Swimming   \n",
       "\n",
       "                       name sex  age  \\\n",
       "0               Julie Wolfe   F   57   \n",
       "1           Adyson McNeely    F   11   \n",
       "2               John Denges   M   48   \n",
       "3                      male   M  NaN   \n",
       "4            Gustavo Ramos    M  NaN   \n",
       "...                     ...  ..  ...   \n",
       "6297                   male   M  NaN   \n",
       "6298                  Ahmun   M  NaN   \n",
       "6299  Coast Guard personnel   M  NaN   \n",
       "6300        Jules Patterson   M  NaN   \n",
       "6301                   male   M   15   \n",
       "\n",
       "                                                 injury fatal_yn  \\\n",
       "0     No injury to occupant, outrigger canoe and pad...        N   \n",
       "1                            Minor injury to left thigh        N   \n",
       "2          Injury to left lower leg from surfboard skeg        N   \n",
       "3                             Minor injury to lower leg        N   \n",
       "4     Lacerations to leg & hand shark PROVOKED INCIDENT        N   \n",
       "...                                                 ...      ...   \n",
       "6297                                              FATAL        Y   \n",
       "6298                                              FATAL        Y   \n",
       "6299                                              FATAL        Y   \n",
       "6300                                              FATAL        Y   \n",
       "6301  FATAL. \"Shark bit him in half, carrying away t...        Y   \n",
       "\n",
       "               time          species                 investigator_or_source  \\\n",
       "0             18h00      White shark                       R. Collier, GSAF   \n",
       "1     14h00  -15h00              NaN         K.McMurray, TrackingSharks.com   \n",
       "2             07h45              NaN         K.McMurray, TrackingSharks.com   \n",
       "3               NaN        2 m shark                         B. Myatt, GSAF   \n",
       "4               NaN  Tiger shark, 3m                              A .Kipper   \n",
       "...             ...              ...                                    ...   \n",
       "6297            NaN              NaN       H. Taunton; N. Bartlett,  p. 234   \n",
       "6298            NaN              NaN  H. Taunton; N. Bartlett,  pp. 233-234   \n",
       "6299            NaN              NaN   F. Schwartz, p.23; C. Creswell, GSAF   \n",
       "6300            NaN              NaN                    The Sun, 10/20/1938   \n",
       "6301            NaN              NaN                             S.W. Baker   \n",
       "\n",
       "                                 pdf  \\\n",
       "0               2018.06.25-Wolfe.pdf   \n",
       "1             2018.06.18-McNeely.pdf   \n",
       "2              2018.06.09-Denges.pdf   \n",
       "3           2018.06.08-Arrawarra.pdf   \n",
       "4               2018.06.04-Ramos.pdf   \n",
       "...                              ...   \n",
       "6297          ND-0005-RoebuckBay.pdf   \n",
       "6298               ND-0004-Ahmun.pdf   \n",
       "6299  ND-0003-Ocracoke_1900-1905.pdf   \n",
       "6300      ND-0002-JulesPatterson.pdf   \n",
       "6301              ND-0001-Ceylon.pdf   \n",
       "\n",
       "                                           href_formula  \\\n",
       "0     http://sharkattackfile.net/spreadsheets/pdf_di...   \n",
       "1     http://sharkattackfile.net/spreadsheets/pdf_di...   \n",
       "2     http://sharkattackfile.net/spreadsheets/pdf_di...   \n",
       "3     http://sharkattackfile.net/spreadsheets/pdf_di...   \n",
       "4     http://sharkattackfile.net/spreadsheets/pdf_di...   \n",
       "...                                                 ...   \n",
       "6297  http://sharkattackfile.net/spreadsheets/pdf_di...   \n",
       "6298  http://sharkattackfile.net/spreadsheets/pdf_di...   \n",
       "6299  http://sharkattackfile.net/spreadsheets/pdf_di...   \n",
       "6300  http://sharkattackfile.net/spreadsheets/pdf_di...   \n",
       "6301  http://sharkattackfile.net/spreadsheets/pdf_di...   \n",
       "\n",
       "                                                   href case_number1  \\\n",
       "0     http://sharkattackfile.net/spreadsheets/pdf_di...   2018.06.25   \n",
       "1     http://sharkattackfile.net/spreadsheets/pdf_di...   2018.06.18   \n",
       "2     http://sharkattackfile.net/spreadsheets/pdf_di...   2018.06.09   \n",
       "3     http://sharkattackfile.net/spreadsheets/pdf_di...   2018.06.08   \n",
       "4     http://sharkattackfile.net/spreadsheets/pdf_di...   2018.06.04   \n",
       "...                                                 ...          ...   \n",
       "6297  http://sharkattackfile.net/spreadsheets/pdf_di...      ND.0005   \n",
       "6298  http://sharkattackfile.net/spreadsheets/pdf_di...      ND.0004   \n",
       "6299  http://sharkattackfile.net/spreadsheets/pdf_di...      ND.0003   \n",
       "6300  http://sharkattackfile.net/spreadsheets/pdf_di...      ND.0002   \n",
       "6301  http://sharkattackfile.net/spreadsheets/pdf_di...      ND.0001   \n",
       "\n",
       "     case_number2  original_order  \n",
       "0      2018.06.25          6303.0  \n",
       "1      2018.06.18          6302.0  \n",
       "2      2018.06.09          6301.0  \n",
       "3      2018.06.08          6300.0  \n",
       "4      2018.06.04          6299.0  \n",
       "...           ...             ...  \n",
       "6297      ND.0005             6.0  \n",
       "6298      ND.0004             5.0  \n",
       "6299      ND.0003             4.0  \n",
       "6300      ND.0002             3.0  \n",
       "6301      ND.0001             2.0  \n",
       "\n",
       "[6302 rows x 22 columns]"
      ]
     },
     "execution_count": 13,
     "metadata": {},
     "output_type": "execute_result"
    }
   ],
   "source": [
    "attacks"
   ]
  },
  {
   "cell_type": "code",
   "execution_count": 14,
   "id": "f8448baf",
   "metadata": {
    "ExecuteTime": {
     "end_time": "2022-06-14T04:05:59.899527Z",
     "start_time": "2022-06-14T04:05:59.886472Z"
    }
   },
   "outputs": [],
   "source": [
    "def boat_to_watercraft(type):\n",
    "    '''transformar todos os tipos boat para watercraft'''\n",
    "    return re.sub('Boat[\\w]*', 'Watercraft',str(type))\n",
    "\n",
    "attacks['type'] = attacks['type'].apply(boat_to_watercraft)"
   ]
  },
  {
   "cell_type": "code",
   "execution_count": 15,
   "id": "886e53e8",
   "metadata": {
    "ExecuteTime": {
     "end_time": "2022-06-14T04:05:59.913047Z",
     "start_time": "2022-06-14T04:05:59.902427Z"
    }
   },
   "outputs": [],
   "source": [
    "def invalid_to_questionable(x):\n",
    "    '''transformar todos os tipos invalidos para questionaveis'''\n",
    "    return re.sub('Invalid', 'Questionable',str(x))\n",
    "\n",
    "attacks['type'] = attacks['type'].apply(invalid_to_questionable)"
   ]
  },
  {
   "cell_type": "code",
   "execution_count": 16,
   "id": "857dceaf",
   "metadata": {
    "ExecuteTime": {
     "end_time": "2022-06-14T04:05:59.936052Z",
     "start_time": "2022-06-14T04:05:59.915192Z"
    },
    "scrolled": false
   },
   "outputs": [
    {
     "data": {
      "text/html": [
       "<div>\n",
       "<style scoped>\n",
       "    .dataframe tbody tr th:only-of-type {\n",
       "        vertical-align: middle;\n",
       "    }\n",
       "\n",
       "    .dataframe tbody tr th {\n",
       "        vertical-align: top;\n",
       "    }\n",
       "\n",
       "    .dataframe thead th {\n",
       "        text-align: right;\n",
       "    }\n",
       "</style>\n",
       "<table border=\"1\" class=\"dataframe\">\n",
       "  <thead>\n",
       "    <tr style=\"text-align: right;\">\n",
       "      <th></th>\n",
       "      <th>case_number</th>\n",
       "      <th>date</th>\n",
       "      <th>year</th>\n",
       "      <th>type</th>\n",
       "      <th>country</th>\n",
       "      <th>area</th>\n",
       "      <th>location</th>\n",
       "      <th>activity</th>\n",
       "      <th>name</th>\n",
       "      <th>sex</th>\n",
       "      <th>age</th>\n",
       "      <th>injury</th>\n",
       "      <th>fatal_yn</th>\n",
       "      <th>time</th>\n",
       "      <th>species</th>\n",
       "      <th>investigator_or_source</th>\n",
       "      <th>pdf</th>\n",
       "      <th>href_formula</th>\n",
       "      <th>href</th>\n",
       "      <th>case_number1</th>\n",
       "      <th>case_number2</th>\n",
       "      <th>original_order</th>\n",
       "    </tr>\n",
       "  </thead>\n",
       "  <tbody>\n",
       "    <tr>\n",
       "      <th>85</th>\n",
       "      <td>2017.09.15.a</td>\n",
       "      <td>15-Sep-2017</td>\n",
       "      <td>2017.0</td>\n",
       "      <td>nan</td>\n",
       "      <td>SAMOA</td>\n",
       "      <td>Upolu Island</td>\n",
       "      <td>Nofoalii</td>\n",
       "      <td>Fishing</td>\n",
       "      <td>male</td>\n",
       "      <td>M</td>\n",
       "      <td>NaN</td>\n",
       "      <td>Injuries to hands and legs</td>\n",
       "      <td>N</td>\n",
       "      <td>Night</td>\n",
       "      <td>NaN</td>\n",
       "      <td>Samoa Observer, 9/16/2017</td>\n",
       "      <td>2017.09.15.a-Samoa.pdf</td>\n",
       "      <td>http://sharkattackfile.net/spreadsheets/pdf_di...</td>\n",
       "      <td>http://sharkattackfile.net/spreadsheets/pdf_di...</td>\n",
       "      <td>2017.09.15.a</td>\n",
       "      <td>2017.09.15.a</td>\n",
       "      <td>6218.0</td>\n",
       "    </tr>\n",
       "    <tr>\n",
       "      <th>382</th>\n",
       "      <td>2015.07.27</td>\n",
       "      <td>27-Jul-2015</td>\n",
       "      <td>2015.0</td>\n",
       "      <td>nan</td>\n",
       "      <td>AUSTRALIA</td>\n",
       "      <td>Victoria</td>\n",
       "      <td>Tyrendarra Beach</td>\n",
       "      <td>Surfing</td>\n",
       "      <td>male</td>\n",
       "      <td>M</td>\n",
       "      <td>40</td>\n",
       "      <td>Injury to hand</td>\n",
       "      <td>NaN</td>\n",
       "      <td>NaN</td>\n",
       "      <td>NaN</td>\n",
       "      <td>NaN</td>\n",
       "      <td>2015.07.27-Victoria.pdf</td>\n",
       "      <td>http://sharkattackfile.net/spreadsheets/pdf_di...</td>\n",
       "      <td>http://sharkattackfile.net/spreadsheets/pdf_di...</td>\n",
       "      <td>2015.07.27</td>\n",
       "      <td>2015.07.27</td>\n",
       "      <td>5921.0</td>\n",
       "    </tr>\n",
       "    <tr>\n",
       "      <th>4867</th>\n",
       "      <td>1936.09.11.R</td>\n",
       "      <td>Reported 11-Sep-1936</td>\n",
       "      <td>1936.0</td>\n",
       "      <td>nan</td>\n",
       "      <td>VIETNAM</td>\n",
       "      <td>NaN</td>\n",
       "      <td>Saigon</td>\n",
       "      <td>Wreck of a sampam</td>\n",
       "      <td>8 crew</td>\n",
       "      <td>M</td>\n",
       "      <td>NaN</td>\n",
       "      <td>FATAL</td>\n",
       "      <td>Y</td>\n",
       "      <td>NaN</td>\n",
       "      <td>NaN</td>\n",
       "      <td>Lansing State Journal, 9/11/1936</td>\n",
       "      <td>1936.09.11-Saigon.pdf</td>\n",
       "      <td>http://sharkattackfile.net/spreadsheets/pdf_di...</td>\n",
       "      <td>http://sharkattackfile.net/spreadsheets/pdf_di...</td>\n",
       "      <td>1936.09.11.R</td>\n",
       "      <td>1936.09.11.R</td>\n",
       "      <td>1436.0</td>\n",
       "    </tr>\n",
       "    <tr>\n",
       "      <th>5705</th>\n",
       "      <td>1890.03.03.R</td>\n",
       "      <td>Reported 03-Mar-1890</td>\n",
       "      <td>1890.0</td>\n",
       "      <td>nan</td>\n",
       "      <td>CEYLON</td>\n",
       "      <td>NaN</td>\n",
       "      <td>NaN</td>\n",
       "      <td>Diving</td>\n",
       "      <td>a pearl diver</td>\n",
       "      <td>M</td>\n",
       "      <td>NaN</td>\n",
       "      <td>FATAL</td>\n",
       "      <td>Y</td>\n",
       "      <td>NaN</td>\n",
       "      <td>NaN</td>\n",
       "      <td>The Guardian, 3/3/1890</td>\n",
       "      <td>1890.03.03.R-Ceylon.pdf</td>\n",
       "      <td>http://sharkattackfile.net/spreadsheets/pdf_di...</td>\n",
       "      <td>http://sharkattackfile.net/spreadsheets/pdf_di...</td>\n",
       "      <td>1890.03.03.R</td>\n",
       "      <td>1890.03.03.R</td>\n",
       "      <td>598.0</td>\n",
       "    </tr>\n",
       "  </tbody>\n",
       "</table>\n",
       "</div>"
      ],
      "text/plain": [
       "       case_number                  date    year type    country  \\\n",
       "85    2017.09.15.a           15-Sep-2017  2017.0  nan      SAMOA   \n",
       "382     2015.07.27           27-Jul-2015  2015.0  nan  AUSTRALIA   \n",
       "4867  1936.09.11.R  Reported 11-Sep-1936  1936.0  nan    VIETNAM   \n",
       "5705  1890.03.03.R  Reported 03-Mar-1890  1890.0  nan     CEYLON   \n",
       "\n",
       "               area          location           activity           name sex  \\\n",
       "85     Upolu Island         Nofoalii            Fishing           male   M   \n",
       "382        Victoria  Tyrendarra Beach            Surfing           male   M   \n",
       "4867            NaN            Saigon  Wreck of a sampam         8 crew   M   \n",
       "5705            NaN               NaN             Diving  a pearl diver   M   \n",
       "\n",
       "      age                      injury fatal_yn   time species  \\\n",
       "85    NaN  Injuries to hands and legs        N  Night     NaN   \n",
       "382    40              Injury to hand      NaN    NaN     NaN   \n",
       "4867  NaN                       FATAL        Y    NaN     NaN   \n",
       "5705  NaN                       FATAL        Y    NaN     NaN   \n",
       "\n",
       "                investigator_or_source                      pdf  \\\n",
       "85           Samoa Observer, 9/16/2017   2017.09.15.a-Samoa.pdf   \n",
       "382                                NaN  2015.07.27-Victoria.pdf   \n",
       "4867  Lansing State Journal, 9/11/1936    1936.09.11-Saigon.pdf   \n",
       "5705            The Guardian, 3/3/1890  1890.03.03.R-Ceylon.pdf   \n",
       "\n",
       "                                           href_formula  \\\n",
       "85    http://sharkattackfile.net/spreadsheets/pdf_di...   \n",
       "382   http://sharkattackfile.net/spreadsheets/pdf_di...   \n",
       "4867  http://sharkattackfile.net/spreadsheets/pdf_di...   \n",
       "5705  http://sharkattackfile.net/spreadsheets/pdf_di...   \n",
       "\n",
       "                                                   href  case_number1  \\\n",
       "85    http://sharkattackfile.net/spreadsheets/pdf_di...  2017.09.15.a   \n",
       "382   http://sharkattackfile.net/spreadsheets/pdf_di...    2015.07.27   \n",
       "4867  http://sharkattackfile.net/spreadsheets/pdf_di...  1936.09.11.R   \n",
       "5705  http://sharkattackfile.net/spreadsheets/pdf_di...  1890.03.03.R   \n",
       "\n",
       "      case_number2  original_order  \n",
       "85    2017.09.15.a          6218.0  \n",
       "382     2015.07.27          5921.0  \n",
       "4867  1936.09.11.R          1436.0  \n",
       "5705  1890.03.03.R           598.0  "
      ]
     },
     "execution_count": 16,
     "metadata": {},
     "output_type": "execute_result"
    }
   ],
   "source": [
    "attacks[attacks['type'] == 'nan']\n",
    "#não tratei, pois não há como saber. apenas 4 valores"
   ]
  },
  {
   "cell_type": "markdown",
   "id": "a97983c5",
   "metadata": {},
   "source": [
    "## Limpeza de coluna activity"
   ]
  },
  {
   "cell_type": "code",
   "execution_count": null,
   "id": "c7c256df",
   "metadata": {},
   "outputs": [],
   "source": [
    "'Surfing'|'Fishing'|'Swimming'|'Diving'|'Wading'|'Bathing'|'Standing'|'Boating'|'Snorkeling'|'Fell in water'| 'Floating','Paddling'"
   ]
  },
  {
   "cell_type": "code",
   "execution_count": 182,
   "id": "d4a18089",
   "metadata": {
    "ExecuteTime": {
     "end_time": "2022-06-14T12:46:29.503124Z",
     "start_time": "2022-06-14T12:46:29.497982Z"
    }
   },
   "outputs": [],
   "source": [
    "#funcao para identificar os diferentes tipos de atividades para padronizar valores\n",
    "def find_activity(x):\n",
    "    y = re.findall(\"Surfing|Fishing|Swimming|Diving|Non defined|Wading|Bathing|Standing|Boating|Snorkeling|Fell in water|Floating|Paddling\", str(x),re.I)\n",
    "    if len(y)>0:\n",
    "        return y\n",
    "    else:\n",
    "        return \"\""
   ]
  },
  {
   "cell_type": "code",
   "execution_count": 183,
   "id": "73566683",
   "metadata": {
    "ExecuteTime": {
     "end_time": "2022-06-14T12:46:44.466703Z",
     "start_time": "2022-06-14T12:46:44.434639Z"
    }
   },
   "outputs": [],
   "source": [
    "mask = attacks['activity'].apply(find_activity)==\"\""
   ]
  },
  {
   "cell_type": "code",
   "execution_count": 20,
   "id": "099d4e39",
   "metadata": {
    "ExecuteTime": {
     "end_time": "2022-06-14T04:06:00.064882Z",
     "start_time": "2022-06-14T04:06:00.003847Z"
    },
    "cell_style": "split"
   },
   "outputs": [],
   "source": [
    "def standing_sub(x):\n",
    "    return re.sub('.*[Ss]tand.*','Standing', str(x))\n",
    "\n",
    "attacks['activity'] = attacks['activity'].apply(standing_sub)"
   ]
  },
  {
   "cell_type": "code",
   "execution_count": 21,
   "id": "1f856484",
   "metadata": {
    "ExecuteTime": {
     "end_time": "2022-06-14T04:06:00.235066Z",
     "start_time": "2022-06-14T04:06:00.068001Z"
    },
    "cell_style": "split"
   },
   "outputs": [],
   "source": [
    "#Canoeing, Rowing, Kayaing, Sailing, Boating\n",
    "def boating_sub(x):\n",
    "    return re.sub('.*[Ss]aili.*|.*[Bb]oating.*|.*[Cc]anoe.*|.*[Rr]owi.*|.*[Kk]ayak.*','Boating', str(x))\n",
    "\n",
    "attacks['activity'] = attacks['activity'].apply(boating_sub)"
   ]
  },
  {
   "cell_type": "code",
   "execution_count": 22,
   "id": "d8f91d0b",
   "metadata": {
    "ExecuteTime": {
     "end_time": "2022-06-14T04:06:00.304971Z",
     "start_time": "2022-06-14T04:06:00.236621Z"
    },
    "cell_style": "split"
   },
   "outputs": [],
   "source": [
    "def wading_sub(x):\n",
    "    return re.sub('.*[Ww]alk.*|.*[Ww]ading.*','Wading', str(x))\n",
    "\n",
    "attacks['activity'] = attacks['activity'].apply(wading_sub)"
   ]
  },
  {
   "cell_type": "code",
   "execution_count": 23,
   "id": "2efb1f77",
   "metadata": {
    "ExecuteTime": {
     "end_time": "2022-06-14T04:06:00.345330Z",
     "start_time": "2022-06-14T04:06:00.306551Z"
    },
    "cell_style": "split"
   },
   "outputs": [],
   "source": [
    "def bath_sub(x):\n",
    "    return re.sub('.*[Bb]ath.*','Bathing', str(x))\n",
    "\n",
    "attacks['activity'] = attacks['activity'].apply(bath_sub)"
   ]
  },
  {
   "cell_type": "code",
   "execution_count": 24,
   "id": "d03d0d2e",
   "metadata": {
    "ExecuteTime": {
     "end_time": "2022-06-14T04:06:00.466164Z",
     "start_time": "2022-06-14T04:06:00.347454Z"
    },
    "cell_style": "split"
   },
   "outputs": [],
   "source": [
    "def surf_sub(x):\n",
    "    return re.sub('.*[Ss]urf.*|.*[Bb]oogie.*|.*[Bb]ody[ -]?[Bb].*|.*[Kk]ite[ -]?[Bb].*','Surfing', str(x))\n",
    "\n",
    "attacks['activity'] = attacks['activity'].apply(surf_sub)"
   ]
  },
  {
   "cell_type": "code",
   "execution_count": 25,
   "id": "5e24a20a",
   "metadata": {
    "ExecuteTime": {
     "end_time": "2022-06-14T04:06:00.505168Z",
     "start_time": "2022-06-14T04:06:00.467762Z"
    },
    "cell_style": "split"
   },
   "outputs": [],
   "source": [
    "def snorkel_sub(x):\n",
    "    return re.sub('.*[Ss]nork.*','Snorkeling', str(x))\n",
    "\n",
    "attacks['activity'] = attacks['activity'].apply(snorkel_sub)"
   ]
  },
  {
   "cell_type": "code",
   "execution_count": 26,
   "id": "8e6af6da",
   "metadata": {
    "ExecuteTime": {
     "end_time": "2022-06-14T04:06:00.538200Z",
     "start_time": "2022-06-14T04:06:00.506631Z"
    },
    "cell_style": "split"
   },
   "outputs": [],
   "source": [
    "def fishing_sub(x):\n",
    "    return re.sub('.*[Ff]ish.*','Fishing', str(x))\n",
    "\n",
    "attacks['activity'] = attacks['activity'].apply(fishing_sub)"
   ]
  },
  {
   "cell_type": "code",
   "execution_count": 27,
   "id": "b6a5d1d8",
   "metadata": {
    "ExecuteTime": {
     "end_time": "2022-06-14T04:06:00.571578Z",
     "start_time": "2022-06-14T04:06:00.539616Z"
    },
    "cell_style": "split"
   },
   "outputs": [],
   "source": [
    "def paddle_sub(x):\n",
    "    return re.sub('.*[Pp]addl.*','Paddling', str(x))\n",
    "\n",
    "attacks['activity'] = attacks['activity'].apply(paddle_sub)"
   ]
  },
  {
   "cell_type": "code",
   "execution_count": 29,
   "id": "4a35ed64",
   "metadata": {
    "ExecuteTime": {
     "end_time": "2022-06-14T04:06:00.660057Z",
     "start_time": "2022-06-14T04:06:00.613566Z"
    },
    "cell_style": "split"
   },
   "outputs": [],
   "source": [
    "def swim_sub(x):\n",
    "    return re.sub('.*[Ss]wim.*|.*[Tt]read.*','Swimming', str(x))\n",
    "\n",
    "attacks['activity'] = attacks['activity'].apply(swim_sub)"
   ]
  },
  {
   "cell_type": "code",
   "execution_count": 30,
   "id": "c1395901",
   "metadata": {
    "ExecuteTime": {
     "end_time": "2022-06-14T04:06:00.688312Z",
     "start_time": "2022-06-14T04:06:00.662079Z"
    },
    "cell_style": "split"
   },
   "outputs": [],
   "source": [
    "def diving_sub(x):\n",
    "    return re.sub('.*[Dd]iv.*','Diving', str(x))\n",
    "\n",
    "attacks['activity'] = attacks['activity'].apply(diving_sub)"
   ]
  },
  {
   "cell_type": "code",
   "execution_count": 31,
   "id": "75c59810",
   "metadata": {
    "ExecuteTime": {
     "end_time": "2022-06-14T04:06:00.715963Z",
     "start_time": "2022-06-14T04:06:00.690021Z"
    },
    "cell_style": "split"
   },
   "outputs": [],
   "source": [
    "def fellinwater_sub(x):\n",
    "    return re.sub('.*[Ff]ell.*','Fell in water', str(x))\n",
    "\n",
    "attacks['activity'] = attacks['activity'].apply(fellinwater_sub)"
   ]
  },
  {
   "cell_type": "code",
   "execution_count": 32,
   "id": "fe7e095e",
   "metadata": {
    "ExecuteTime": {
     "end_time": "2022-06-14T04:06:00.743989Z",
     "start_time": "2022-06-14T04:06:00.717793Z"
    },
    "cell_style": "split"
   },
   "outputs": [],
   "source": [
    "def floting_sub(x):\n",
    "    return re.sub('.*[Ff]loat.*','Floating', str(x))\n",
    "    return re.sub('.*[Tt]read.*','Floating', str(x))\n",
    "\n",
    "attacks['activity'] = attacks['activity'].apply(floting_sub)"
   ]
  },
  {
   "cell_type": "code",
   "execution_count": 158,
   "id": "fc6bb602",
   "metadata": {
    "ExecuteTime": {
     "end_time": "2022-06-14T12:20:32.718683Z",
     "start_time": "2022-06-14T12:20:32.707509Z"
    },
    "cell_style": "split"
   },
   "outputs": [],
   "source": [
    "def nan_sub(x):\n",
    "    return re.sub('nan','Non defined', str(x))\n",
    "\n",
    "attacks['activity'] = attacks['activity'].apply(nan_sub)"
   ]
  },
  {
   "cell_type": "code",
   "execution_count": 186,
   "id": "a4e67c1f",
   "metadata": {
    "ExecuteTime": {
     "end_time": "2022-06-14T12:51:36.228875Z",
     "start_time": "2022-06-14T12:51:36.172164Z"
    },
    "cell_style": "split"
   },
   "outputs": [],
   "source": [
    "def shark_sub(x):\n",
    "    return re.sub('.*[Ss]hark.*','Messing with sharks', str(x))\n",
    "\n",
    "attacks['activity'] = attacks['activity'].apply(shark_sub)"
   ]
  },
  {
   "cell_type": "code",
   "execution_count": null,
   "id": "19d7011b",
   "metadata": {},
   "outputs": [],
   "source": [
    "#Colocar dentro de uma funcao\n",
    "dicionario chaves = padroes\n",
    "valores = substituica"
   ]
  },
  {
   "cell_type": "code",
   "execution_count": null,
   "id": "22226aeb",
   "metadata": {},
   "outputs": [],
   "source": [
    "def acticity_sub(x, dictionary):\n",
    "    for key, value in dictionary.items():\n",
    "        y = re.sub(key,value, str(x))\n",
    "        if x != y:\n",
    "            return y\n",
    "    return x\n",
    "    \n",
    "\n",
    "attacks['activity'] = attacks['activity'].apply(shark_sub)"
   ]
  },
  {
   "cell_type": "markdown",
   "id": "be0bfd13",
   "metadata": {},
   "source": [
    "### Correlação entre atividade e tipo de ocorrencia"
   ]
  },
  {
   "cell_type": "code",
   "execution_count": 199,
   "id": "af056e88",
   "metadata": {
    "ExecuteTime": {
     "end_time": "2022-06-14T14:48:31.886699Z",
     "start_time": "2022-06-14T14:48:31.867632Z"
    }
   },
   "outputs": [
    {
     "data": {
      "text/html": [
       "<div>\n",
       "<style scoped>\n",
       "    .dataframe tbody tr th:only-of-type {\n",
       "        vertical-align: middle;\n",
       "    }\n",
       "\n",
       "    .dataframe tbody tr th {\n",
       "        vertical-align: top;\n",
       "    }\n",
       "\n",
       "    .dataframe thead th {\n",
       "        text-align: right;\n",
       "    }\n",
       "</style>\n",
       "<table border=\"1\" class=\"dataframe\">\n",
       "  <thead>\n",
       "    <tr style=\"text-align: right;\">\n",
       "      <th></th>\n",
       "      <th>activity</th>\n",
       "    </tr>\n",
       "  </thead>\n",
       "  <tbody>\n",
       "    <tr>\n",
       "      <th>Surfing</th>\n",
       "      <td>21.723262</td>\n",
       "    </tr>\n",
       "    <tr>\n",
       "      <th>Fishing</th>\n",
       "      <td>18.121231</td>\n",
       "    </tr>\n",
       "    <tr>\n",
       "      <th>Swimming</th>\n",
       "      <td>17.597588</td>\n",
       "    </tr>\n",
       "    <tr>\n",
       "      <th>Non defined</th>\n",
       "      <td>8.632180</td>\n",
       "    </tr>\n",
       "    <tr>\n",
       "      <th>Diving</th>\n",
       "      <td>8.108537</td>\n",
       "    </tr>\n",
       "    <tr>\n",
       "      <th>Wading</th>\n",
       "      <td>3.284672</td>\n",
       "    </tr>\n",
       "    <tr>\n",
       "      <th>Bathing</th>\n",
       "      <td>3.030784</td>\n",
       "    </tr>\n",
       "    <tr>\n",
       "      <th>Standing</th>\n",
       "      <td>2.475405</td>\n",
       "    </tr>\n",
       "    <tr>\n",
       "      <th>Boating</th>\n",
       "      <td>2.300857</td>\n",
       "    </tr>\n",
       "    <tr>\n",
       "      <th>Messing with sharks</th>\n",
       "      <td>1.904157</td>\n",
       "    </tr>\n",
       "  </tbody>\n",
       "</table>\n",
       "</div>"
      ],
      "text/plain": [
       "                      activity\n",
       "Surfing              21.723262\n",
       "Fishing              18.121231\n",
       "Swimming             17.597588\n",
       "Non defined           8.632180\n",
       "Diving                8.108537\n",
       "Wading                3.284672\n",
       "Bathing               3.030784\n",
       "Standing              2.475405\n",
       "Boating               2.300857\n",
       "Messing with sharks   1.904157"
      ]
     },
     "execution_count": 199,
     "metadata": {},
     "output_type": "execute_result"
    }
   ],
   "source": [
    "pd.DataFrame(attacks['activity'].value_counts(normalize=True).head(10)*100)\n",
    "#geral- comparativo"
   ]
  },
  {
   "cell_type": "markdown",
   "id": "8d56ccec",
   "metadata": {
    "cell_style": "split"
   },
   "source": [
    "As atividades da pesca são as mais que mais provocam os tubarões por diversos motivos. \n",
    "Alguns deles são:\n",
    "1. A própria caça aos tubarões\n",
    "2. Os tubarões são atraídos por peixes já pescados pelos nadadores\n",
    "3. A autodefesa da pessoa quando se vê em meio dos tubarões."
   ]
  },
  {
   "cell_type": "code",
   "execution_count": 200,
   "id": "d6559e6a",
   "metadata": {
    "ExecuteTime": {
     "end_time": "2022-06-14T14:49:33.765442Z",
     "start_time": "2022-06-14T14:49:33.751747Z"
    },
    "cell_style": "split",
    "scrolled": true
   },
   "outputs": [
    {
     "data": {
      "text/html": [
       "<div>\n",
       "<style scoped>\n",
       "    .dataframe tbody tr th:only-of-type {\n",
       "        vertical-align: middle;\n",
       "    }\n",
       "\n",
       "    .dataframe tbody tr th {\n",
       "        vertical-align: top;\n",
       "    }\n",
       "\n",
       "    .dataframe thead th {\n",
       "        text-align: right;\n",
       "    }\n",
       "</style>\n",
       "<table border=\"1\" class=\"dataframe\">\n",
       "  <thead>\n",
       "    <tr style=\"text-align: right;\">\n",
       "      <th></th>\n",
       "      <th>activity</th>\n",
       "    </tr>\n",
       "  </thead>\n",
       "  <tbody>\n",
       "    <tr>\n",
       "      <th>Fishing</th>\n",
       "      <td>54.878049</td>\n",
       "    </tr>\n",
       "    <tr>\n",
       "      <th>Messing with sharks</th>\n",
       "      <td>14.111498</td>\n",
       "    </tr>\n",
       "    <tr>\n",
       "      <th>Diving</th>\n",
       "      <td>7.839721</td>\n",
       "    </tr>\n",
       "    <tr>\n",
       "      <th>Non defined</th>\n",
       "      <td>6.097561</td>\n",
       "    </tr>\n",
       "    <tr>\n",
       "      <th>Surfing</th>\n",
       "      <td>3.658537</td>\n",
       "    </tr>\n",
       "    <tr>\n",
       "      <th>Wading</th>\n",
       "      <td>2.090592</td>\n",
       "    </tr>\n",
       "    <tr>\n",
       "      <th>Boating</th>\n",
       "      <td>1.916376</td>\n",
       "    </tr>\n",
       "    <tr>\n",
       "      <th>Swimming</th>\n",
       "      <td>1.916376</td>\n",
       "    </tr>\n",
       "    <tr>\n",
       "      <th>Standing</th>\n",
       "      <td>1.742160</td>\n",
       "    </tr>\n",
       "    <tr>\n",
       "      <th>Snorkeling</th>\n",
       "      <td>0.871080</td>\n",
       "    </tr>\n",
       "  </tbody>\n",
       "</table>\n",
       "</div>"
      ],
      "text/plain": [
       "                      activity\n",
       "Fishing              54.878049\n",
       "Messing with sharks  14.111498\n",
       "Diving                7.839721\n",
       "Non defined           6.097561\n",
       "Surfing               3.658537\n",
       "Wading                2.090592\n",
       "Boating               1.916376\n",
       "Swimming              1.916376\n",
       "Standing              1.742160\n",
       "Snorkeling            0.871080"
      ]
     },
     "execution_count": 200,
     "metadata": {},
     "output_type": "execute_result"
    }
   ],
   "source": [
    "#ocorrencias provocadas\n",
    "provoked = attacks['type']=='Provoked'\n",
    "pd.DataFrame(attacks[provoked]['activity'].value_counts(normalize=True).head(10)*100)"
   ]
  },
  {
   "cell_type": "code",
   "execution_count": 169,
   "id": "c5554bd0",
   "metadata": {
    "ExecuteTime": {
     "end_time": "2022-06-14T12:22:29.430649Z",
     "start_time": "2022-06-14T12:22:29.416886Z"
    },
    "cell_style": "split",
    "scrolled": true
   },
   "outputs": [
    {
     "data": {
      "text/plain": [
       "Surfing        28.008705\n",
       "Swimming       21.175190\n",
       "Fishing        12.383025\n",
       "Diving          8.835691\n",
       "Non defined     7.225245\n",
       "Name: activity, dtype: float64"
      ]
     },
     "execution_count": 169,
     "metadata": {},
     "output_type": "execute_result"
    }
   ],
   "source": [
    "#ocorrencias nao-provocadas\n",
    "unprovoked = attacks['type']=='Unprovoked'\n",
    "attacks[unprovoked]['activity'].value_counts(normalize=True).head()*100"
   ]
  },
  {
   "cell_type": "code",
   "execution_count": 170,
   "id": "76906a4a",
   "metadata": {
    "ExecuteTime": {
     "end_time": "2022-06-14T12:22:30.895540Z",
     "start_time": "2022-06-14T12:22:30.883115Z"
    },
    "cell_style": "split"
   },
   "outputs": [
    {
     "data": {
      "text/plain": [
       "Fishing           49.560117\n",
       "Boating           24.633431\n",
       "Non defined       12.903226\n",
       "Boat               1.466276\n",
       "Shark watching     0.879765\n",
       "Name: activity, dtype: float64"
      ]
     },
     "execution_count": 170,
     "metadata": {},
     "output_type": "execute_result"
    }
   ],
   "source": [
    "#ocorrencias embarcacao\n",
    "watercraft = attacks['type']=='Watercraft'\n",
    "attacks[watercraft]['activity'].value_counts(normalize=True).head()*100"
   ]
  },
  {
   "cell_type": "markdown",
   "id": "0979b951",
   "metadata": {
    "ExecuteTime": {
     "end_time": "2022-06-14T02:51:25.067726Z",
     "start_time": "2022-06-14T02:51:25.064998Z"
    }
   },
   "source": [
    "## Limpeza da coluna Fatal"
   ]
  },
  {
   "cell_type": "code",
   "execution_count": 176,
   "id": "bfadedad",
   "metadata": {
    "ExecuteTime": {
     "end_time": "2022-06-14T12:31:56.411770Z",
     "start_time": "2022-06-14T12:31:56.402870Z"
    }
   },
   "outputs": [
    {
     "data": {
      "text/plain": [
       "array(['N', 'Y', 'UNKNOWN'], dtype=object)"
      ]
     },
     "execution_count": 176,
     "metadata": {},
     "output_type": "execute_result"
    }
   ],
   "source": [
    "attacks['fatal_yn'].unique()"
   ]
  },
  {
   "cell_type": "code",
   "execution_count": 60,
   "id": "fa010a19",
   "metadata": {
    "ExecuteTime": {
     "end_time": "2022-06-14T04:09:22.889026Z",
     "start_time": "2022-06-14T04:09:22.884911Z"
    }
   },
   "outputs": [],
   "source": [
    "#troca manual de valores\n",
    "attacks.loc[5427,'fatal_yn']='Y'\n",
    "attacks.loc[285,'fatal_yn']='N'\n",
    "attacks.loc[786,'fatal_yn']='N'\n",
    "attacks.loc[6117,'fatal_yn']='Y'"
   ]
  },
  {
   "cell_type": "code",
   "execution_count": 61,
   "id": "6c1b2eed",
   "metadata": {
    "ExecuteTime": {
     "end_time": "2022-06-14T04:09:26.913536Z",
     "start_time": "2022-06-14T04:09:26.902431Z"
    }
   },
   "outputs": [],
   "source": [
    "#extrair o espaço do ' N'\n",
    "def extract_space(x):\n",
    "    return re.sub('\\sN','N',str(x))\n",
    "\n",
    "attacks['fatal_yn'] = attacks['fatal_yn'].apply(extract_space)"
   ]
  },
  {
   "cell_type": "code",
   "execution_count": 53,
   "id": "e6ae4f84",
   "metadata": {
    "ExecuteTime": {
     "end_time": "2022-06-14T04:07:53.854488Z",
     "start_time": "2022-06-14T04:07:53.724637Z"
    }
   },
   "outputs": [
    {
     "name": "stderr",
     "output_type": "stream",
     "text": [
      "/var/folders/z0/m6hpl5v16pb0dzc7hbw8lqlm0000gn/T/ipykernel_13153/967585704.py:2: FutureWarning: The default value of regex will change from True to False in a future version.\n",
      "  attacks['fatal_injuries'] = attacks['injury'].str.replace('.*[Ff][Aa][Tt][Aa][Ll].*','FATAL')\n"
     ]
    }
   ],
   "source": [
    "#nova coluna para identificar feridas FATAIS atraves da coluna injury\n",
    "attacks['fatal_injuries'] = attacks['injury'].str.replace('.*[Ff][Aa][Tt][Aa][Ll].*','FATAL')"
   ]
  },
  {
   "cell_type": "code",
   "execution_count": 43,
   "id": "bfd6b15a",
   "metadata": {
    "ExecuteTime": {
     "end_time": "2022-06-14T04:06:01.140375Z",
     "start_time": "2022-06-14T04:06:01.128504Z"
    }
   },
   "outputs": [],
   "source": [
    "#identificados os fatais, passar para a coluna fatal_yn como Y\n",
    "fatal_nan = attacks[(attacks['fatal_injuries']=='FATAL') & (attacks['fatal_yn']=='nan')]\n",
    "fatal_nan = fatal_nan['fatal_yn'].str.replace('nan','Y')\n",
    "attacks.loc[(attacks['fatal_injuries']=='FATAL') & (attacks['fatal_yn']=='nan'),'fatal_yn'] = fatal_nan"
   ]
  },
  {
   "cell_type": "code",
   "execution_count": 44,
   "id": "f6409fd7",
   "metadata": {
    "ExecuteTime": {
     "end_time": "2022-06-14T04:06:01.155984Z",
     "start_time": "2022-06-14T04:06:01.143860Z"
    }
   },
   "outputs": [],
   "source": [
    "#renomear os que não tinham FATAL para N\n",
    "attacks['fatal_yn'] = attacks['fatal_yn'].str.replace('nan','N')"
   ]
  },
  {
   "cell_type": "code",
   "execution_count": 64,
   "id": "9d4a64f3",
   "metadata": {
    "ExecuteTime": {
     "end_time": "2022-06-14T04:09:46.468608Z",
     "start_time": "2022-06-14T04:09:46.462609Z"
    },
    "scrolled": true
   },
   "outputs": [
    {
     "data": {
      "text/plain": [
       "N          4789\n",
       "Y          1442\n",
       "UNKNOWN      71\n",
       "Name: fatal_yn, dtype: int64"
      ]
     },
     "execution_count": 64,
     "metadata": {},
     "output_type": "execute_result"
    }
   ],
   "source": [
    "attacks['fatal_yn'].value_counts()"
   ]
  },
  {
   "cell_type": "markdown",
   "id": "53a1da63",
   "metadata": {
    "ExecuteTime": {
     "end_time": "2022-06-14T04:13:25.893383Z",
     "start_time": "2022-06-14T04:13:25.890337Z"
    }
   },
   "source": [
    "### Correlação entre tipo de ocorrencia e fatalidade"
   ]
  },
  {
   "cell_type": "code",
   "execution_count": 117,
   "id": "bd2faea0",
   "metadata": {
    "ExecuteTime": {
     "end_time": "2022-06-14T04:29:54.794114Z",
     "start_time": "2022-06-14T04:29:54.706006Z"
    }
   },
   "outputs": [],
   "source": [
    "def binary(x):\n",
    "    #booleano 1 = Fatal e 0 = Não fatal.\n",
    "    if x == 'Y':\n",
    "        return 1\n",
    "    elif x == 'N':\n",
    "        return 0\n",
    "    else:\n",
    "        return None\n",
    "\n",
    "attacks['fatal_binary']=attacks['fatal_yn'].apply(binary)\n"
   ]
  },
  {
   "cell_type": "code",
   "execution_count": 128,
   "id": "66894492",
   "metadata": {
    "ExecuteTime": {
     "end_time": "2022-06-14T12:08:15.732182Z",
     "start_time": "2022-06-14T12:08:15.718815Z"
    },
    "cell_style": "center"
   },
   "outputs": [],
   "source": [
    "type_fatal = attacks.loc[:,['type','fatal_binary']]\n",
    "type_fatal = type_fatal.groupby(by=['type']).agg(fatal_ocurrencies = ('fatal_binary',sum))"
   ]
  },
  {
   "cell_type": "code",
   "execution_count": 133,
   "id": "16b95de2",
   "metadata": {
    "ExecuteTime": {
     "end_time": "2022-06-14T12:09:49.556309Z",
     "start_time": "2022-06-14T12:09:49.532974Z"
    }
   },
   "outputs": [],
   "source": [
    "#adicionando coluna com o numero de ocorrencias totais por tipo\n",
    "type_fatal['total_ocurrencies'] = attacks.groupby(by='type').count()['activity'].astype(float)\n",
    "#adicionando coluna com proporcao de fatalidade com numero de ocorrencias\n",
    "type_fatal['fatal_proportion'] = type_fatal['fatal_ocurrencies']/type_fatal['total_ocurrencies']*100"
   ]
  },
  {
   "cell_type": "code",
   "execution_count": 172,
   "id": "ffb750da",
   "metadata": {
    "ExecuteTime": {
     "end_time": "2022-06-14T12:28:39.221647Z",
     "start_time": "2022-06-14T12:28:39.213322Z"
    },
    "cell_style": "split"
   },
   "outputs": [
    {
     "data": {
      "text/html": [
       "<div>\n",
       "<style scoped>\n",
       "    .dataframe tbody tr th:only-of-type {\n",
       "        vertical-align: middle;\n",
       "    }\n",
       "\n",
       "    .dataframe tbody tr th {\n",
       "        vertical-align: top;\n",
       "    }\n",
       "\n",
       "    .dataframe thead th {\n",
       "        text-align: right;\n",
       "    }\n",
       "</style>\n",
       "<table border=\"1\" class=\"dataframe\">\n",
       "  <thead>\n",
       "    <tr style=\"text-align: right;\">\n",
       "      <th></th>\n",
       "      <th>fatal_ocurrencies</th>\n",
       "      <th>total_ocurrencies</th>\n",
       "      <th>fatal_proportion</th>\n",
       "    </tr>\n",
       "    <tr>\n",
       "      <th>type</th>\n",
       "      <th></th>\n",
       "      <th></th>\n",
       "      <th></th>\n",
       "    </tr>\n",
       "  </thead>\n",
       "  <tbody>\n",
       "    <tr>\n",
       "      <th>Provoked</th>\n",
       "      <td>19.0</td>\n",
       "      <td>574.0</td>\n",
       "      <td>3.310105</td>\n",
       "    </tr>\n",
       "    <tr>\n",
       "      <th>Questionable</th>\n",
       "      <td>59.0</td>\n",
       "      <td>549.0</td>\n",
       "      <td>10.746812</td>\n",
       "    </tr>\n",
       "    <tr>\n",
       "      <th>Sea Disaster</th>\n",
       "      <td>168.0</td>\n",
       "      <td>239.0</td>\n",
       "      <td>70.292887</td>\n",
       "    </tr>\n",
       "    <tr>\n",
       "      <th>Unprovoked</th>\n",
       "      <td>1183.0</td>\n",
       "      <td>4595.0</td>\n",
       "      <td>25.745375</td>\n",
       "    </tr>\n",
       "    <tr>\n",
       "      <th>Watercraft</th>\n",
       "      <td>11.0</td>\n",
       "      <td>341.0</td>\n",
       "      <td>3.225806</td>\n",
       "    </tr>\n",
       "    <tr>\n",
       "      <th>nan</th>\n",
       "      <td>2.0</td>\n",
       "      <td>4.0</td>\n",
       "      <td>50.000000</td>\n",
       "    </tr>\n",
       "  </tbody>\n",
       "</table>\n",
       "</div>"
      ],
      "text/plain": [
       "              fatal_ocurrencies  total_ocurrencies  fatal_proportion\n",
       "type                                                                \n",
       "Provoked                   19.0              574.0          3.310105\n",
       "Questionable               59.0              549.0         10.746812\n",
       "Sea Disaster              168.0              239.0         70.292887\n",
       "Unprovoked               1183.0             4595.0         25.745375\n",
       "Watercraft                 11.0              341.0          3.225806\n",
       "nan                         2.0                4.0         50.000000"
      ]
     },
     "execution_count": 172,
     "metadata": {},
     "output_type": "execute_result"
    }
   ],
   "source": [
    "type_fatal"
   ]
  },
  {
   "cell_type": "markdown",
   "id": "06cc69d1",
   "metadata": {
    "cell_style": "split"
   },
   "source": [
    "Não existe uma correlação clara de que as feridas sejam mais letais quando o tubarão é provocado. As maiores ocorrências ocorrem quando o tipo de ocorrência se trata de um Sea Disaster. (não está muito explicito na documentação)\n",
    "\n",
    "Hipoteses\n",
    "passos para desenvolver as hipoteses\n",
    "fatalidade + atividade"
   ]
  },
  {
   "cell_type": "code",
   "execution_count": 204,
   "id": "8a425cc9",
   "metadata": {
    "ExecuteTime": {
     "end_time": "2022-06-14T15:26:47.626601Z",
     "start_time": "2022-06-14T15:26:47.502248Z"
    }
   },
   "outputs": [],
   "source": [
    "attacks.to_csv('attacks_clean.csv') "
   ]
  }
 ],
 "metadata": {
  "kernelspec": {
   "display_name": "Python 3 (ipykernel)",
   "language": "python",
   "name": "python3"
  },
  "language_info": {
   "codemirror_mode": {
    "name": "ipython",
    "version": 3
   },
   "file_extension": ".py",
   "mimetype": "text/x-python",
   "name": "python",
   "nbconvert_exporter": "python",
   "pygments_lexer": "ipython3",
   "version": "3.9.12"
  },
  "toc": {
   "base_numbering": 1,
   "nav_menu": {},
   "number_sections": true,
   "sideBar": true,
   "skip_h1_title": false,
   "title_cell": "Table of Contents",
   "title_sidebar": "Contents",
   "toc_cell": false,
   "toc_position": {},
   "toc_section_display": true,
   "toc_window_display": false
  },
  "varInspector": {
   "cols": {
    "lenName": 16,
    "lenType": 16,
    "lenVar": 40
   },
   "kernels_config": {
    "python": {
     "delete_cmd_postfix": "",
     "delete_cmd_prefix": "del ",
     "library": "var_list.py",
     "varRefreshCmd": "print(var_dic_list())"
    },
    "r": {
     "delete_cmd_postfix": ") ",
     "delete_cmd_prefix": "rm(",
     "library": "var_list.r",
     "varRefreshCmd": "cat(var_dic_list()) "
    }
   },
   "types_to_exclude": [
    "module",
    "function",
    "builtin_function_or_method",
    "instance",
    "_Feature"
   ],
   "window_display": false
  }
 },
 "nbformat": 4,
 "nbformat_minor": 5
}
