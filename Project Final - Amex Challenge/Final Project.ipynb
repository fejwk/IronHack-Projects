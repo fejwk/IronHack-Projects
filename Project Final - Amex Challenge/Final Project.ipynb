{
 "cells": [
  {
   "cell_type": "markdown",
   "id": "99317946",
   "metadata": {},
   "source": [
    "# Ironhack Final Project"
   ]
  },
  {
   "cell_type": "markdown",
   "id": "4dc1a842",
   "metadata": {},
   "source": [
    "The objective of this competition is to predict the probability that a customer does not pay back their credit card balance amount in the future based on their monthly customer profile. The target binary variable is calculated by observing 18 months performance window after the latest credit card statement, and if the customer does not pay due amount in 120 days after their latest statement date it is considered a default event.\n",
    "\n",
    "The dataset contains aggregated profile features for each customer at each statement date. Features are anonymized and normalized, and fall into the following general categories:\n",
    "\n",
    "D_* = Delinquency variables\n",
    "S_* = Spend variables\n",
    "P_* = Payment variables\n",
    "B_* = Balance variables\n",
    "R_* = Risk variables\n",
    "with the following features being categorical:\n",
    "\n",
    "['B_30', 'B_38', 'D_114', 'D_116', 'D_117', 'D_120', 'D_126', 'D_63', 'D_64', 'D_66', 'D_68']\n",
    "\n",
    "Your task is to predict, for each customer_ID, the probability of a future payment default (target = 1).\n",
    "\n",
    "Note that the negative class has been subsampled for this dataset at 5%, and thus receives a 20x weighting in the scoring metric.\n",
    "\n",
    "Files\n",
    "train_data.csv - training data with multiple statement dates per customer_ID\n",
    "train_labels.csv - target label for each customer_ID\n",
    "test_data.csv - corresponding test data; your objective is to predict the target label for each customer_ID\n",
    "sample_submission.csv - a sample submission file in the correct format"
   ]
  },
  {
   "cell_type": "markdown",
   "id": "15f99fa4",
   "metadata": {},
   "source": [
    "---"
   ]
  },
  {
   "cell_type": "markdown",
   "id": "43d4393f",
   "metadata": {},
   "source": [
    "The evaluation metric, 𝑀, for this competition is the mean of two measures of rank ordering: Normalized Gini Coefficient, 𝐺, and default rate captured at 4%, 𝐷.\n",
    "\n",
    "𝑀=0.5⋅(𝐺+𝐷)\n",
    "\n",
    "The default rate captured at 4% is the percentage of the positive labels (defaults) captured within the highest-ranked 4% of the predictions, and represents a Sensitivity/Recall statistic.\n",
    "\n",
    "For both of the sub-metrics 𝐺 and 𝐷, the negative labels are given a weight of 20 to adjust for downsampling.\n",
    "\n",
    "This metric has a maximum value of 1.0.\n",
    "\n",
    "Python code for calculating this metric can be found in this Notebook."
   ]
  },
  {
   "cell_type": "markdown",
   "id": "33593ac0",
   "metadata": {},
   "source": [
    "# Importing Libraries"
   ]
  },
  {
   "cell_type": "code",
   "execution_count": 1,
   "id": "6e52160b",
   "metadata": {
    "ExecuteTime": {
     "end_time": "2022-07-27T20:03:14.702201Z",
     "start_time": "2022-07-27T20:03:10.066658Z"
    }
   },
   "outputs": [],
   "source": [
    "import os\n",
    "import pandas as pd\n",
    "import numpy as np\n",
    "import seaborn as sns\n",
    "import matplotlib.pyplot as plt\n",
    "\n",
    "import dask.dataframe as dd\n",
    "import dask.array as da\n",
    "import dask.bag as db\n",
    "from dask_ml.decomposition import PCA\n",
    "from dask_ml.wrappers import Incremental\n",
    "from dask.dataframe import from_pandas\n",
    "\n",
    "from sklearn.linear_model import SGDClassifier\n",
    "from sklearn.metrics import plot_roc_curve"
   ]
  },
  {
   "cell_type": "markdown",
   "id": "3ed4e5c0",
   "metadata": {},
   "source": [
    "# Reading data"
   ]
  },
  {
   "cell_type": "markdown",
   "id": "37f1c8d2",
   "metadata": {},
   "source": [
    "## Train data"
   ]
  },
  {
   "cell_type": "code",
   "execution_count": null,
   "id": "e9ade152",
   "metadata": {
    "ExecuteTime": {
     "end_time": "2022-07-27T20:03:15.284869Z",
     "start_time": "2022-07-27T20:03:15.284835Z"
    }
   },
   "outputs": [],
   "source": [
    "amex_train_data = dd.read_csv('amex-default-prediction/train_data.csv',)"
   ]
  },
  {
   "cell_type": "code",
   "execution_count": 3,
   "id": "37b4b360",
   "metadata": {
    "ExecuteTime": {
     "end_time": "2022-07-27T13:41:05.375774Z",
     "start_time": "2022-07-27T13:38:55.231980Z"
    },
    "scrolled": false
   },
   "outputs": [],
   "source": [
    "#grouping by customer_ID pela média\n",
    "amex_train_unique_customers = amex_train_data.groupby(amex_train_data.customer_ID).mean().compute().reset_index()"
   ]
  },
  {
   "cell_type": "code",
   "execution_count": 17,
   "id": "17f09258",
   "metadata": {
    "ExecuteTime": {
     "end_time": "2022-07-27T14:05:18.352941Z",
     "start_time": "2022-07-27T14:05:17.724729Z"
    }
   },
   "outputs": [],
   "source": [
    "#sorting by customer_ID\n",
    "amex_train_unique_customers = amex_train_unique_customers.sort_values(by='customer_ID')"
   ]
  },
  {
   "cell_type": "code",
   "execution_count": 26,
   "id": "b8706ae8",
   "metadata": {
    "ExecuteTime": {
     "end_time": "2022-07-27T14:13:07.785091Z",
     "start_time": "2022-07-27T14:11:14.537190Z"
    }
   },
   "outputs": [],
   "source": [
    "amex_train_unique_customers.to_csv('amex-train-unique-customer.csv',index=False, chunksize=20000)"
   ]
  },
  {
   "cell_type": "code",
   "execution_count": 7,
   "id": "8cc3a155",
   "metadata": {
    "ExecuteTime": {
     "end_time": "2022-07-27T20:04:54.312259Z",
     "start_time": "2022-07-27T20:04:39.977930Z"
    }
   },
   "outputs": [],
   "source": [
    "amex_train_unique_customers = pd.read_csv('amex-train-unique-customer.csv')"
   ]
  },
  {
   "cell_type": "markdown",
   "id": "ff2b5b10",
   "metadata": {},
   "source": [
    "## Train Labels"
   ]
  },
  {
   "cell_type": "code",
   "execution_count": 9,
   "id": "077f196e",
   "metadata": {
    "ExecuteTime": {
     "end_time": "2022-07-27T20:05:05.259778Z",
     "start_time": "2022-07-27T20:05:05.242134Z"
    }
   },
   "outputs": [],
   "source": [
    "amex_labels = dd.read_csv('amex-default-prediction/train_labels.csv')"
   ]
  },
  {
   "cell_type": "code",
   "execution_count": 10,
   "id": "49b0bbc2",
   "metadata": {
    "ExecuteTime": {
     "end_time": "2022-07-27T20:05:07.808992Z",
     "start_time": "2022-07-27T20:05:07.800571Z"
    }
   },
   "outputs": [],
   "source": [
    "#sorting by customer_ID\n",
    "amex_labels = amex_labels.sort_values(by='customer_ID')"
   ]
  },
  {
   "cell_type": "markdown",
   "id": "1c9918f2",
   "metadata": {},
   "source": [
    "## Test data"
   ]
  },
  {
   "cell_type": "code",
   "execution_count": 11,
   "id": "d035d027",
   "metadata": {
    "ExecuteTime": {
     "end_time": "2022-07-27T20:05:10.358639Z",
     "start_time": "2022-07-27T20:05:10.300822Z"
    }
   },
   "outputs": [],
   "source": [
    "amex_test_data = dd.read_csv('amex-default-prediction/test_data.csv')"
   ]
  },
  {
   "cell_type": "code",
   "execution_count": 29,
   "id": "f654d667",
   "metadata": {
    "ExecuteTime": {
     "end_time": "2022-07-27T14:22:42.690298Z",
     "start_time": "2022-07-27T14:17:17.622996Z"
    }
   },
   "outputs": [],
   "source": [
    "#grouping by customer_ID pela média\n",
    "amex_test_unique_customers = amex_test_data.groupby(amex_test_data.customer_ID).mean().compute().reset_index()"
   ]
  },
  {
   "cell_type": "code",
   "execution_count": 33,
   "id": "bf4887a0",
   "metadata": {
    "ExecuteTime": {
     "end_time": "2022-07-27T14:29:10.470261Z",
     "start_time": "2022-07-27T14:29:04.479192Z"
    }
   },
   "outputs": [],
   "source": [
    "#sorting by customer_ID\n",
    "amex_test_unique_customers = amex_test_unique_customers.sort_values(by='customer_ID')"
   ]
  },
  {
   "cell_type": "code",
   "execution_count": 34,
   "id": "dba99c20",
   "metadata": {
    "ExecuteTime": {
     "end_time": "2022-07-27T14:33:18.894205Z",
     "start_time": "2022-07-27T14:29:28.585782Z"
    }
   },
   "outputs": [],
   "source": [
    "amex_test_unique_customers.to_csv('amex-test-unique-customer.csv',index=False, chunksize=20000)"
   ]
  },
  {
   "cell_type": "code",
   "execution_count": 12,
   "id": "c1be71b4",
   "metadata": {
    "ExecuteTime": {
     "end_time": "2022-07-27T20:05:44.698164Z",
     "start_time": "2022-07-27T20:05:13.174696Z"
    }
   },
   "outputs": [],
   "source": [
    "amex_test_unique_customers = pd.read_csv('amex-test-unique-customer.csv')"
   ]
  },
  {
   "cell_type": "markdown",
   "id": "8a286dfe",
   "metadata": {},
   "source": [
    "# One batch to use as example"
   ]
  },
  {
   "cell_type": "markdown",
   "id": "5a6e1c5a",
   "metadata": {},
   "source": [
    "## Treating null values"
   ]
  },
  {
   "cell_type": "markdown",
   "id": "486c100b",
   "metadata": {},
   "source": [
    "### Train data"
   ]
  },
  {
   "cell_type": "code",
   "execution_count": 13,
   "id": "fe65317b",
   "metadata": {
    "ExecuteTime": {
     "end_time": "2022-07-27T20:05:48.936147Z",
     "start_time": "2022-07-27T20:05:47.955661Z"
    }
   },
   "outputs": [],
   "source": [
    "train_null_columns = amex_train_unique_customers.isna().sum() #colunas com valores nulos\n",
    "train_nulls_above10 = train_null_columns[train_null_columns>(0.1*train_null_columns.max())] #mascara: colunas com mais de 10% dos dados nulos\n",
    "train_droplist = list(train_nulls_above10.index) #listando colunas com mais de 10% dos dados nulos"
   ]
  },
  {
   "cell_type": "code",
   "execution_count": 14,
   "id": "67441226",
   "metadata": {
    "ExecuteTime": {
     "end_time": "2022-07-27T20:05:53.491967Z",
     "start_time": "2022-07-27T20:05:51.679034Z"
    }
   },
   "outputs": [],
   "source": [
    "amex_null_cleaned = amex_train_unique_customers.drop(columns=train_droplist).dropna().reset_index(drop=True)"
   ]
  },
  {
   "cell_type": "markdown",
   "id": "b2dbd6f3",
   "metadata": {},
   "source": [
    "### Test data"
   ]
  },
  {
   "cell_type": "markdown",
   "id": "0c86e925",
   "metadata": {},
   "source": [
    "The same treatment from train data will be applied in test data"
   ]
  },
  {
   "cell_type": "code",
   "execution_count": 67,
   "id": "e4564d57",
   "metadata": {
    "ExecuteTime": {
     "end_time": "2022-07-27T20:32:14.076350Z",
     "start_time": "2022-07-27T20:32:09.838259Z"
    }
   },
   "outputs": [],
   "source": [
    "test_null_columns = amex_test_unique_customers.isna().sum() #colunas com valores nulos\n",
    "test_nulls_above10 = test_null_columns[test_null_columns>(0.1*test_null_columns.max())] #mascara: colunas com mais de 10% dos dados nulos\n",
    "test_droplist = list(test_nulls_above10.index) #listando colunas com mais de 10% dos dados nulos"
   ]
  },
  {
   "cell_type": "code",
   "execution_count": null,
   "id": "c4e32e51",
   "metadata": {
    "ExecuteTime": {
     "end_time": "2022-07-27T20:03:50.924045Z",
     "start_time": "2022-07-27T20:03:50.924016Z"
    }
   },
   "outputs": [],
   "source": [
    "amex_test_null_cleaned = amex_test_unique_customers.drop(columns=test_droplist).dropna().reset_index(drop=True)"
   ]
  },
  {
   "cell_type": "markdown",
   "id": "3b33b328",
   "metadata": {},
   "source": [
    "## Reducing dimensionality with PCA"
   ]
  },
  {
   "cell_type": "markdown",
   "id": "8a359ab4",
   "metadata": {},
   "source": [
    "### Train data"
   ]
  },
  {
   "cell_type": "code",
   "execution_count": 32,
   "id": "8cc466d2",
   "metadata": {
    "ExecuteTime": {
     "end_time": "2022-07-27T18:51:42.822919Z",
     "start_time": "2022-07-27T18:51:42.206539Z"
    },
    "scrolled": false
   },
   "outputs": [],
   "source": [
    "#drop target e seleção das numéricas\n",
    "X_train = amex_null_cleaned.drop(columns='customer_ID')"
   ]
  },
  {
   "cell_type": "code",
   "execution_count": null,
   "id": "6ca95446",
   "metadata": {},
   "outputs": [],
   "source": [
    "# tentar fazer o modelo sem o fit_partial PCA10 "
   ]
  },
  {
   "cell_type": "code",
   "execution_count": 33,
   "id": "978135f7",
   "metadata": {
    "ExecuteTime": {
     "end_time": "2022-07-27T18:51:52.602494Z",
     "start_time": "2022-07-27T18:51:49.080553Z"
    },
    "scrolled": false
   },
   "outputs": [],
   "source": [
    "# redução das variaveis para 10 componentes\n",
    "from sklearn.decomposition import PCA\n",
    "\n",
    "pca = PCA(10, svd_solver='randomized', random_state=7)\n",
    "X_pca = pca.fit_transform(X_train)"
   ]
  },
  {
   "cell_type": "code",
   "execution_count": 34,
   "id": "5ca34172",
   "metadata": {
    "ExecuteTime": {
     "end_time": "2022-07-27T18:51:57.924440Z",
     "start_time": "2022-07-27T18:51:57.921115Z"
    }
   },
   "outputs": [
    {
     "name": "stdout",
     "output_type": "stream",
     "text": [
      "original shape:    (395239, 150)\n",
      "transformed shape: (395239, 10)\n"
     ]
    }
   ],
   "source": [
    "print(\"original shape:   \", X_train.shape)\n",
    "print(\"transformed shape:\", X_pca.shape)"
   ]
  },
  {
   "cell_type": "code",
   "execution_count": 35,
   "id": "1653f79b",
   "metadata": {
    "ExecuteTime": {
     "end_time": "2022-07-27T18:52:03.012146Z",
     "start_time": "2022-07-27T18:52:03.007447Z"
    }
   },
   "outputs": [
    {
     "data": {
      "text/plain": [
       "array([0.34703789, 0.28165468, 0.08086514, 0.05085848, 0.04828262,\n",
       "       0.03557227, 0.02723053, 0.02213108, 0.01146657, 0.00763155])"
      ]
     },
     "execution_count": 35,
     "metadata": {},
     "output_type": "execute_result"
    }
   ],
   "source": [
    "pca.explained_variance_ratio_"
   ]
  },
  {
   "cell_type": "code",
   "execution_count": 36,
   "id": "967cbf3d",
   "metadata": {
    "ExecuteTime": {
     "end_time": "2022-07-27T18:52:08.092551Z",
     "start_time": "2022-07-27T18:52:08.088404Z"
    },
    "cell_style": "split"
   },
   "outputs": [
    {
     "data": {
      "text/plain": [
       "0.9127308150138991"
      ]
     },
     "execution_count": 36,
     "metadata": {},
     "output_type": "execute_result"
    }
   ],
   "source": [
    "# com 10 componentes mantemos 91% das informações\n",
    "pca.explained_variance_ratio_.sum()"
   ]
  },
  {
   "cell_type": "code",
   "execution_count": 37,
   "id": "b586c49e",
   "metadata": {
    "ExecuteTime": {
     "end_time": "2022-07-27T18:52:13.364130Z",
     "start_time": "2022-07-27T18:52:13.263331Z"
    },
    "cell_style": "split"
   },
   "outputs": [
    {
     "data": {
      "text/plain": [
       "[<matplotlib.lines.Line2D at 0x7fb0f5650880>]"
      ]
     },
     "execution_count": 37,
     "metadata": {},
     "output_type": "execute_result"
    },
    {
     "data": {
      "image/png": "[encoded data removed]",
      "text/plain": [
       "<Figure size 432x288 with 1 Axes>"
      ]
     },
     "metadata": {
      "needs_background": "light"
     },
     "output_type": "display_data"
    }
   ],
   "source": [
    "plt.plot(np.cumsum(pca.explained_variance_ratio_),)"
   ]
  },
  {
   "cell_type": "code",
   "execution_count": 52,
   "id": "4a4d137c",
   "metadata": {
    "ExecuteTime": {
     "end_time": "2022-07-27T18:56:06.279454Z",
     "start_time": "2022-07-27T18:56:06.263358Z"
    },
    "scrolled": false
   },
   "outputs": [
    {
     "data": {
      "text/html": [
       "<div>\n",
       "<style scoped>\n",
       "    .dataframe tbody tr th:only-of-type {\n",
       "        vertical-align: middle;\n",
       "    }\n",
       "\n",
       "    .dataframe tbody tr th {\n",
       "        vertical-align: top;\n",
       "    }\n",
       "\n",
       "    .dataframe thead th {\n",
       "        text-align: right;\n",
       "    }\n",
       "</style>\n",
       "<table border=\"1\" class=\"dataframe\">\n",
       "  <thead>\n",
       "    <tr style=\"text-align: right;\">\n",
       "      <th></th>\n",
       "      <th>pc1</th>\n",
       "      <th>pc2</th>\n",
       "      <th>pc3</th>\n",
       "      <th>pc4</th>\n",
       "      <th>pc5</th>\n",
       "      <th>pc6</th>\n",
       "      <th>pc7</th>\n",
       "      <th>pc8</th>\n",
       "      <th>pc9</th>\n",
       "      <th>pc10</th>\n",
       "    </tr>\n",
       "  </thead>\n",
       "  <tbody>\n",
       "    <tr>\n",
       "      <th>0</th>\n",
       "      <td>-0.279149</td>\n",
       "      <td>-0.093868</td>\n",
       "      <td>-0.263821</td>\n",
       "      <td>2.097142</td>\n",
       "      <td>-1.013602</td>\n",
       "      <td>-0.631458</td>\n",
       "      <td>0.021451</td>\n",
       "      <td>0.759396</td>\n",
       "      <td>0.378654</td>\n",
       "      <td>-0.535208</td>\n",
       "    </tr>\n",
       "    <tr>\n",
       "      <th>1</th>\n",
       "      <td>-0.279644</td>\n",
       "      <td>-0.095974</td>\n",
       "      <td>-0.195206</td>\n",
       "      <td>-1.749018</td>\n",
       "      <td>1.563684</td>\n",
       "      <td>-2.631547</td>\n",
       "      <td>0.147751</td>\n",
       "      <td>1.259314</td>\n",
       "      <td>0.019391</td>\n",
       "      <td>0.689261</td>\n",
       "    </tr>\n",
       "    <tr>\n",
       "      <th>2</th>\n",
       "      <td>-0.293562</td>\n",
       "      <td>-0.098206</td>\n",
       "      <td>-0.232702</td>\n",
       "      <td>-1.536221</td>\n",
       "      <td>1.534310</td>\n",
       "      <td>-3.436961</td>\n",
       "      <td>0.118101</td>\n",
       "      <td>0.895366</td>\n",
       "      <td>-0.384437</td>\n",
       "      <td>0.462406</td>\n",
       "    </tr>\n",
       "    <tr>\n",
       "      <th>3</th>\n",
       "      <td>-0.280883</td>\n",
       "      <td>-0.094989</td>\n",
       "      <td>-0.249239</td>\n",
       "      <td>1.884923</td>\n",
       "      <td>-0.881231</td>\n",
       "      <td>-0.011842</td>\n",
       "      <td>-0.184552</td>\n",
       "      <td>-1.935728</td>\n",
       "      <td>0.093544</td>\n",
       "      <td>0.311152</td>\n",
       "    </tr>\n",
       "    <tr>\n",
       "      <th>4</th>\n",
       "      <td>-0.281148</td>\n",
       "      <td>-0.098376</td>\n",
       "      <td>-0.197430</td>\n",
       "      <td>1.956495</td>\n",
       "      <td>-1.132507</td>\n",
       "      <td>-0.929224</td>\n",
       "      <td>-0.102670</td>\n",
       "      <td>0.623218</td>\n",
       "      <td>-0.339866</td>\n",
       "      <td>-1.179116</td>\n",
       "    </tr>\n",
       "    <tr>\n",
       "      <th>...</th>\n",
       "      <td>...</td>\n",
       "      <td>...</td>\n",
       "      <td>...</td>\n",
       "      <td>...</td>\n",
       "      <td>...</td>\n",
       "      <td>...</td>\n",
       "      <td>...</td>\n",
       "      <td>...</td>\n",
       "      <td>...</td>\n",
       "      <td>...</td>\n",
       "    </tr>\n",
       "    <tr>\n",
       "      <th>395234</th>\n",
       "      <td>-0.285618</td>\n",
       "      <td>-0.095636</td>\n",
       "      <td>-0.316009</td>\n",
       "      <td>1.814349</td>\n",
       "      <td>-0.460987</td>\n",
       "      <td>-0.567152</td>\n",
       "      <td>0.004019</td>\n",
       "      <td>0.212494</td>\n",
       "      <td>0.319344</td>\n",
       "      <td>0.090424</td>\n",
       "    </tr>\n",
       "    <tr>\n",
       "      <th>395235</th>\n",
       "      <td>-0.206421</td>\n",
       "      <td>-0.094287</td>\n",
       "      <td>0.264049</td>\n",
       "      <td>-1.019336</td>\n",
       "      <td>-0.280887</td>\n",
       "      <td>3.349008</td>\n",
       "      <td>-0.292207</td>\n",
       "      <td>2.340251</td>\n",
       "      <td>-0.062114</td>\n",
       "      <td>0.240928</td>\n",
       "    </tr>\n",
       "    <tr>\n",
       "      <th>395236</th>\n",
       "      <td>-0.268187</td>\n",
       "      <td>-0.093965</td>\n",
       "      <td>-0.138951</td>\n",
       "      <td>-2.196634</td>\n",
       "      <td>1.670352</td>\n",
       "      <td>-1.773564</td>\n",
       "      <td>0.141575</td>\n",
       "      <td>0.420050</td>\n",
       "      <td>0.289292</td>\n",
       "      <td>-0.209685</td>\n",
       "    </tr>\n",
       "    <tr>\n",
       "      <th>395237</th>\n",
       "      <td>-0.256057</td>\n",
       "      <td>-0.096018</td>\n",
       "      <td>0.345846</td>\n",
       "      <td>-1.227044</td>\n",
       "      <td>0.538556</td>\n",
       "      <td>0.087798</td>\n",
       "      <td>-0.179034</td>\n",
       "      <td>-1.306320</td>\n",
       "      <td>-0.126920</td>\n",
       "      <td>-0.497853</td>\n",
       "    </tr>\n",
       "    <tr>\n",
       "      <th>395238</th>\n",
       "      <td>-0.267607</td>\n",
       "      <td>-0.095064</td>\n",
       "      <td>-0.227840</td>\n",
       "      <td>0.777007</td>\n",
       "      <td>-0.390914</td>\n",
       "      <td>0.072766</td>\n",
       "      <td>-0.098755</td>\n",
       "      <td>0.294498</td>\n",
       "      <td>0.131417</td>\n",
       "      <td>0.701152</td>\n",
       "    </tr>\n",
       "  </tbody>\n",
       "</table>\n",
       "<p>395239 rows × 10 columns</p>\n",
       "</div>"
      ],
      "text/plain": [
       "             pc1       pc2       pc3       pc4       pc5       pc6       pc7  \\\n",
       "0      -0.279149 -0.093868 -0.263821  2.097142 -1.013602 -0.631458  0.021451   \n",
       "1      -0.279644 -0.095974 -0.195206 -1.749018  1.563684 -2.631547  0.147751   \n",
       "2      -0.293562 -0.098206 -0.232702 -1.536221  1.534310 -3.436961  0.118101   \n",
       "3      -0.280883 -0.094989 -0.249239  1.884923 -0.881231 -0.011842 -0.184552   \n",
       "4      -0.281148 -0.098376 -0.197430  1.956495 -1.132507 -0.929224 -0.102670   \n",
       "...          ...       ...       ...       ...       ...       ...       ...   \n",
       "395234 -0.285618 -0.095636 -0.316009  1.814349 -0.460987 -0.567152  0.004019   \n",
       "395235 -0.206421 -0.094287  0.264049 -1.019336 -0.280887  3.349008 -0.292207   \n",
       "395236 -0.268187 -0.093965 -0.138951 -2.196634  1.670352 -1.773564  0.141575   \n",
       "395237 -0.256057 -0.096018  0.345846 -1.227044  0.538556  0.087798 -0.179034   \n",
       "395238 -0.267607 -0.095064 -0.227840  0.777007 -0.390914  0.072766 -0.098755   \n",
       "\n",
       "             pc8       pc9      pc10  \n",
       "0       0.759396  0.378654 -0.535208  \n",
       "1       1.259314  0.019391  0.689261  \n",
       "2       0.895366 -0.384437  0.462406  \n",
       "3      -1.935728  0.093544  0.311152  \n",
       "4       0.623218 -0.339866 -1.179116  \n",
       "...          ...       ...       ...  \n",
       "395234  0.212494  0.319344  0.090424  \n",
       "395235  2.340251 -0.062114  0.240928  \n",
       "395236  0.420050  0.289292 -0.209685  \n",
       "395237 -1.306320 -0.126920 -0.497853  \n",
       "395238  0.294498  0.131417  0.701152  \n",
       "\n",
       "[395239 rows x 10 columns]"
      ]
     },
     "execution_count": 52,
     "metadata": {},
     "output_type": "execute_result"
    }
   ],
   "source": [
    "# novo df com 15 principal components\n",
    "pc_columns = [f'pc{i}'for i in range(1,11)]\n",
    "amex_pca = pd.DataFrame(X_pca, columns=pc_columns)\n",
    "amex_pca"
   ]
  },
  {
   "cell_type": "code",
   "execution_count": 53,
   "id": "b42b1260",
   "metadata": {
    "ExecuteTime": {
     "end_time": "2022-07-27T18:56:11.903695Z",
     "start_time": "2022-07-27T18:56:11.692250Z"
    },
    "scrolled": false
   },
   "outputs": [
    {
     "data": {
      "text/html": [
       "<div>\n",
       "<style scoped>\n",
       "    .dataframe tbody tr th:only-of-type {\n",
       "        vertical-align: middle;\n",
       "    }\n",
       "\n",
       "    .dataframe tbody tr th {\n",
       "        vertical-align: top;\n",
       "    }\n",
       "\n",
       "    .dataframe thead th {\n",
       "        text-align: right;\n",
       "    }\n",
       "</style>\n",
       "<table border=\"1\" class=\"dataframe\">\n",
       "  <thead>\n",
       "    <tr style=\"text-align: right;\">\n",
       "      <th></th>\n",
       "      <th>customer_ID</th>\n",
       "    </tr>\n",
       "  </thead>\n",
       "  <tbody>\n",
       "    <tr>\n",
       "      <th>0</th>\n",
       "      <td>0000099d6bd597052cdcda90ffabf56573fe9d7c79be5f...</td>\n",
       "    </tr>\n",
       "    <tr>\n",
       "      <th>1</th>\n",
       "      <td>00000fd6641609c6ece5454664794f0340ad84dddce9a2...</td>\n",
       "    </tr>\n",
       "    <tr>\n",
       "      <th>2</th>\n",
       "      <td>00001b22f846c82c51f6e3958ccd81970162bae8b007e8...</td>\n",
       "    </tr>\n",
       "    <tr>\n",
       "      <th>3</th>\n",
       "      <td>000041bdba6ecadd89a52d11886e8eaaec9325906c9723...</td>\n",
       "    </tr>\n",
       "    <tr>\n",
       "      <th>4</th>\n",
       "      <td>00007889e4fcd2614b6cbe7f8f3d2e5c728eca32d9eb8a...</td>\n",
       "    </tr>\n",
       "    <tr>\n",
       "      <th>...</th>\n",
       "      <td>...</td>\n",
       "    </tr>\n",
       "    <tr>\n",
       "      <th>395234</th>\n",
       "      <td>ffff41c8a52833b56430603969b9ca48d208e7c192c6a4...</td>\n",
       "    </tr>\n",
       "    <tr>\n",
       "      <th>395235</th>\n",
       "      <td>ffff518bb2075e4816ee3fe9f3b152c57fc0e6f01bf7fd...</td>\n",
       "    </tr>\n",
       "    <tr>\n",
       "      <th>395236</th>\n",
       "      <td>ffff9984b999fccb2b6127635ed0736dda94e544e67e02...</td>\n",
       "    </tr>\n",
       "    <tr>\n",
       "      <th>395237</th>\n",
       "      <td>ffffa5c46bc8de74f5a4554e74e239c8dee6b9baf38814...</td>\n",
       "    </tr>\n",
       "    <tr>\n",
       "      <th>395238</th>\n",
       "      <td>fffff1d38b785cef84adeace64f8f83db3a0c31e8d92ea...</td>\n",
       "    </tr>\n",
       "  </tbody>\n",
       "</table>\n",
       "<p>395239 rows × 1 columns</p>\n",
       "</div>"
      ],
      "text/plain": [
       "                                              customer_ID\n",
       "0       0000099d6bd597052cdcda90ffabf56573fe9d7c79be5f...\n",
       "1       00000fd6641609c6ece5454664794f0340ad84dddce9a2...\n",
       "2       00001b22f846c82c51f6e3958ccd81970162bae8b007e8...\n",
       "3       000041bdba6ecadd89a52d11886e8eaaec9325906c9723...\n",
       "4       00007889e4fcd2614b6cbe7f8f3d2e5c728eca32d9eb8a...\n",
       "...                                                   ...\n",
       "395234  ffff41c8a52833b56430603969b9ca48d208e7c192c6a4...\n",
       "395235  ffff518bb2075e4816ee3fe9f3b152c57fc0e6f01bf7fd...\n",
       "395236  ffff9984b999fccb2b6127635ed0736dda94e544e67e02...\n",
       "395237  ffffa5c46bc8de74f5a4554e74e239c8dee6b9baf38814...\n",
       "395238  fffff1d38b785cef84adeace64f8f83db3a0c31e8d92ea...\n",
       "\n",
       "[395239 rows x 1 columns]"
      ]
     },
     "execution_count": 53,
     "metadata": {},
     "output_type": "execute_result"
    }
   ],
   "source": [
    "amex_categorical = amex_null_cleaned.select_dtypes(exclude='number').sort_values(by='customer_ID').reset_index(drop=True)\n",
    "amex_categorical"
   ]
  },
  {
   "cell_type": "code",
   "execution_count": 54,
   "id": "522e76a2",
   "metadata": {
    "ExecuteTime": {
     "end_time": "2022-07-27T18:56:17.684470Z",
     "start_time": "2022-07-27T18:56:17.482235Z"
    },
    "scrolled": false
   },
   "outputs": [
    {
     "data": {
      "text/html": [
       "<div>\n",
       "<style scoped>\n",
       "    .dataframe tbody tr th:only-of-type {\n",
       "        vertical-align: middle;\n",
       "    }\n",
       "\n",
       "    .dataframe tbody tr th {\n",
       "        vertical-align: top;\n",
       "    }\n",
       "\n",
       "    .dataframe thead th {\n",
       "        text-align: right;\n",
       "    }\n",
       "</style>\n",
       "<table border=\"1\" class=\"dataframe\">\n",
       "  <thead>\n",
       "    <tr style=\"text-align: right;\">\n",
       "      <th></th>\n",
       "      <th>customer_ID</th>\n",
       "      <th>pc1</th>\n",
       "      <th>pc2</th>\n",
       "      <th>pc3</th>\n",
       "      <th>pc4</th>\n",
       "      <th>pc5</th>\n",
       "      <th>pc6</th>\n",
       "      <th>pc7</th>\n",
       "      <th>pc8</th>\n",
       "      <th>pc9</th>\n",
       "      <th>pc10</th>\n",
       "    </tr>\n",
       "  </thead>\n",
       "  <tbody>\n",
       "    <tr>\n",
       "      <th>0</th>\n",
       "      <td>0000099d6bd597052cdcda90ffabf56573fe9d7c79be5f...</td>\n",
       "      <td>-0.279149</td>\n",
       "      <td>-0.093868</td>\n",
       "      <td>-0.263821</td>\n",
       "      <td>2.097142</td>\n",
       "      <td>-1.013602</td>\n",
       "      <td>-0.631458</td>\n",
       "      <td>0.021451</td>\n",
       "      <td>0.759396</td>\n",
       "      <td>0.378654</td>\n",
       "      <td>-0.535208</td>\n",
       "    </tr>\n",
       "    <tr>\n",
       "      <th>1</th>\n",
       "      <td>00000fd6641609c6ece5454664794f0340ad84dddce9a2...</td>\n",
       "      <td>-0.279644</td>\n",
       "      <td>-0.095974</td>\n",
       "      <td>-0.195206</td>\n",
       "      <td>-1.749018</td>\n",
       "      <td>1.563684</td>\n",
       "      <td>-2.631547</td>\n",
       "      <td>0.147751</td>\n",
       "      <td>1.259314</td>\n",
       "      <td>0.019391</td>\n",
       "      <td>0.689261</td>\n",
       "    </tr>\n",
       "    <tr>\n",
       "      <th>2</th>\n",
       "      <td>00001b22f846c82c51f6e3958ccd81970162bae8b007e8...</td>\n",
       "      <td>-0.293562</td>\n",
       "      <td>-0.098206</td>\n",
       "      <td>-0.232702</td>\n",
       "      <td>-1.536221</td>\n",
       "      <td>1.534310</td>\n",
       "      <td>-3.436961</td>\n",
       "      <td>0.118101</td>\n",
       "      <td>0.895366</td>\n",
       "      <td>-0.384437</td>\n",
       "      <td>0.462406</td>\n",
       "    </tr>\n",
       "    <tr>\n",
       "      <th>3</th>\n",
       "      <td>000041bdba6ecadd89a52d11886e8eaaec9325906c9723...</td>\n",
       "      <td>-0.280883</td>\n",
       "      <td>-0.094989</td>\n",
       "      <td>-0.249239</td>\n",
       "      <td>1.884923</td>\n",
       "      <td>-0.881231</td>\n",
       "      <td>-0.011842</td>\n",
       "      <td>-0.184552</td>\n",
       "      <td>-1.935728</td>\n",
       "      <td>0.093544</td>\n",
       "      <td>0.311152</td>\n",
       "    </tr>\n",
       "    <tr>\n",
       "      <th>4</th>\n",
       "      <td>00007889e4fcd2614b6cbe7f8f3d2e5c728eca32d9eb8a...</td>\n",
       "      <td>-0.281148</td>\n",
       "      <td>-0.098376</td>\n",
       "      <td>-0.197430</td>\n",
       "      <td>1.956495</td>\n",
       "      <td>-1.132507</td>\n",
       "      <td>-0.929224</td>\n",
       "      <td>-0.102670</td>\n",
       "      <td>0.623218</td>\n",
       "      <td>-0.339866</td>\n",
       "      <td>-1.179116</td>\n",
       "    </tr>\n",
       "    <tr>\n",
       "      <th>...</th>\n",
       "      <td>...</td>\n",
       "      <td>...</td>\n",
       "      <td>...</td>\n",
       "      <td>...</td>\n",
       "      <td>...</td>\n",
       "      <td>...</td>\n",
       "      <td>...</td>\n",
       "      <td>...</td>\n",
       "      <td>...</td>\n",
       "      <td>...</td>\n",
       "      <td>...</td>\n",
       "    </tr>\n",
       "    <tr>\n",
       "      <th>395234</th>\n",
       "      <td>ffff41c8a52833b56430603969b9ca48d208e7c192c6a4...</td>\n",
       "      <td>-0.285618</td>\n",
       "      <td>-0.095636</td>\n",
       "      <td>-0.316009</td>\n",
       "      <td>1.814349</td>\n",
       "      <td>-0.460987</td>\n",
       "      <td>-0.567152</td>\n",
       "      <td>0.004019</td>\n",
       "      <td>0.212494</td>\n",
       "      <td>0.319344</td>\n",
       "      <td>0.090424</td>\n",
       "    </tr>\n",
       "    <tr>\n",
       "      <th>395235</th>\n",
       "      <td>ffff518bb2075e4816ee3fe9f3b152c57fc0e6f01bf7fd...</td>\n",
       "      <td>-0.206421</td>\n",
       "      <td>-0.094287</td>\n",
       "      <td>0.264049</td>\n",
       "      <td>-1.019336</td>\n",
       "      <td>-0.280887</td>\n",
       "      <td>3.349008</td>\n",
       "      <td>-0.292207</td>\n",
       "      <td>2.340251</td>\n",
       "      <td>-0.062114</td>\n",
       "      <td>0.240928</td>\n",
       "    </tr>\n",
       "    <tr>\n",
       "      <th>395236</th>\n",
       "      <td>ffff9984b999fccb2b6127635ed0736dda94e544e67e02...</td>\n",
       "      <td>-0.268187</td>\n",
       "      <td>-0.093965</td>\n",
       "      <td>-0.138951</td>\n",
       "      <td>-2.196634</td>\n",
       "      <td>1.670352</td>\n",
       "      <td>-1.773564</td>\n",
       "      <td>0.141575</td>\n",
       "      <td>0.420050</td>\n",
       "      <td>0.289292</td>\n",
       "      <td>-0.209685</td>\n",
       "    </tr>\n",
       "    <tr>\n",
       "      <th>395237</th>\n",
       "      <td>ffffa5c46bc8de74f5a4554e74e239c8dee6b9baf38814...</td>\n",
       "      <td>-0.256057</td>\n",
       "      <td>-0.096018</td>\n",
       "      <td>0.345846</td>\n",
       "      <td>-1.227044</td>\n",
       "      <td>0.538556</td>\n",
       "      <td>0.087798</td>\n",
       "      <td>-0.179034</td>\n",
       "      <td>-1.306320</td>\n",
       "      <td>-0.126920</td>\n",
       "      <td>-0.497853</td>\n",
       "    </tr>\n",
       "    <tr>\n",
       "      <th>395238</th>\n",
       "      <td>fffff1d38b785cef84adeace64f8f83db3a0c31e8d92ea...</td>\n",
       "      <td>-0.267607</td>\n",
       "      <td>-0.095064</td>\n",
       "      <td>-0.227840</td>\n",
       "      <td>0.777007</td>\n",
       "      <td>-0.390914</td>\n",
       "      <td>0.072766</td>\n",
       "      <td>-0.098755</td>\n",
       "      <td>0.294498</td>\n",
       "      <td>0.131417</td>\n",
       "      <td>0.701152</td>\n",
       "    </tr>\n",
       "  </tbody>\n",
       "</table>\n",
       "<p>395239 rows × 11 columns</p>\n",
       "</div>"
      ],
      "text/plain": [
       "                                              customer_ID       pc1       pc2  \\\n",
       "0       0000099d6bd597052cdcda90ffabf56573fe9d7c79be5f... -0.279149 -0.093868   \n",
       "1       00000fd6641609c6ece5454664794f0340ad84dddce9a2... -0.279644 -0.095974   \n",
       "2       00001b22f846c82c51f6e3958ccd81970162bae8b007e8... -0.293562 -0.098206   \n",
       "3       000041bdba6ecadd89a52d11886e8eaaec9325906c9723... -0.280883 -0.094989   \n",
       "4       00007889e4fcd2614b6cbe7f8f3d2e5c728eca32d9eb8a... -0.281148 -0.098376   \n",
       "...                                                   ...       ...       ...   \n",
       "395234  ffff41c8a52833b56430603969b9ca48d208e7c192c6a4... -0.285618 -0.095636   \n",
       "395235  ffff518bb2075e4816ee3fe9f3b152c57fc0e6f01bf7fd... -0.206421 -0.094287   \n",
       "395236  ffff9984b999fccb2b6127635ed0736dda94e544e67e02... -0.268187 -0.093965   \n",
       "395237  ffffa5c46bc8de74f5a4554e74e239c8dee6b9baf38814... -0.256057 -0.096018   \n",
       "395238  fffff1d38b785cef84adeace64f8f83db3a0c31e8d92ea... -0.267607 -0.095064   \n",
       "\n",
       "             pc3       pc4       pc5       pc6       pc7       pc8       pc9  \\\n",
       "0      -0.263821  2.097142 -1.013602 -0.631458  0.021451  0.759396  0.378654   \n",
       "1      -0.195206 -1.749018  1.563684 -2.631547  0.147751  1.259314  0.019391   \n",
       "2      -0.232702 -1.536221  1.534310 -3.436961  0.118101  0.895366 -0.384437   \n",
       "3      -0.249239  1.884923 -0.881231 -0.011842 -0.184552 -1.935728  0.093544   \n",
       "4      -0.197430  1.956495 -1.132507 -0.929224 -0.102670  0.623218 -0.339866   \n",
       "...          ...       ...       ...       ...       ...       ...       ...   \n",
       "395234 -0.316009  1.814349 -0.460987 -0.567152  0.004019  0.212494  0.319344   \n",
       "395235  0.264049 -1.019336 -0.280887  3.349008 -0.292207  2.340251 -0.062114   \n",
       "395236 -0.138951 -2.196634  1.670352 -1.773564  0.141575  0.420050  0.289292   \n",
       "395237  0.345846 -1.227044  0.538556  0.087798 -0.179034 -1.306320 -0.126920   \n",
       "395238 -0.227840  0.777007 -0.390914  0.072766 -0.098755  0.294498  0.131417   \n",
       "\n",
       "            pc10  \n",
       "0      -0.535208  \n",
       "1       0.689261  \n",
       "2       0.462406  \n",
       "3       0.311152  \n",
       "4      -1.179116  \n",
       "...          ...  \n",
       "395234  0.090424  \n",
       "395235  0.240928  \n",
       "395236 -0.209685  \n",
       "395237 -0.497853  \n",
       "395238  0.701152  \n",
       "\n",
       "[395239 rows x 11 columns]"
      ]
     },
     "execution_count": 54,
     "metadata": {},
     "output_type": "execute_result"
    }
   ],
   "source": [
    "amex_train_treated = dd.concat([amex_categorical, amex_pca],axis=1).compute()\n",
    "amex_train_treated\n",
    "#salvar no csv"
   ]
  },
  {
   "cell_type": "code",
   "execution_count": 55,
   "id": "c31d9627",
   "metadata": {
    "ExecuteTime": {
     "end_time": "2022-07-27T18:56:29.406821Z",
     "start_time": "2022-07-27T18:56:23.240613Z"
    }
   },
   "outputs": [],
   "source": [
    "amex_train_treated.to_csv('amex_train_treated.csv',index=False)"
   ]
  },
  {
   "cell_type": "code",
   "execution_count": null,
   "id": "6ae30c89",
   "metadata": {
    "ExecuteTime": {
     "end_time": "2022-07-27T18:56:42.598487Z",
     "start_time": "2022-07-27T18:56:41.616963Z"
    }
   },
   "outputs": [],
   "source": [
    "amex_train_treated = pd.read_csv('amex_train_treated.csv')"
   ]
  },
  {
   "cell_type": "code",
   "execution_count": 58,
   "id": "f0a1df53",
   "metadata": {
    "ExecuteTime": {
     "end_time": "2022-07-27T18:56:48.977376Z",
     "start_time": "2022-07-27T18:56:48.961952Z"
    }
   },
   "outputs": [
    {
     "data": {
      "text/html": [
       "<div>\n",
       "<style scoped>\n",
       "    .dataframe tbody tr th:only-of-type {\n",
       "        vertical-align: middle;\n",
       "    }\n",
       "\n",
       "    .dataframe tbody tr th {\n",
       "        vertical-align: top;\n",
       "    }\n",
       "\n",
       "    .dataframe thead th {\n",
       "        text-align: right;\n",
       "    }\n",
       "</style>\n",
       "<table border=\"1\" class=\"dataframe\">\n",
       "  <thead>\n",
       "    <tr style=\"text-align: right;\">\n",
       "      <th></th>\n",
       "      <th>customer_ID</th>\n",
       "      <th>pc1</th>\n",
       "      <th>pc2</th>\n",
       "      <th>pc3</th>\n",
       "      <th>pc4</th>\n",
       "      <th>pc5</th>\n",
       "      <th>pc6</th>\n",
       "      <th>pc7</th>\n",
       "      <th>pc8</th>\n",
       "      <th>pc9</th>\n",
       "      <th>pc10</th>\n",
       "    </tr>\n",
       "  </thead>\n",
       "  <tbody>\n",
       "    <tr>\n",
       "      <th>0</th>\n",
       "      <td>0000099d6bd597052cdcda90ffabf56573fe9d7c79be5f...</td>\n",
       "      <td>-0.279149</td>\n",
       "      <td>-0.093868</td>\n",
       "      <td>-0.263821</td>\n",
       "      <td>2.097142</td>\n",
       "      <td>-1.013602</td>\n",
       "      <td>-0.631458</td>\n",
       "      <td>0.021451</td>\n",
       "      <td>0.759396</td>\n",
       "      <td>0.378654</td>\n",
       "      <td>-0.535208</td>\n",
       "    </tr>\n",
       "    <tr>\n",
       "      <th>1</th>\n",
       "      <td>00000fd6641609c6ece5454664794f0340ad84dddce9a2...</td>\n",
       "      <td>-0.279644</td>\n",
       "      <td>-0.095974</td>\n",
       "      <td>-0.195206</td>\n",
       "      <td>-1.749018</td>\n",
       "      <td>1.563684</td>\n",
       "      <td>-2.631547</td>\n",
       "      <td>0.147751</td>\n",
       "      <td>1.259314</td>\n",
       "      <td>0.019391</td>\n",
       "      <td>0.689261</td>\n",
       "    </tr>\n",
       "    <tr>\n",
       "      <th>2</th>\n",
       "      <td>00001b22f846c82c51f6e3958ccd81970162bae8b007e8...</td>\n",
       "      <td>-0.293562</td>\n",
       "      <td>-0.098206</td>\n",
       "      <td>-0.232702</td>\n",
       "      <td>-1.536221</td>\n",
       "      <td>1.534310</td>\n",
       "      <td>-3.436961</td>\n",
       "      <td>0.118101</td>\n",
       "      <td>0.895366</td>\n",
       "      <td>-0.384437</td>\n",
       "      <td>0.462406</td>\n",
       "    </tr>\n",
       "    <tr>\n",
       "      <th>3</th>\n",
       "      <td>000041bdba6ecadd89a52d11886e8eaaec9325906c9723...</td>\n",
       "      <td>-0.280883</td>\n",
       "      <td>-0.094989</td>\n",
       "      <td>-0.249239</td>\n",
       "      <td>1.884923</td>\n",
       "      <td>-0.881231</td>\n",
       "      <td>-0.011842</td>\n",
       "      <td>-0.184552</td>\n",
       "      <td>-1.935728</td>\n",
       "      <td>0.093544</td>\n",
       "      <td>0.311152</td>\n",
       "    </tr>\n",
       "    <tr>\n",
       "      <th>4</th>\n",
       "      <td>00007889e4fcd2614b6cbe7f8f3d2e5c728eca32d9eb8a...</td>\n",
       "      <td>-0.281148</td>\n",
       "      <td>-0.098376</td>\n",
       "      <td>-0.197430</td>\n",
       "      <td>1.956495</td>\n",
       "      <td>-1.132507</td>\n",
       "      <td>-0.929224</td>\n",
       "      <td>-0.102670</td>\n",
       "      <td>0.623218</td>\n",
       "      <td>-0.339866</td>\n",
       "      <td>-1.179116</td>\n",
       "    </tr>\n",
       "    <tr>\n",
       "      <th>...</th>\n",
       "      <td>...</td>\n",
       "      <td>...</td>\n",
       "      <td>...</td>\n",
       "      <td>...</td>\n",
       "      <td>...</td>\n",
       "      <td>...</td>\n",
       "      <td>...</td>\n",
       "      <td>...</td>\n",
       "      <td>...</td>\n",
       "      <td>...</td>\n",
       "      <td>...</td>\n",
       "    </tr>\n",
       "    <tr>\n",
       "      <th>395234</th>\n",
       "      <td>ffff41c8a52833b56430603969b9ca48d208e7c192c6a4...</td>\n",
       "      <td>-0.285618</td>\n",
       "      <td>-0.095636</td>\n",
       "      <td>-0.316009</td>\n",
       "      <td>1.814349</td>\n",
       "      <td>-0.460987</td>\n",
       "      <td>-0.567152</td>\n",
       "      <td>0.004019</td>\n",
       "      <td>0.212494</td>\n",
       "      <td>0.319344</td>\n",
       "      <td>0.090424</td>\n",
       "    </tr>\n",
       "    <tr>\n",
       "      <th>395235</th>\n",
       "      <td>ffff518bb2075e4816ee3fe9f3b152c57fc0e6f01bf7fd...</td>\n",
       "      <td>-0.206421</td>\n",
       "      <td>-0.094287</td>\n",
       "      <td>0.264049</td>\n",
       "      <td>-1.019336</td>\n",
       "      <td>-0.280887</td>\n",
       "      <td>3.349008</td>\n",
       "      <td>-0.292207</td>\n",
       "      <td>2.340251</td>\n",
       "      <td>-0.062114</td>\n",
       "      <td>0.240928</td>\n",
       "    </tr>\n",
       "    <tr>\n",
       "      <th>395236</th>\n",
       "      <td>ffff9984b999fccb2b6127635ed0736dda94e544e67e02...</td>\n",
       "      <td>-0.268187</td>\n",
       "      <td>-0.093965</td>\n",
       "      <td>-0.138951</td>\n",
       "      <td>-2.196634</td>\n",
       "      <td>1.670352</td>\n",
       "      <td>-1.773564</td>\n",
       "      <td>0.141575</td>\n",
       "      <td>0.420050</td>\n",
       "      <td>0.289292</td>\n",
       "      <td>-0.209685</td>\n",
       "    </tr>\n",
       "    <tr>\n",
       "      <th>395237</th>\n",
       "      <td>ffffa5c46bc8de74f5a4554e74e239c8dee6b9baf38814...</td>\n",
       "      <td>-0.256057</td>\n",
       "      <td>-0.096018</td>\n",
       "      <td>0.345846</td>\n",
       "      <td>-1.227044</td>\n",
       "      <td>0.538556</td>\n",
       "      <td>0.087798</td>\n",
       "      <td>-0.179034</td>\n",
       "      <td>-1.306320</td>\n",
       "      <td>-0.126920</td>\n",
       "      <td>-0.497853</td>\n",
       "    </tr>\n",
       "    <tr>\n",
       "      <th>395238</th>\n",
       "      <td>fffff1d38b785cef84adeace64f8f83db3a0c31e8d92ea...</td>\n",
       "      <td>-0.267607</td>\n",
       "      <td>-0.095064</td>\n",
       "      <td>-0.227840</td>\n",
       "      <td>0.777007</td>\n",
       "      <td>-0.390914</td>\n",
       "      <td>0.072766</td>\n",
       "      <td>-0.098755</td>\n",
       "      <td>0.294498</td>\n",
       "      <td>0.131417</td>\n",
       "      <td>0.701152</td>\n",
       "    </tr>\n",
       "  </tbody>\n",
       "</table>\n",
       "<p>395239 rows × 11 columns</p>\n",
       "</div>"
      ],
      "text/plain": [
       "                                              customer_ID       pc1       pc2  \\\n",
       "0       0000099d6bd597052cdcda90ffabf56573fe9d7c79be5f... -0.279149 -0.093868   \n",
       "1       00000fd6641609c6ece5454664794f0340ad84dddce9a2... -0.279644 -0.095974   \n",
       "2       00001b22f846c82c51f6e3958ccd81970162bae8b007e8... -0.293562 -0.098206   \n",
       "3       000041bdba6ecadd89a52d11886e8eaaec9325906c9723... -0.280883 -0.094989   \n",
       "4       00007889e4fcd2614b6cbe7f8f3d2e5c728eca32d9eb8a... -0.281148 -0.098376   \n",
       "...                                                   ...       ...       ...   \n",
       "395234  ffff41c8a52833b56430603969b9ca48d208e7c192c6a4... -0.285618 -0.095636   \n",
       "395235  ffff518bb2075e4816ee3fe9f3b152c57fc0e6f01bf7fd... -0.206421 -0.094287   \n",
       "395236  ffff9984b999fccb2b6127635ed0736dda94e544e67e02... -0.268187 -0.093965   \n",
       "395237  ffffa5c46bc8de74f5a4554e74e239c8dee6b9baf38814... -0.256057 -0.096018   \n",
       "395238  fffff1d38b785cef84adeace64f8f83db3a0c31e8d92ea... -0.267607 -0.095064   \n",
       "\n",
       "             pc3       pc4       pc5       pc6       pc7       pc8       pc9  \\\n",
       "0      -0.263821  2.097142 -1.013602 -0.631458  0.021451  0.759396  0.378654   \n",
       "1      -0.195206 -1.749018  1.563684 -2.631547  0.147751  1.259314  0.019391   \n",
       "2      -0.232702 -1.536221  1.534310 -3.436961  0.118101  0.895366 -0.384437   \n",
       "3      -0.249239  1.884923 -0.881231 -0.011842 -0.184552 -1.935728  0.093544   \n",
       "4      -0.197430  1.956495 -1.132507 -0.929224 -0.102670  0.623218 -0.339866   \n",
       "...          ...       ...       ...       ...       ...       ...       ...   \n",
       "395234 -0.316009  1.814349 -0.460987 -0.567152  0.004019  0.212494  0.319344   \n",
       "395235  0.264049 -1.019336 -0.280887  3.349008 -0.292207  2.340251 -0.062114   \n",
       "395236 -0.138951 -2.196634  1.670352 -1.773564  0.141575  0.420050  0.289292   \n",
       "395237  0.345846 -1.227044  0.538556  0.087798 -0.179034 -1.306320 -0.126920   \n",
       "395238 -0.227840  0.777007 -0.390914  0.072766 -0.098755  0.294498  0.131417   \n",
       "\n",
       "            pc10  \n",
       "0      -0.535208  \n",
       "1       0.689261  \n",
       "2       0.462406  \n",
       "3       0.311152  \n",
       "4      -1.179116  \n",
       "...          ...  \n",
       "395234  0.090424  \n",
       "395235  0.240928  \n",
       "395236 -0.209685  \n",
       "395237 -0.497853  \n",
       "395238  0.701152  \n",
       "\n",
       "[395239 rows x 11 columns]"
      ]
     },
     "execution_count": 58,
     "metadata": {},
     "output_type": "execute_result"
    }
   ],
   "source": [
    "amex_train_treated"
   ]
  },
  {
   "cell_type": "markdown",
   "id": "811d9e6f",
   "metadata": {},
   "source": [
    "### Test data"
   ]
  },
  {
   "cell_type": "code",
   "execution_count": 61,
   "id": "c6e86272",
   "metadata": {
    "ExecuteTime": {
     "end_time": "2022-07-27T18:57:19.206467Z",
     "start_time": "2022-07-27T18:57:15.873500Z"
    }
   },
   "outputs": [],
   "source": [
    "#drop do target e seleção das numéricas\n",
    "X_test = amex_test_null_cleaned[X_train.columns]"
   ]
  },
  {
   "cell_type": "code",
   "execution_count": 62,
   "id": "bf7e727c",
   "metadata": {
    "ExecuteTime": {
     "end_time": "2022-07-27T18:57:27.827742Z",
     "start_time": "2022-07-27T18:57:25.549418Z"
    }
   },
   "outputs": [],
   "source": [
    "# redução das variaveis para 10 componentes\n",
    "X_test_pca = pca.transform(X_test)"
   ]
  },
  {
   "cell_type": "code",
   "execution_count": 63,
   "id": "c857c3e7",
   "metadata": {
    "ExecuteTime": {
     "end_time": "2022-07-27T18:57:33.647974Z",
     "start_time": "2022-07-27T18:57:33.644804Z"
    }
   },
   "outputs": [
    {
     "name": "stdout",
     "output_type": "stream",
     "text": [
      "original shape:    (728799, 150)\n",
      "transformed shape: (728799, 10)\n"
     ]
    }
   ],
   "source": [
    "print(\"original shape:   \", X_test.shape)\n",
    "print(\"transformed shape:\", X_test_pca.shape)"
   ]
  },
  {
   "cell_type": "code",
   "execution_count": 97,
   "id": "2f7a1db7",
   "metadata": {
    "ExecuteTime": {
     "end_time": "2022-07-27T18:20:28.629740Z",
     "start_time": "2022-07-27T18:20:28.623163Z"
    }
   },
   "outputs": [
    {
     "data": {
      "text/plain": [
       "array([0.34703789, 0.28165468, 0.08086514, 0.05085848, 0.04828262,\n",
       "       0.03557227, 0.02723053, 0.02213108, 0.01146657, 0.00763155])"
      ]
     },
     "execution_count": 97,
     "metadata": {},
     "output_type": "execute_result"
    }
   ],
   "source": [
    "pca.explained_variance_ratio_"
   ]
  },
  {
   "cell_type": "code",
   "execution_count": 98,
   "id": "4cba9473",
   "metadata": {
    "ExecuteTime": {
     "end_time": "2022-07-27T18:20:49.593664Z",
     "start_time": "2022-07-27T18:20:49.585175Z"
    }
   },
   "outputs": [
    {
     "data": {
      "text/plain": [
       "0.9127308150138993"
      ]
     },
     "execution_count": 98,
     "metadata": {},
     "output_type": "execute_result"
    }
   ],
   "source": [
    "# com 10 componentes mantemos 99% das informações\n",
    "pca.explained_variance_ratio_.sum()"
   ]
  },
  {
   "cell_type": "code",
   "execution_count": 99,
   "id": "f2fb3cbe",
   "metadata": {
    "ExecuteTime": {
     "end_time": "2022-07-27T18:20:56.684575Z",
     "start_time": "2022-07-27T18:20:56.505508Z"
    }
   },
   "outputs": [
    {
     "data": {
      "text/plain": [
       "[<matplotlib.lines.Line2D at 0x7fe21994bcd0>]"
      ]
     },
     "execution_count": 99,
     "metadata": {},
     "output_type": "execute_result"
    },
    {
     "data": {
      "image/png": "[encoded data removed]",
      "text/plain": [
       "<Figure size 432x288 with 1 Axes>"
      ]
     },
     "metadata": {
      "needs_background": "light"
     },
     "output_type": "display_data"
    }
   ],
   "source": [
    "plt.plot(np.cumsum(pca.explained_variance_ratio_),)"
   ]
  },
  {
   "cell_type": "code",
   "execution_count": 64,
   "id": "e1add6f9",
   "metadata": {
    "ExecuteTime": {
     "end_time": "2022-07-27T18:57:39.336440Z",
     "start_time": "2022-07-27T18:57:39.319011Z"
    }
   },
   "outputs": [
    {
     "data": {
      "text/html": [
       "<div>\n",
       "<style scoped>\n",
       "    .dataframe tbody tr th:only-of-type {\n",
       "        vertical-align: middle;\n",
       "    }\n",
       "\n",
       "    .dataframe tbody tr th {\n",
       "        vertical-align: top;\n",
       "    }\n",
       "\n",
       "    .dataframe thead th {\n",
       "        text-align: right;\n",
       "    }\n",
       "</style>\n",
       "<table border=\"1\" class=\"dataframe\">\n",
       "  <thead>\n",
       "    <tr style=\"text-align: right;\">\n",
       "      <th></th>\n",
       "      <th>pc1</th>\n",
       "      <th>pc2</th>\n",
       "      <th>pc3</th>\n",
       "      <th>pc4</th>\n",
       "      <th>pc5</th>\n",
       "      <th>pc6</th>\n",
       "      <th>pc7</th>\n",
       "      <th>pc8</th>\n",
       "      <th>pc9</th>\n",
       "      <th>pc10</th>\n",
       "    </tr>\n",
       "  </thead>\n",
       "  <tbody>\n",
       "    <tr>\n",
       "      <th>0</th>\n",
       "      <td>-0.274006</td>\n",
       "      <td>-0.094419</td>\n",
       "      <td>0.197088</td>\n",
       "      <td>-2.179193</td>\n",
       "      <td>1.465991</td>\n",
       "      <td>-2.347746</td>\n",
       "      <td>0.102964</td>\n",
       "      <td>0.610293</td>\n",
       "      <td>-0.131808</td>\n",
       "      <td>0.586444</td>\n",
       "    </tr>\n",
       "    <tr>\n",
       "      <th>1</th>\n",
       "      <td>-0.280776</td>\n",
       "      <td>-0.097279</td>\n",
       "      <td>-0.284996</td>\n",
       "      <td>1.195401</td>\n",
       "      <td>-0.424294</td>\n",
       "      <td>-0.872669</td>\n",
       "      <td>-0.042649</td>\n",
       "      <td>0.692132</td>\n",
       "      <td>0.007573</td>\n",
       "      <td>0.645215</td>\n",
       "    </tr>\n",
       "    <tr>\n",
       "      <th>2</th>\n",
       "      <td>-0.273543</td>\n",
       "      <td>-0.099396</td>\n",
       "      <td>-0.118071</td>\n",
       "      <td>-1.818800</td>\n",
       "      <td>1.344153</td>\n",
       "      <td>-1.771675</td>\n",
       "      <td>0.034944</td>\n",
       "      <td>0.065945</td>\n",
       "      <td>-0.136435</td>\n",
       "      <td>-0.430860</td>\n",
       "    </tr>\n",
       "    <tr>\n",
       "      <th>3</th>\n",
       "      <td>-0.236045</td>\n",
       "      <td>-0.091266</td>\n",
       "      <td>0.209350</td>\n",
       "      <td>1.046538</td>\n",
       "      <td>-1.208037</td>\n",
       "      <td>2.204611</td>\n",
       "      <td>-0.153662</td>\n",
       "      <td>-0.328799</td>\n",
       "      <td>0.109116</td>\n",
       "      <td>-0.442662</td>\n",
       "    </tr>\n",
       "    <tr>\n",
       "      <th>4</th>\n",
       "      <td>-0.226910</td>\n",
       "      <td>-0.094527</td>\n",
       "      <td>0.104103</td>\n",
       "      <td>-3.405553</td>\n",
       "      <td>1.600616</td>\n",
       "      <td>0.598934</td>\n",
       "      <td>-0.070109</td>\n",
       "      <td>1.197699</td>\n",
       "      <td>-0.086095</td>\n",
       "      <td>0.900821</td>\n",
       "    </tr>\n",
       "    <tr>\n",
       "      <th>...</th>\n",
       "      <td>...</td>\n",
       "      <td>...</td>\n",
       "      <td>...</td>\n",
       "      <td>...</td>\n",
       "      <td>...</td>\n",
       "      <td>...</td>\n",
       "      <td>...</td>\n",
       "      <td>...</td>\n",
       "      <td>...</td>\n",
       "      <td>...</td>\n",
       "    </tr>\n",
       "    <tr>\n",
       "      <th>728794</th>\n",
       "      <td>-0.259800</td>\n",
       "      <td>-0.093987</td>\n",
       "      <td>-0.094243</td>\n",
       "      <td>-2.377014</td>\n",
       "      <td>1.535973</td>\n",
       "      <td>-1.373193</td>\n",
       "      <td>0.085899</td>\n",
       "      <td>1.502897</td>\n",
       "      <td>0.036426</td>\n",
       "      <td>0.283996</td>\n",
       "    </tr>\n",
       "    <tr>\n",
       "      <th>728795</th>\n",
       "      <td>-0.285362</td>\n",
       "      <td>-0.098095</td>\n",
       "      <td>-0.112884</td>\n",
       "      <td>1.417889</td>\n",
       "      <td>-0.575835</td>\n",
       "      <td>-1.640980</td>\n",
       "      <td>-0.026208</td>\n",
       "      <td>0.701483</td>\n",
       "      <td>-0.253735</td>\n",
       "      <td>0.095161</td>\n",
       "    </tr>\n",
       "    <tr>\n",
       "      <th>728796</th>\n",
       "      <td>-0.250645</td>\n",
       "      <td>-0.093743</td>\n",
       "      <td>-0.099897</td>\n",
       "      <td>0.349012</td>\n",
       "      <td>-0.411277</td>\n",
       "      <td>0.620973</td>\n",
       "      <td>-0.157091</td>\n",
       "      <td>0.461936</td>\n",
       "      <td>-0.111307</td>\n",
       "      <td>-0.633838</td>\n",
       "    </tr>\n",
       "    <tr>\n",
       "      <th>728797</th>\n",
       "      <td>-0.241607</td>\n",
       "      <td>-0.090805</td>\n",
       "      <td>0.097985</td>\n",
       "      <td>0.399958</td>\n",
       "      <td>-0.562457</td>\n",
       "      <td>0.533393</td>\n",
       "      <td>0.126227</td>\n",
       "      <td>0.930827</td>\n",
       "      <td>-0.241921</td>\n",
       "      <td>-0.431695</td>\n",
       "    </tr>\n",
       "    <tr>\n",
       "      <th>728798</th>\n",
       "      <td>-0.235269</td>\n",
       "      <td>-0.092544</td>\n",
       "      <td>0.349351</td>\n",
       "      <td>-2.616309</td>\n",
       "      <td>1.256993</td>\n",
       "      <td>-0.079716</td>\n",
       "      <td>-0.031503</td>\n",
       "      <td>0.792813</td>\n",
       "      <td>-0.164743</td>\n",
       "      <td>-0.631854</td>\n",
       "    </tr>\n",
       "  </tbody>\n",
       "</table>\n",
       "<p>728799 rows × 10 columns</p>\n",
       "</div>"
      ],
      "text/plain": [
       "             pc1       pc2       pc3       pc4       pc5       pc6       pc7  \\\n",
       "0      -0.274006 -0.094419  0.197088 -2.179193  1.465991 -2.347746  0.102964   \n",
       "1      -0.280776 -0.097279 -0.284996  1.195401 -0.424294 -0.872669 -0.042649   \n",
       "2      -0.273543 -0.099396 -0.118071 -1.818800  1.344153 -1.771675  0.034944   \n",
       "3      -0.236045 -0.091266  0.209350  1.046538 -1.208037  2.204611 -0.153662   \n",
       "4      -0.226910 -0.094527  0.104103 -3.405553  1.600616  0.598934 -0.070109   \n",
       "...          ...       ...       ...       ...       ...       ...       ...   \n",
       "728794 -0.259800 -0.093987 -0.094243 -2.377014  1.535973 -1.373193  0.085899   \n",
       "728795 -0.285362 -0.098095 -0.112884  1.417889 -0.575835 -1.640980 -0.026208   \n",
       "728796 -0.250645 -0.093743 -0.099897  0.349012 -0.411277  0.620973 -0.157091   \n",
       "728797 -0.241607 -0.090805  0.097985  0.399958 -0.562457  0.533393  0.126227   \n",
       "728798 -0.235269 -0.092544  0.349351 -2.616309  1.256993 -0.079716 -0.031503   \n",
       "\n",
       "             pc8       pc9      pc10  \n",
       "0       0.610293 -0.131808  0.586444  \n",
       "1       0.692132  0.007573  0.645215  \n",
       "2       0.065945 -0.136435 -0.430860  \n",
       "3      -0.328799  0.109116 -0.442662  \n",
       "4       1.197699 -0.086095  0.900821  \n",
       "...          ...       ...       ...  \n",
       "728794  1.502897  0.036426  0.283996  \n",
       "728795  0.701483 -0.253735  0.095161  \n",
       "728796  0.461936 -0.111307 -0.633838  \n",
       "728797  0.930827 -0.241921 -0.431695  \n",
       "728798  0.792813 -0.164743 -0.631854  \n",
       "\n",
       "[728799 rows x 10 columns]"
      ]
     },
     "execution_count": 64,
     "metadata": {},
     "output_type": "execute_result"
    }
   ],
   "source": [
    "# novo df com 10 principal components\n",
    "pc_columns = [f'pc{i}'for i in range(1,11)]\n",
    "amex_test_pca = pd.DataFrame(X_test_pca, columns=pc_columns)\n",
    "amex_test_pca"
   ]
  },
  {
   "cell_type": "code",
   "execution_count": 65,
   "id": "06633480",
   "metadata": {
    "ExecuteTime": {
     "end_time": "2022-07-27T18:57:45.025449Z",
     "start_time": "2022-07-27T18:57:45.005669Z"
    }
   },
   "outputs": [
    {
     "data": {
      "text/html": [
       "<div>\n",
       "<style scoped>\n",
       "    .dataframe tbody tr th:only-of-type {\n",
       "        vertical-align: middle;\n",
       "    }\n",
       "\n",
       "    .dataframe tbody tr th {\n",
       "        vertical-align: top;\n",
       "    }\n",
       "\n",
       "    .dataframe thead th {\n",
       "        text-align: right;\n",
       "    }\n",
       "</style>\n",
       "<table border=\"1\" class=\"dataframe\">\n",
       "  <thead>\n",
       "    <tr style=\"text-align: right;\">\n",
       "      <th></th>\n",
       "      <th>customer_ID</th>\n",
       "    </tr>\n",
       "  </thead>\n",
       "  <tbody>\n",
       "    <tr>\n",
       "      <th>0</th>\n",
       "      <td>00000469ba478561f23a92a868bd366de6f6527a684c9a...</td>\n",
       "    </tr>\n",
       "    <tr>\n",
       "      <th>1</th>\n",
       "      <td>00001bf2e77ff879fab36aa4fac689b9ba411dae63ae39...</td>\n",
       "    </tr>\n",
       "    <tr>\n",
       "      <th>2</th>\n",
       "      <td>0000210045da4f81e5f122c6bde5c2a617d03eef67f82c...</td>\n",
       "    </tr>\n",
       "    <tr>\n",
       "      <th>3</th>\n",
       "      <td>00003b41e58ede33b8daf61ab56d9952f17c9ad1c3976c...</td>\n",
       "    </tr>\n",
       "    <tr>\n",
       "      <th>4</th>\n",
       "      <td>00004b22eaeeeb0ec976890c1d9bfc14fd9427e98c4ee9...</td>\n",
       "    </tr>\n",
       "    <tr>\n",
       "      <th>...</th>\n",
       "      <td>...</td>\n",
       "    </tr>\n",
       "    <tr>\n",
       "      <th>728794</th>\n",
       "      <td>ffff824b313399b00db6bc930b83f1a2188d8b1dbd3a31...</td>\n",
       "    </tr>\n",
       "    <tr>\n",
       "      <th>728795</th>\n",
       "      <td>ffff952c631f2c911b8a2a8ca56ea6e656309a83d2f64c...</td>\n",
       "    </tr>\n",
       "    <tr>\n",
       "      <th>728796</th>\n",
       "      <td>ffffcf5df59e5e0bba2a5ac4578a34e2b5aa64a1546cd3...</td>\n",
       "    </tr>\n",
       "    <tr>\n",
       "      <th>728797</th>\n",
       "      <td>ffffd61f098cc056dbd7d2a21380c4804bbfe60856f475...</td>\n",
       "    </tr>\n",
       "    <tr>\n",
       "      <th>728798</th>\n",
       "      <td>ffffddef1fc3643ea179c93245b68dca0f36941cd83977...</td>\n",
       "    </tr>\n",
       "  </tbody>\n",
       "</table>\n",
       "<p>728799 rows × 1 columns</p>\n",
       "</div>"
      ],
      "text/plain": [
       "                                              customer_ID\n",
       "0       00000469ba478561f23a92a868bd366de6f6527a684c9a...\n",
       "1       00001bf2e77ff879fab36aa4fac689b9ba411dae63ae39...\n",
       "2       0000210045da4f81e5f122c6bde5c2a617d03eef67f82c...\n",
       "3       00003b41e58ede33b8daf61ab56d9952f17c9ad1c3976c...\n",
       "4       00004b22eaeeeb0ec976890c1d9bfc14fd9427e98c4ee9...\n",
       "...                                                   ...\n",
       "728794  ffff824b313399b00db6bc930b83f1a2188d8b1dbd3a31...\n",
       "728795  ffff952c631f2c911b8a2a8ca56ea6e656309a83d2f64c...\n",
       "728796  ffffcf5df59e5e0bba2a5ac4578a34e2b5aa64a1546cd3...\n",
       "728797  ffffd61f098cc056dbd7d2a21380c4804bbfe60856f475...\n",
       "728798  ffffddef1fc3643ea179c93245b68dca0f36941cd83977...\n",
       "\n",
       "[728799 rows x 1 columns]"
      ]
     },
     "execution_count": 65,
     "metadata": {},
     "output_type": "execute_result"
    }
   ],
   "source": [
    "amex_test_categorical = amex_test_null_cleaned.select_dtypes(exclude='number').reset_index(drop=True)\n",
    "amex_test_categorical"
   ]
  },
  {
   "cell_type": "code",
   "execution_count": 66,
   "id": "916810e2",
   "metadata": {
    "ExecuteTime": {
     "end_time": "2022-07-27T18:57:50.978034Z",
     "start_time": "2022-07-27T18:57:50.704246Z"
    }
   },
   "outputs": [
    {
     "data": {
      "text/html": [
       "<div>\n",
       "<style scoped>\n",
       "    .dataframe tbody tr th:only-of-type {\n",
       "        vertical-align: middle;\n",
       "    }\n",
       "\n",
       "    .dataframe tbody tr th {\n",
       "        vertical-align: top;\n",
       "    }\n",
       "\n",
       "    .dataframe thead th {\n",
       "        text-align: right;\n",
       "    }\n",
       "</style>\n",
       "<table border=\"1\" class=\"dataframe\">\n",
       "  <thead>\n",
       "    <tr style=\"text-align: right;\">\n",
       "      <th></th>\n",
       "      <th>customer_ID</th>\n",
       "      <th>pc1</th>\n",
       "      <th>pc2</th>\n",
       "      <th>pc3</th>\n",
       "      <th>pc4</th>\n",
       "      <th>pc5</th>\n",
       "      <th>pc6</th>\n",
       "      <th>pc7</th>\n",
       "      <th>pc8</th>\n",
       "      <th>pc9</th>\n",
       "      <th>pc10</th>\n",
       "    </tr>\n",
       "  </thead>\n",
       "  <tbody>\n",
       "    <tr>\n",
       "      <th>0</th>\n",
       "      <td>00000469ba478561f23a92a868bd366de6f6527a684c9a...</td>\n",
       "      <td>-0.274006</td>\n",
       "      <td>-0.094419</td>\n",
       "      <td>0.197088</td>\n",
       "      <td>-2.179193</td>\n",
       "      <td>1.465991</td>\n",
       "      <td>-2.347746</td>\n",
       "      <td>0.102964</td>\n",
       "      <td>0.610293</td>\n",
       "      <td>-0.131808</td>\n",
       "      <td>0.586444</td>\n",
       "    </tr>\n",
       "    <tr>\n",
       "      <th>1</th>\n",
       "      <td>00001bf2e77ff879fab36aa4fac689b9ba411dae63ae39...</td>\n",
       "      <td>-0.280776</td>\n",
       "      <td>-0.097279</td>\n",
       "      <td>-0.284996</td>\n",
       "      <td>1.195401</td>\n",
       "      <td>-0.424294</td>\n",
       "      <td>-0.872669</td>\n",
       "      <td>-0.042649</td>\n",
       "      <td>0.692132</td>\n",
       "      <td>0.007573</td>\n",
       "      <td>0.645215</td>\n",
       "    </tr>\n",
       "    <tr>\n",
       "      <th>2</th>\n",
       "      <td>0000210045da4f81e5f122c6bde5c2a617d03eef67f82c...</td>\n",
       "      <td>-0.273543</td>\n",
       "      <td>-0.099396</td>\n",
       "      <td>-0.118071</td>\n",
       "      <td>-1.818800</td>\n",
       "      <td>1.344153</td>\n",
       "      <td>-1.771675</td>\n",
       "      <td>0.034944</td>\n",
       "      <td>0.065945</td>\n",
       "      <td>-0.136435</td>\n",
       "      <td>-0.430860</td>\n",
       "    </tr>\n",
       "    <tr>\n",
       "      <th>3</th>\n",
       "      <td>00003b41e58ede33b8daf61ab56d9952f17c9ad1c3976c...</td>\n",
       "      <td>-0.236045</td>\n",
       "      <td>-0.091266</td>\n",
       "      <td>0.209350</td>\n",
       "      <td>1.046538</td>\n",
       "      <td>-1.208037</td>\n",
       "      <td>2.204611</td>\n",
       "      <td>-0.153662</td>\n",
       "      <td>-0.328799</td>\n",
       "      <td>0.109116</td>\n",
       "      <td>-0.442662</td>\n",
       "    </tr>\n",
       "    <tr>\n",
       "      <th>4</th>\n",
       "      <td>00004b22eaeeeb0ec976890c1d9bfc14fd9427e98c4ee9...</td>\n",
       "      <td>-0.226910</td>\n",
       "      <td>-0.094527</td>\n",
       "      <td>0.104103</td>\n",
       "      <td>-3.405553</td>\n",
       "      <td>1.600616</td>\n",
       "      <td>0.598934</td>\n",
       "      <td>-0.070109</td>\n",
       "      <td>1.197699</td>\n",
       "      <td>-0.086095</td>\n",
       "      <td>0.900821</td>\n",
       "    </tr>\n",
       "    <tr>\n",
       "      <th>...</th>\n",
       "      <td>...</td>\n",
       "      <td>...</td>\n",
       "      <td>...</td>\n",
       "      <td>...</td>\n",
       "      <td>...</td>\n",
       "      <td>...</td>\n",
       "      <td>...</td>\n",
       "      <td>...</td>\n",
       "      <td>...</td>\n",
       "      <td>...</td>\n",
       "      <td>...</td>\n",
       "    </tr>\n",
       "    <tr>\n",
       "      <th>728794</th>\n",
       "      <td>ffff824b313399b00db6bc930b83f1a2188d8b1dbd3a31...</td>\n",
       "      <td>-0.259800</td>\n",
       "      <td>-0.093987</td>\n",
       "      <td>-0.094243</td>\n",
       "      <td>-2.377014</td>\n",
       "      <td>1.535973</td>\n",
       "      <td>-1.373193</td>\n",
       "      <td>0.085899</td>\n",
       "      <td>1.502897</td>\n",
       "      <td>0.036426</td>\n",
       "      <td>0.283996</td>\n",
       "    </tr>\n",
       "    <tr>\n",
       "      <th>728795</th>\n",
       "      <td>ffff952c631f2c911b8a2a8ca56ea6e656309a83d2f64c...</td>\n",
       "      <td>-0.285362</td>\n",
       "      <td>-0.098095</td>\n",
       "      <td>-0.112884</td>\n",
       "      <td>1.417889</td>\n",
       "      <td>-0.575835</td>\n",
       "      <td>-1.640980</td>\n",
       "      <td>-0.026208</td>\n",
       "      <td>0.701483</td>\n",
       "      <td>-0.253735</td>\n",
       "      <td>0.095161</td>\n",
       "    </tr>\n",
       "    <tr>\n",
       "      <th>728796</th>\n",
       "      <td>ffffcf5df59e5e0bba2a5ac4578a34e2b5aa64a1546cd3...</td>\n",
       "      <td>-0.250645</td>\n",
       "      <td>-0.093743</td>\n",
       "      <td>-0.099897</td>\n",
       "      <td>0.349012</td>\n",
       "      <td>-0.411277</td>\n",
       "      <td>0.620973</td>\n",
       "      <td>-0.157091</td>\n",
       "      <td>0.461936</td>\n",
       "      <td>-0.111307</td>\n",
       "      <td>-0.633838</td>\n",
       "    </tr>\n",
       "    <tr>\n",
       "      <th>728797</th>\n",
       "      <td>ffffd61f098cc056dbd7d2a21380c4804bbfe60856f475...</td>\n",
       "      <td>-0.241607</td>\n",
       "      <td>-0.090805</td>\n",
       "      <td>0.097985</td>\n",
       "      <td>0.399958</td>\n",
       "      <td>-0.562457</td>\n",
       "      <td>0.533393</td>\n",
       "      <td>0.126227</td>\n",
       "      <td>0.930827</td>\n",
       "      <td>-0.241921</td>\n",
       "      <td>-0.431695</td>\n",
       "    </tr>\n",
       "    <tr>\n",
       "      <th>728798</th>\n",
       "      <td>ffffddef1fc3643ea179c93245b68dca0f36941cd83977...</td>\n",
       "      <td>-0.235269</td>\n",
       "      <td>-0.092544</td>\n",
       "      <td>0.349351</td>\n",
       "      <td>-2.616309</td>\n",
       "      <td>1.256993</td>\n",
       "      <td>-0.079716</td>\n",
       "      <td>-0.031503</td>\n",
       "      <td>0.792813</td>\n",
       "      <td>-0.164743</td>\n",
       "      <td>-0.631854</td>\n",
       "    </tr>\n",
       "  </tbody>\n",
       "</table>\n",
       "<p>728799 rows × 11 columns</p>\n",
       "</div>"
      ],
      "text/plain": [
       "                                              customer_ID       pc1       pc2  \\\n",
       "0       00000469ba478561f23a92a868bd366de6f6527a684c9a... -0.274006 -0.094419   \n",
       "1       00001bf2e77ff879fab36aa4fac689b9ba411dae63ae39... -0.280776 -0.097279   \n",
       "2       0000210045da4f81e5f122c6bde5c2a617d03eef67f82c... -0.273543 -0.099396   \n",
       "3       00003b41e58ede33b8daf61ab56d9952f17c9ad1c3976c... -0.236045 -0.091266   \n",
       "4       00004b22eaeeeb0ec976890c1d9bfc14fd9427e98c4ee9... -0.226910 -0.094527   \n",
       "...                                                   ...       ...       ...   \n",
       "728794  ffff824b313399b00db6bc930b83f1a2188d8b1dbd3a31... -0.259800 -0.093987   \n",
       "728795  ffff952c631f2c911b8a2a8ca56ea6e656309a83d2f64c... -0.285362 -0.098095   \n",
       "728796  ffffcf5df59e5e0bba2a5ac4578a34e2b5aa64a1546cd3... -0.250645 -0.093743   \n",
       "728797  ffffd61f098cc056dbd7d2a21380c4804bbfe60856f475... -0.241607 -0.090805   \n",
       "728798  ffffddef1fc3643ea179c93245b68dca0f36941cd83977... -0.235269 -0.092544   \n",
       "\n",
       "             pc3       pc4       pc5       pc6       pc7       pc8       pc9  \\\n",
       "0       0.197088 -2.179193  1.465991 -2.347746  0.102964  0.610293 -0.131808   \n",
       "1      -0.284996  1.195401 -0.424294 -0.872669 -0.042649  0.692132  0.007573   \n",
       "2      -0.118071 -1.818800  1.344153 -1.771675  0.034944  0.065945 -0.136435   \n",
       "3       0.209350  1.046538 -1.208037  2.204611 -0.153662 -0.328799  0.109116   \n",
       "4       0.104103 -3.405553  1.600616  0.598934 -0.070109  1.197699 -0.086095   \n",
       "...          ...       ...       ...       ...       ...       ...       ...   \n",
       "728794 -0.094243 -2.377014  1.535973 -1.373193  0.085899  1.502897  0.036426   \n",
       "728795 -0.112884  1.417889 -0.575835 -1.640980 -0.026208  0.701483 -0.253735   \n",
       "728796 -0.099897  0.349012 -0.411277  0.620973 -0.157091  0.461936 -0.111307   \n",
       "728797  0.097985  0.399958 -0.562457  0.533393  0.126227  0.930827 -0.241921   \n",
       "728798  0.349351 -2.616309  1.256993 -0.079716 -0.031503  0.792813 -0.164743   \n",
       "\n",
       "            pc10  \n",
       "0       0.586444  \n",
       "1       0.645215  \n",
       "2      -0.430860  \n",
       "3      -0.442662  \n",
       "4       0.900821  \n",
       "...          ...  \n",
       "728794  0.283996  \n",
       "728795  0.095161  \n",
       "728796 -0.633838  \n",
       "728797 -0.431695  \n",
       "728798 -0.631854  \n",
       "\n",
       "[728799 rows x 11 columns]"
      ]
     },
     "execution_count": 66,
     "metadata": {},
     "output_type": "execute_result"
    }
   ],
   "source": [
    "amex_test_treated = dd.concat([amex_test_categorical, amex_test_pca],axis=1).compute()\n",
    "amex_test_treated\n",
    "\n",
    "#salvar no csv"
   ]
  },
  {
   "cell_type": "code",
   "execution_count": 103,
   "id": "c0657c39",
   "metadata": {
    "ExecuteTime": {
     "end_time": "2022-07-27T18:22:14.799289Z",
     "start_time": "2022-07-27T18:22:03.039233Z"
    }
   },
   "outputs": [],
   "source": [
    "amex_test_treated.to_csv('amex_test_treated.csv')"
   ]
  },
  {
   "cell_type": "code",
   "execution_count": 14,
   "id": "9756e495",
   "metadata": {
    "ExecuteTime": {
     "end_time": "2022-07-27T18:49:05.067244Z",
     "start_time": "2022-07-27T18:49:03.146499Z"
    }
   },
   "outputs": [],
   "source": [
    "amex_test_treated = pd.read_csv('amex_test_treated.csv')"
   ]
  },
  {
   "cell_type": "markdown",
   "id": "d3c86d70",
   "metadata": {},
   "source": [
    "## First baseline modelling"
   ]
  },
  {
   "cell_type": "markdown",
   "id": "dd06ca7e",
   "metadata": {
    "ExecuteTime": {
     "end_time": "2022-07-27T18:24:54.312720Z",
     "start_time": "2022-07-27T18:24:54.309934Z"
    }
   },
   "source": [
    "### Appending targets to train data"
   ]
  },
  {
   "cell_type": "code",
   "execution_count": 68,
   "id": "98e82024",
   "metadata": {
    "ExecuteTime": {
     "end_time": "2022-07-27T18:58:04.498453Z",
     "start_time": "2022-07-27T18:58:03.103783Z"
    }
   },
   "outputs": [
    {
     "data": {
      "text/html": [
       "<div>\n",
       "<style scoped>\n",
       "    .dataframe tbody tr th:only-of-type {\n",
       "        vertical-align: middle;\n",
       "    }\n",
       "\n",
       "    .dataframe tbody tr th {\n",
       "        vertical-align: top;\n",
       "    }\n",
       "\n",
       "    .dataframe thead th {\n",
       "        text-align: right;\n",
       "    }\n",
       "</style>\n",
       "<table border=\"1\" class=\"dataframe\">\n",
       "  <thead>\n",
       "    <tr style=\"text-align: right;\">\n",
       "      <th></th>\n",
       "      <th>customer_ID</th>\n",
       "      <th>pc1</th>\n",
       "      <th>pc2</th>\n",
       "      <th>pc3</th>\n",
       "      <th>pc4</th>\n",
       "      <th>pc5</th>\n",
       "      <th>pc6</th>\n",
       "      <th>pc7</th>\n",
       "      <th>pc8</th>\n",
       "      <th>pc9</th>\n",
       "      <th>pc10</th>\n",
       "      <th>target</th>\n",
       "    </tr>\n",
       "  </thead>\n",
       "  <tbody>\n",
       "    <tr>\n",
       "      <th>0</th>\n",
       "      <td>0000099d6bd597052cdcda90ffabf56573fe9d7c79be5f...</td>\n",
       "      <td>-0.279149</td>\n",
       "      <td>-0.093868</td>\n",
       "      <td>-0.263821</td>\n",
       "      <td>2.097142</td>\n",
       "      <td>-1.013602</td>\n",
       "      <td>-0.631458</td>\n",
       "      <td>0.021451</td>\n",
       "      <td>0.759396</td>\n",
       "      <td>0.378654</td>\n",
       "      <td>-0.535208</td>\n",
       "      <td>0</td>\n",
       "    </tr>\n",
       "    <tr>\n",
       "      <th>1</th>\n",
       "      <td>00000fd6641609c6ece5454664794f0340ad84dddce9a2...</td>\n",
       "      <td>-0.279644</td>\n",
       "      <td>-0.095974</td>\n",
       "      <td>-0.195206</td>\n",
       "      <td>-1.749018</td>\n",
       "      <td>1.563684</td>\n",
       "      <td>-2.631547</td>\n",
       "      <td>0.147751</td>\n",
       "      <td>1.259314</td>\n",
       "      <td>0.019391</td>\n",
       "      <td>0.689261</td>\n",
       "      <td>0</td>\n",
       "    </tr>\n",
       "    <tr>\n",
       "      <th>2</th>\n",
       "      <td>00001b22f846c82c51f6e3958ccd81970162bae8b007e8...</td>\n",
       "      <td>-0.293562</td>\n",
       "      <td>-0.098206</td>\n",
       "      <td>-0.232702</td>\n",
       "      <td>-1.536221</td>\n",
       "      <td>1.534310</td>\n",
       "      <td>-3.436961</td>\n",
       "      <td>0.118101</td>\n",
       "      <td>0.895366</td>\n",
       "      <td>-0.384437</td>\n",
       "      <td>0.462406</td>\n",
       "      <td>0</td>\n",
       "    </tr>\n",
       "    <tr>\n",
       "      <th>3</th>\n",
       "      <td>000041bdba6ecadd89a52d11886e8eaaec9325906c9723...</td>\n",
       "      <td>-0.280883</td>\n",
       "      <td>-0.094989</td>\n",
       "      <td>-0.249239</td>\n",
       "      <td>1.884923</td>\n",
       "      <td>-0.881231</td>\n",
       "      <td>-0.011842</td>\n",
       "      <td>-0.184552</td>\n",
       "      <td>-1.935728</td>\n",
       "      <td>0.093544</td>\n",
       "      <td>0.311152</td>\n",
       "      <td>0</td>\n",
       "    </tr>\n",
       "    <tr>\n",
       "      <th>4</th>\n",
       "      <td>00007889e4fcd2614b6cbe7f8f3d2e5c728eca32d9eb8a...</td>\n",
       "      <td>-0.281148</td>\n",
       "      <td>-0.098376</td>\n",
       "      <td>-0.197430</td>\n",
       "      <td>1.956495</td>\n",
       "      <td>-1.132507</td>\n",
       "      <td>-0.929224</td>\n",
       "      <td>-0.102670</td>\n",
       "      <td>0.623218</td>\n",
       "      <td>-0.339866</td>\n",
       "      <td>-1.179116</td>\n",
       "      <td>0</td>\n",
       "    </tr>\n",
       "    <tr>\n",
       "      <th>...</th>\n",
       "      <td>...</td>\n",
       "      <td>...</td>\n",
       "      <td>...</td>\n",
       "      <td>...</td>\n",
       "      <td>...</td>\n",
       "      <td>...</td>\n",
       "      <td>...</td>\n",
       "      <td>...</td>\n",
       "      <td>...</td>\n",
       "      <td>...</td>\n",
       "      <td>...</td>\n",
       "      <td>...</td>\n",
       "    </tr>\n",
       "    <tr>\n",
       "      <th>395234</th>\n",
       "      <td>ffff41c8a52833b56430603969b9ca48d208e7c192c6a4...</td>\n",
       "      <td>-0.285618</td>\n",
       "      <td>-0.095636</td>\n",
       "      <td>-0.316009</td>\n",
       "      <td>1.814349</td>\n",
       "      <td>-0.460987</td>\n",
       "      <td>-0.567152</td>\n",
       "      <td>0.004019</td>\n",
       "      <td>0.212494</td>\n",
       "      <td>0.319344</td>\n",
       "      <td>0.090424</td>\n",
       "      <td>0</td>\n",
       "    </tr>\n",
       "    <tr>\n",
       "      <th>395235</th>\n",
       "      <td>ffff518bb2075e4816ee3fe9f3b152c57fc0e6f01bf7fd...</td>\n",
       "      <td>-0.206421</td>\n",
       "      <td>-0.094287</td>\n",
       "      <td>0.264049</td>\n",
       "      <td>-1.019336</td>\n",
       "      <td>-0.280887</td>\n",
       "      <td>3.349008</td>\n",
       "      <td>-0.292207</td>\n",
       "      <td>2.340251</td>\n",
       "      <td>-0.062114</td>\n",
       "      <td>0.240928</td>\n",
       "      <td>0</td>\n",
       "    </tr>\n",
       "    <tr>\n",
       "      <th>395236</th>\n",
       "      <td>ffff9984b999fccb2b6127635ed0736dda94e544e67e02...</td>\n",
       "      <td>-0.268187</td>\n",
       "      <td>-0.093965</td>\n",
       "      <td>-0.138951</td>\n",
       "      <td>-2.196634</td>\n",
       "      <td>1.670352</td>\n",
       "      <td>-1.773564</td>\n",
       "      <td>0.141575</td>\n",
       "      <td>0.420050</td>\n",
       "      <td>0.289292</td>\n",
       "      <td>-0.209685</td>\n",
       "      <td>0</td>\n",
       "    </tr>\n",
       "    <tr>\n",
       "      <th>395237</th>\n",
       "      <td>ffffa5c46bc8de74f5a4554e74e239c8dee6b9baf38814...</td>\n",
       "      <td>-0.256057</td>\n",
       "      <td>-0.096018</td>\n",
       "      <td>0.345846</td>\n",
       "      <td>-1.227044</td>\n",
       "      <td>0.538556</td>\n",
       "      <td>0.087798</td>\n",
       "      <td>-0.179034</td>\n",
       "      <td>-1.306320</td>\n",
       "      <td>-0.126920</td>\n",
       "      <td>-0.497853</td>\n",
       "      <td>1</td>\n",
       "    </tr>\n",
       "    <tr>\n",
       "      <th>395238</th>\n",
       "      <td>fffff1d38b785cef84adeace64f8f83db3a0c31e8d92ea...</td>\n",
       "      <td>-0.267607</td>\n",
       "      <td>-0.095064</td>\n",
       "      <td>-0.227840</td>\n",
       "      <td>0.777007</td>\n",
       "      <td>-0.390914</td>\n",
       "      <td>0.072766</td>\n",
       "      <td>-0.098755</td>\n",
       "      <td>0.294498</td>\n",
       "      <td>0.131417</td>\n",
       "      <td>0.701152</td>\n",
       "      <td>0</td>\n",
       "    </tr>\n",
       "  </tbody>\n",
       "</table>\n",
       "<p>395239 rows × 12 columns</p>\n",
       "</div>"
      ],
      "text/plain": [
       "                                              customer_ID       pc1       pc2  \\\n",
       "0       0000099d6bd597052cdcda90ffabf56573fe9d7c79be5f... -0.279149 -0.093868   \n",
       "1       00000fd6641609c6ece5454664794f0340ad84dddce9a2... -0.279644 -0.095974   \n",
       "2       00001b22f846c82c51f6e3958ccd81970162bae8b007e8... -0.293562 -0.098206   \n",
       "3       000041bdba6ecadd89a52d11886e8eaaec9325906c9723... -0.280883 -0.094989   \n",
       "4       00007889e4fcd2614b6cbe7f8f3d2e5c728eca32d9eb8a... -0.281148 -0.098376   \n",
       "...                                                   ...       ...       ...   \n",
       "395234  ffff41c8a52833b56430603969b9ca48d208e7c192c6a4... -0.285618 -0.095636   \n",
       "395235  ffff518bb2075e4816ee3fe9f3b152c57fc0e6f01bf7fd... -0.206421 -0.094287   \n",
       "395236  ffff9984b999fccb2b6127635ed0736dda94e544e67e02... -0.268187 -0.093965   \n",
       "395237  ffffa5c46bc8de74f5a4554e74e239c8dee6b9baf38814... -0.256057 -0.096018   \n",
       "395238  fffff1d38b785cef84adeace64f8f83db3a0c31e8d92ea... -0.267607 -0.095064   \n",
       "\n",
       "             pc3       pc4       pc5       pc6       pc7       pc8       pc9  \\\n",
       "0      -0.263821  2.097142 -1.013602 -0.631458  0.021451  0.759396  0.378654   \n",
       "1      -0.195206 -1.749018  1.563684 -2.631547  0.147751  1.259314  0.019391   \n",
       "2      -0.232702 -1.536221  1.534310 -3.436961  0.118101  0.895366 -0.384437   \n",
       "3      -0.249239  1.884923 -0.881231 -0.011842 -0.184552 -1.935728  0.093544   \n",
       "4      -0.197430  1.956495 -1.132507 -0.929224 -0.102670  0.623218 -0.339866   \n",
       "...          ...       ...       ...       ...       ...       ...       ...   \n",
       "395234 -0.316009  1.814349 -0.460987 -0.567152  0.004019  0.212494  0.319344   \n",
       "395235  0.264049 -1.019336 -0.280887  3.349008 -0.292207  2.340251 -0.062114   \n",
       "395236 -0.138951 -2.196634  1.670352 -1.773564  0.141575  0.420050  0.289292   \n",
       "395237  0.345846 -1.227044  0.538556  0.087798 -0.179034 -1.306320 -0.126920   \n",
       "395238 -0.227840  0.777007 -0.390914  0.072766 -0.098755  0.294498  0.131417   \n",
       "\n",
       "            pc10  target  \n",
       "0      -0.535208       0  \n",
       "1       0.689261       0  \n",
       "2       0.462406       0  \n",
       "3       0.311152       0  \n",
       "4      -1.179116       0  \n",
       "...          ...     ...  \n",
       "395234  0.090424       0  \n",
       "395235  0.240928       0  \n",
       "395236 -0.209685       0  \n",
       "395237 -0.497853       1  \n",
       "395238  0.701152       0  \n",
       "\n",
       "[395239 rows x 12 columns]"
      ]
     },
     "execution_count": 68,
     "metadata": {},
     "output_type": "execute_result"
    }
   ],
   "source": [
    "#merging remaining customer_IDs with target from train values\n",
    "\n",
    "amex_train_treated_target = dd.merge(left=amex_train_treated, \n",
    "                                     right=amex_labels,\n",
    "                                     left_on='customer_ID',\n",
    "                                     right_on='customer_ID').compute()\n",
    "amex_train_treated_target"
   ]
  },
  {
   "cell_type": "markdown",
   "id": "6a8d017f",
   "metadata": {
    "ExecuteTime": {
     "end_time": "2022-07-26T19:48:30.211487Z",
     "start_time": "2022-07-26T19:48:30.208524Z"
    }
   },
   "source": [
    "### Logistic Regression"
   ]
  },
  {
   "cell_type": "code",
   "execution_count": 69,
   "id": "34c10390",
   "metadata": {
    "ExecuteTime": {
     "end_time": "2022-07-27T18:58:11.384842Z",
     "start_time": "2022-07-27T18:58:10.602076Z"
    }
   },
   "outputs": [
    {
     "data": {
      "text/plain": [
       "LogisticRegression(random_state=7)"
      ]
     },
     "execution_count": 69,
     "metadata": {},
     "output_type": "execute_result"
    }
   ],
   "source": [
    "# Training Logistic Regression\n",
    "\n",
    "from sklearn.linear_model import LogisticRegression\n",
    "from sklearn.metrics import plot_roc_curve\n",
    "\n",
    "X_train=amex_train_treated_target.drop(columns=['customer_ID','target'])\n",
    "y_train=amex_train_treated_target['target']\n",
    "\n",
    "lrmodel = LogisticRegression(random_state=7)\n",
    "lrmodel.fit(X_train,y_train)"
   ]
  },
  {
   "cell_type": "code",
   "execution_count": 70,
   "id": "0ce336f7",
   "metadata": {
    "ExecuteTime": {
     "end_time": "2022-07-27T18:58:17.315042Z",
     "start_time": "2022-07-27T18:58:17.300620Z"
    }
   },
   "outputs": [
    {
     "data": {
      "text/plain": [
       "array([0, 0, 0, ..., 0, 1, 0])"
      ]
     },
     "execution_count": 70,
     "metadata": {},
     "output_type": "execute_result"
    }
   ],
   "source": [
    "# predicting in train database\n",
    "y_pred = lrmodel.predict(X_train)\n",
    "y_pred"
   ]
  },
  {
   "cell_type": "code",
   "execution_count": 71,
   "id": "068432b2",
   "metadata": {
    "ExecuteTime": {
     "end_time": "2022-07-27T18:58:22.820689Z",
     "start_time": "2022-07-27T18:58:22.800838Z"
    }
   },
   "outputs": [
    {
     "data": {
      "text/plain": [
       "array([[0.97668723, 0.02331277],\n",
       "       [0.96965344, 0.03034656],\n",
       "       [0.96404406, 0.03595594],\n",
       "       ...,\n",
       "       [0.89535658, 0.10464342],\n",
       "       [0.49310801, 0.50689199],\n",
       "       [0.94974499, 0.05025501]])"
      ]
     },
     "execution_count": 71,
     "metadata": {},
     "output_type": "execute_result"
    }
   ],
   "source": [
    "# probabilities to 0 and 1\n",
    "lrmodel.predict_proba(X_train)"
   ]
  },
  {
   "cell_type": "code",
   "execution_count": 72,
   "id": "de8a1e70",
   "metadata": {
    "ExecuteTime": {
     "end_time": "2022-07-27T18:58:28.153964Z",
     "start_time": "2022-07-27T18:58:28.149451Z"
    }
   },
   "outputs": [
    {
     "data": {
      "text/plain": [
       "array([[ 0.03953192,  0.00584185,  0.36657398, -0.51247883,  0.06474141,\n",
       "         0.72576895,  0.17072155, -0.23082317, -1.57750852, -0.74599837]])"
      ]
     },
     "execution_count": 72,
     "metadata": {},
     "output_type": "execute_result"
    }
   ],
   "source": [
    "lrmodel.coef_"
   ]
  },
  {
   "cell_type": "code",
   "execution_count": 73,
   "id": "70294677",
   "metadata": {
    "ExecuteTime": {
     "end_time": "2022-07-27T18:58:33.468586Z",
     "start_time": "2022-07-27T18:58:33.464243Z"
    }
   },
   "outputs": [
    {
     "data": {
      "text/plain": [
       "array([-1.65852591])"
      ]
     },
     "execution_count": 73,
     "metadata": {},
     "output_type": "execute_result"
    }
   ],
   "source": [
    "lrmodel.intercept_"
   ]
  },
  {
   "cell_type": "code",
   "execution_count": 74,
   "id": "46746321",
   "metadata": {
    "ExecuteTime": {
     "end_time": "2022-07-27T18:58:38.995972Z",
     "start_time": "2022-07-27T18:58:38.933667Z"
    },
    "scrolled": true
   },
   "outputs": [
    {
     "data": {
      "text/plain": [
       "0.8247946179400312"
      ]
     },
     "execution_count": 74,
     "metadata": {},
     "output_type": "execute_result"
    }
   ],
   "source": [
    "lrmodel.score(X_train,y_train)"
   ]
  },
  {
   "cell_type": "code",
   "execution_count": 79,
   "id": "9373dd2a",
   "metadata": {
    "ExecuteTime": {
     "end_time": "2022-07-27T19:03:06.141740Z",
     "start_time": "2022-07-27T19:03:05.910110Z"
    }
   },
   "outputs": [
    {
     "data": {
      "text/plain": [
       "<AxesSubplot:>"
      ]
     },
     "execution_count": 79,
     "metadata": {},
     "output_type": "execute_result"
    },
    {
     "data": {
      "image/png": "[encoded data removed]",
      "text/plain": [
       "<Figure size 432x288 with 2 Axes>"
      ]
     },
     "metadata": {
      "needs_background": "light"
     },
     "output_type": "display_data"
    }
   ],
   "source": [
    "from sklearn.metrics import confusion_matrix\n",
    "matrix = confusion_matrix(y_train,y_pred)\n",
    "sns.heatmap(matrix, annot=True)\n"
   ]
  },
  {
   "cell_type": "code",
   "execution_count": 80,
   "id": "bb766313",
   "metadata": {
    "ExecuteTime": {
     "end_time": "2022-07-27T19:03:13.632016Z",
     "start_time": "2022-07-27T19:03:13.326166Z"
    }
   },
   "outputs": [
    {
     "data": {
      "text/plain": [
       "(0.5867017345146335, 0.7000332138398635)"
      ]
     },
     "execution_count": 80,
     "metadata": {},
     "output_type": "execute_result"
    }
   ],
   "source": [
    "from sklearn.metrics import recall_score\n",
    "from sklearn.metrics import precision_score\n",
    "\n",
    "recall_score(y_train,y_pred) , precision_score(y_train,y_pred)"
   ]
  },
  {
   "cell_type": "code",
   "execution_count": 124,
   "id": "ec4eab4c",
   "metadata": {
    "ExecuteTime": {
     "end_time": "2022-07-27T18:30:18.569687Z",
     "start_time": "2022-07-27T18:30:18.277445Z"
    }
   },
   "outputs": [
    {
     "data": {
      "text/plain": [
       "<sklearn.metrics._plot.roc_curve.RocCurveDisplay at 0x7fe219d10ac0>"
      ]
     },
     "execution_count": 124,
     "metadata": {},
     "output_type": "execute_result"
    },
    {
     "data": {
      "image/png": "[encoded data removed]",
      "text/plain": [
       "<Figure size 432x288 with 1 Axes>"
      ]
     },
     "metadata": {
      "needs_background": "light"
     },
     "output_type": "display_data"
    }
   ],
   "source": [
    "plot_roc_curve(lrmodel, X_train, y_train)"
   ]
  },
  {
   "cell_type": "markdown",
   "id": "6fa1dd28",
   "metadata": {},
   "source": [
    "### Predicting with test data"
   ]
  },
  {
   "cell_type": "code",
   "execution_count": 82,
   "id": "cb012869",
   "metadata": {
    "ExecuteTime": {
     "end_time": "2022-07-27T19:05:51.482858Z",
     "start_time": "2022-07-27T19:05:51.452679Z"
    }
   },
   "outputs": [],
   "source": [
    "# selecting numeric features from test pca base\n",
    "X_test = amex_test_treated.select_dtypes('number')"
   ]
  },
  {
   "cell_type": "code",
   "execution_count": 83,
   "id": "19412b8c",
   "metadata": {
    "ExecuteTime": {
     "end_time": "2022-07-27T19:05:57.072263Z",
     "start_time": "2022-07-27T19:05:56.887877Z"
    }
   },
   "outputs": [],
   "source": [
    "# running the model with test data\n",
    "y_pred = lrmodel.predict(X_test)"
   ]
  },
  {
   "cell_type": "code",
   "execution_count": 84,
   "id": "1a5c7cf2",
   "metadata": {
    "ExecuteTime": {
     "end_time": "2022-07-27T19:06:02.313336Z",
     "start_time": "2022-07-27T19:06:02.308314Z"
    }
   },
   "outputs": [],
   "source": [
    "amex_test_treated['y_pred'] = y_pred"
   ]
  },
  {
   "cell_type": "code",
   "execution_count": 85,
   "id": "c687b34d",
   "metadata": {
    "ExecuteTime": {
     "end_time": "2022-07-27T19:06:07.640312Z",
     "start_time": "2022-07-27T19:06:07.635260Z"
    }
   },
   "outputs": [
    {
     "data": {
      "text/plain": [
       "array([[ 0.03953192,  0.00584185,  0.36657398, -0.51247883,  0.06474141,\n",
       "         0.72576895,  0.17072155, -0.23082317, -1.57750852, -0.74599837]])"
      ]
     },
     "execution_count": 85,
     "metadata": {},
     "output_type": "execute_result"
    }
   ],
   "source": [
    "lrmodel.coef_"
   ]
  },
  {
   "cell_type": "code",
   "execution_count": 86,
   "id": "95d9aa34",
   "metadata": {
    "ExecuteTime": {
     "end_time": "2022-07-27T19:06:12.799617Z",
     "start_time": "2022-07-27T19:06:12.794854Z"
    }
   },
   "outputs": [
    {
     "data": {
      "text/plain": [
       "array([-1.65852591])"
      ]
     },
     "execution_count": 86,
     "metadata": {},
     "output_type": "execute_result"
    }
   ],
   "source": [
    "lrmodel.intercept_"
   ]
  },
  {
   "cell_type": "code",
   "execution_count": 87,
   "id": "a904f75c",
   "metadata": {
    "ExecuteTime": {
     "end_time": "2022-07-27T19:06:17.899947Z",
     "start_time": "2022-07-27T19:06:17.870738Z"
    }
   },
   "outputs": [
    {
     "data": {
      "text/plain": [
       "array([[0.9200283 , 0.0799717 ],\n",
       "       [0.97607057, 0.02392943],\n",
       "       [0.81038574, 0.18961426],\n",
       "       ...,\n",
       "       [0.72019331, 0.27980669],\n",
       "       [0.72642977, 0.27357023],\n",
       "       [0.40929223, 0.59070777]])"
      ]
     },
     "execution_count": 87,
     "metadata": {},
     "output_type": "execute_result"
    }
   ],
   "source": [
    "# probabilities to 0 and 1\n",
    "lrmodel.predict_proba(X_test)"
   ]
  },
  {
   "cell_type": "code",
   "execution_count": 88,
   "id": "a2db766f",
   "metadata": {
    "ExecuteTime": {
     "end_time": "2022-07-27T19:06:22.697789Z",
     "start_time": "2022-07-27T19:06:22.687693Z"
    }
   },
   "outputs": [
    {
     "data": {
      "text/html": [
       "<div>\n",
       "<style scoped>\n",
       "    .dataframe tbody tr th:only-of-type {\n",
       "        vertical-align: middle;\n",
       "    }\n",
       "\n",
       "    .dataframe tbody tr th {\n",
       "        vertical-align: top;\n",
       "    }\n",
       "\n",
       "    .dataframe thead th {\n",
       "        text-align: right;\n",
       "    }\n",
       "</style>\n",
       "<table border=\"1\" class=\"dataframe\">\n",
       "  <thead>\n",
       "    <tr style=\"text-align: right;\">\n",
       "      <th></th>\n",
       "      <th>customer_ID</th>\n",
       "      <th>pc1</th>\n",
       "      <th>pc2</th>\n",
       "      <th>pc3</th>\n",
       "      <th>pc4</th>\n",
       "      <th>pc5</th>\n",
       "      <th>pc6</th>\n",
       "      <th>pc7</th>\n",
       "      <th>pc8</th>\n",
       "      <th>pc9</th>\n",
       "      <th>pc10</th>\n",
       "      <th>y_pred</th>\n",
       "    </tr>\n",
       "  </thead>\n",
       "  <tbody>\n",
       "    <tr>\n",
       "      <th>0</th>\n",
       "      <td>00000469ba478561f23a92a868bd366de6f6527a684c9a...</td>\n",
       "      <td>-0.274</td>\n",
       "      <td>-0.094</td>\n",
       "      <td>0.197</td>\n",
       "      <td>-2.179</td>\n",
       "      <td>1.466</td>\n",
       "      <td>-2.348</td>\n",
       "      <td>0.103</td>\n",
       "      <td>0.610</td>\n",
       "      <td>-0.132</td>\n",
       "      <td>0.586</td>\n",
       "      <td>0</td>\n",
       "    </tr>\n",
       "    <tr>\n",
       "      <th>1</th>\n",
       "      <td>00001bf2e77ff879fab36aa4fac689b9ba411dae63ae39...</td>\n",
       "      <td>-0.281</td>\n",
       "      <td>-0.097</td>\n",
       "      <td>-0.285</td>\n",
       "      <td>1.195</td>\n",
       "      <td>-0.424</td>\n",
       "      <td>-0.873</td>\n",
       "      <td>-0.043</td>\n",
       "      <td>0.692</td>\n",
       "      <td>0.008</td>\n",
       "      <td>0.645</td>\n",
       "      <td>0</td>\n",
       "    </tr>\n",
       "    <tr>\n",
       "      <th>2</th>\n",
       "      <td>0000210045da4f81e5f122c6bde5c2a617d03eef67f82c...</td>\n",
       "      <td>-0.274</td>\n",
       "      <td>-0.099</td>\n",
       "      <td>-0.118</td>\n",
       "      <td>-1.819</td>\n",
       "      <td>1.344</td>\n",
       "      <td>-1.772</td>\n",
       "      <td>0.035</td>\n",
       "      <td>0.066</td>\n",
       "      <td>-0.136</td>\n",
       "      <td>-0.431</td>\n",
       "      <td>0</td>\n",
       "    </tr>\n",
       "    <tr>\n",
       "      <th>3</th>\n",
       "      <td>00003b41e58ede33b8daf61ab56d9952f17c9ad1c3976c...</td>\n",
       "      <td>-0.236</td>\n",
       "      <td>-0.091</td>\n",
       "      <td>0.209</td>\n",
       "      <td>1.047</td>\n",
       "      <td>-1.208</td>\n",
       "      <td>2.205</td>\n",
       "      <td>-0.154</td>\n",
       "      <td>-0.329</td>\n",
       "      <td>0.109</td>\n",
       "      <td>-0.443</td>\n",
       "      <td>0</td>\n",
       "    </tr>\n",
       "    <tr>\n",
       "      <th>4</th>\n",
       "      <td>00004b22eaeeeb0ec976890c1d9bfc14fd9427e98c4ee9...</td>\n",
       "      <td>-0.227</td>\n",
       "      <td>-0.095</td>\n",
       "      <td>0.104</td>\n",
       "      <td>-3.406</td>\n",
       "      <td>1.601</td>\n",
       "      <td>0.599</td>\n",
       "      <td>-0.070</td>\n",
       "      <td>1.198</td>\n",
       "      <td>-0.086</td>\n",
       "      <td>0.901</td>\n",
       "      <td>0</td>\n",
       "    </tr>\n",
       "  </tbody>\n",
       "</table>\n",
       "</div>"
      ],
      "text/plain": [
       "                                         customer_ID    pc1    pc2    pc3  \\\n",
       "0  00000469ba478561f23a92a868bd366de6f6527a684c9a... -0.274 -0.094  0.197   \n",
       "1  00001bf2e77ff879fab36aa4fac689b9ba411dae63ae39... -0.281 -0.097 -0.285   \n",
       "2  0000210045da4f81e5f122c6bde5c2a617d03eef67f82c... -0.274 -0.099 -0.118   \n",
       "3  00003b41e58ede33b8daf61ab56d9952f17c9ad1c3976c... -0.236 -0.091  0.209   \n",
       "4  00004b22eaeeeb0ec976890c1d9bfc14fd9427e98c4ee9... -0.227 -0.095  0.104   \n",
       "\n",
       "     pc4    pc5    pc6    pc7    pc8    pc9   pc10  y_pred  \n",
       "0 -2.179  1.466 -2.348  0.103  0.610 -0.132  0.586       0  \n",
       "1  1.195 -0.424 -0.873 -0.043  0.692  0.008  0.645       0  \n",
       "2 -1.819  1.344 -1.772  0.035  0.066 -0.136 -0.431       0  \n",
       "3  1.047 -1.208  2.205 -0.154 -0.329  0.109 -0.443       0  \n",
       "4 -3.406  1.601  0.599 -0.070  1.198 -0.086  0.901       0  "
      ]
     },
     "execution_count": 88,
     "metadata": {},
     "output_type": "execute_result"
    }
   ],
   "source": [
    "amex_test_treated.head()"
   ]
  },
  {
   "cell_type": "markdown",
   "id": "c66df248",
   "metadata": {},
   "source": [
    "# New treatments"
   ]
  },
  {
   "cell_type": "markdown",
   "id": "921f7987",
   "metadata": {},
   "source": [
    "Rescueing code from Treating null values"
   ]
  },
  {
   "cell_type": "markdown",
   "id": "707fa1ef",
   "metadata": {},
   "source": [
    "## Filling nulls with columns average"
   ]
  },
  {
   "cell_type": "markdown",
   "id": "1c053ed5",
   "metadata": {},
   "source": [
    "### Train data"
   ]
  },
  {
   "cell_type": "code",
   "execution_count": 87,
   "id": "12608f71",
   "metadata": {
    "ExecuteTime": {
     "end_time": "2022-07-27T20:48:03.680057Z",
     "start_time": "2022-07-27T20:48:01.564967Z"
    }
   },
   "outputs": [
    {
     "data": {
      "text/plain": [
       "(458913, 151)"
      ]
     },
     "execution_count": 87,
     "metadata": {},
     "output_type": "execute_result"
    }
   ],
   "source": [
    "# train base = unique customers without columns 10% above null values colunms\n",
    "new_train = amex_train_unique_customers.drop(columns=train_droplist)\n",
    "new_train.shape"
   ]
  },
  {
   "cell_type": "code",
   "execution_count": 88,
   "id": "ea1dd1f1",
   "metadata": {
    "ExecuteTime": {
     "end_time": "2022-07-27T20:48:27.739059Z",
     "start_time": "2022-07-27T20:48:24.804186Z"
    },
    "scrolled": true
   },
   "outputs": [],
   "source": [
    "new_train = dd.merge(left=new_train, \n",
    "        right=amex_labels,\n",
    "        left_on='customer_ID',\n",
    "        right_on='customer_ID').compute()"
   ]
  },
  {
   "cell_type": "code",
   "execution_count": 89,
   "id": "4f694c03",
   "metadata": {
    "ExecuteTime": {
     "end_time": "2022-07-27T20:48:39.049092Z",
     "start_time": "2022-07-27T20:48:39.045758Z"
    }
   },
   "outputs": [
    {
     "data": {
      "text/plain": [
       "(458913, 152)"
      ]
     },
     "execution_count": 89,
     "metadata": {},
     "output_type": "execute_result"
    }
   ],
   "source": [
    "new_train.shape"
   ]
  },
  {
   "cell_type": "code",
   "execution_count": 90,
   "id": "aeb983ba",
   "metadata": {
    "ExecuteTime": {
     "end_time": "2022-07-27T20:49:15.752428Z",
     "start_time": "2022-07-27T20:48:48.968642Z"
    }
   },
   "outputs": [],
   "source": [
    "new_train_treated = new_train.fillna(new_train.select_dtypes('number').mean())"
   ]
  },
  {
   "cell_type": "code",
   "execution_count": 91,
   "id": "651606cb",
   "metadata": {
    "ExecuteTime": {
     "end_time": "2022-07-27T20:50:53.445391Z",
     "start_time": "2022-07-27T20:49:25.588144Z"
    }
   },
   "outputs": [],
   "source": [
    "new_train_treated.to_csv('new_train_treated.csv',index=False)"
   ]
  },
  {
   "cell_type": "markdown",
   "id": "3267fc06",
   "metadata": {},
   "source": [
    "### Test data"
   ]
  },
  {
   "cell_type": "code",
   "execution_count": 97,
   "id": "e286bd3e",
   "metadata": {
    "ExecuteTime": {
     "end_time": "2022-07-27T20:52:55.260758Z",
     "start_time": "2022-07-27T20:52:49.736809Z"
    }
   },
   "outputs": [],
   "source": [
    "# test base = unique customers without columns 10% above null values colunms\n",
    "new_test = amex_test_unique_customers[new_train.columns.drop('target')]"
   ]
  },
  {
   "cell_type": "code",
   "execution_count": 98,
   "id": "59202741",
   "metadata": {
    "ExecuteTime": {
     "end_time": "2022-07-27T20:53:26.756101Z",
     "start_time": "2022-07-27T20:53:26.749368Z"
    }
   },
   "outputs": [
    {
     "data": {
      "text/plain": [
       "(924621, 151)"
      ]
     },
     "execution_count": 98,
     "metadata": {},
     "output_type": "execute_result"
    }
   ],
   "source": [
    "new_test.shape"
   ]
  },
  {
   "cell_type": "code",
   "execution_count": 99,
   "id": "88447c32",
   "metadata": {
    "ExecuteTime": {
     "end_time": "2022-07-27T20:54:54.245692Z",
     "start_time": "2022-07-27T20:53:54.092025Z"
    }
   },
   "outputs": [],
   "source": [
    "new_test_treated = new_test.fillna(new_test.select_dtypes('number').mean())"
   ]
  },
  {
   "cell_type": "code",
   "execution_count": 100,
   "id": "1e646c7e",
   "metadata": {
    "ExecuteTime": {
     "end_time": "2022-07-27T21:26:31.010937Z",
     "start_time": "2022-07-27T20:55:05.655984Z"
    }
   },
   "outputs": [],
   "source": [
    "new_test_treated.to_csv('new_test_treated.csv',index=False)"
   ]
  },
  {
   "cell_type": "code",
   "execution_count": null,
   "id": "1f5f126c",
   "metadata": {},
   "outputs": [],
   "source": [
    "#dropar as colunas >0.1 e fillar com media"
   ]
  },
  {
   "cell_type": "markdown",
   "id": "82d69ec4",
   "metadata": {},
   "source": [
    "See results in Pycaret document\n",
    "\n",
    "Pycaret - LGBM was the best one.\n",
    "\n",
    "Competition score = 0.75"
   ]
  },
  {
   "cell_type": "markdown",
   "id": "4f600c83",
   "metadata": {},
   "source": [
    "## KNN Imputer"
   ]
  },
  {
   "cell_type": "markdown",
   "id": "299264b4",
   "metadata": {
    "ExecuteTime": {
     "end_time": "2022-07-28T14:15:36.889363Z",
     "start_time": "2022-07-28T14:15:36.801044Z"
    }
   },
   "source": [
    "### Train data"
   ]
  },
  {
   "cell_type": "markdown",
   "id": "32ce8b5d",
   "metadata": {},
   "source": [
    "proximos passos: Tentar KNN, ou deixar para o futuro\n",
    "KNN Imputer (pode demorar)\n",
    "Interative Imputer"
   ]
  },
  {
   "cell_type": "code",
   "execution_count": null,
   "id": "7dbf071f",
   "metadata": {
    "ExecuteTime": {
     "start_time": "2022-07-28T17:07:28.150Z"
    }
   },
   "outputs": [],
   "source": [
    "from sklearn.impute import KNNImputer\n",
    "\n",
    "X=amex_train_unique_customers.select_dtypes('number')\n",
    "\n",
    "knn = KNNImputer(n_neighbors=3)\n",
    "knn.fit_transform(X)"
   ]
  },
  {
   "cell_type": "code",
   "execution_count": null,
   "id": "fc25885b",
   "metadata": {},
   "outputs": [],
   "source": [
    "from sklearn.impute import KNNImputer\n",
    "\n",
    "X=amex_test_unique_customers.select_dtypes('number')\n",
    "\n",
    "knn = KNNImputer(n_neighbors=5)\n",
    "knn.fit_transform(X)"
   ]
  }
 ],
 "metadata": {
  "kernelspec": {
   "display_name": "Python 3 (ipykernel)",
   "language": "python",
   "name": "python3"
  },
  "language_info": {
   "codemirror_mode": {
    "name": "ipython",
    "version": 3
   },
   "file_extension": ".py",
   "mimetype": "text/x-python",
   "name": "python",
   "nbconvert_exporter": "python",
   "pygments_lexer": "ipython3",
   "version": "3.9.12"
  },
  "toc": {
   "base_numbering": 1,
   "nav_menu": {},
   "number_sections": true,
   "sideBar": true,
   "skip_h1_title": false,
   "title_cell": "Table of Contents",
   "title_sidebar": "Contents",
   "toc_cell": false,
   "toc_position": {
    "height": "calc(100% - 180px)",
    "left": "10px",
    "top": "150px",
    "width": "283.625px"
   },
   "toc_section_display": true,
   "toc_window_display": true
  },
  "varInspector": {
   "cols": {
    "lenName": 16,
    "lenType": 16,
    "lenVar": 40
   },
   "kernels_config": {
    "python": {
     "delete_cmd_postfix": "",
     "delete_cmd_prefix": "del ",
     "library": "var_list.py",
     "varRefreshCmd": "print(var_dic_list())"
    },
    "r": {
     "delete_cmd_postfix": ") ",
     "delete_cmd_prefix": "rm(",
     "library": "var_list.r",
     "varRefreshCmd": "cat(var_dic_list()) "
    }
   },
   "position": {
    "height": "489.844px",
    "left": "1462px",
    "right": "20px",
    "top": "120px",
    "width": "325px"
   },
   "types_to_exclude": [
    "module",
    "function",
    "builtin_function_or_method",
    "instance",
    "_Feature"
   ],
   "window_display": false
  }
 },
 "nbformat": 4,
 "nbformat_minor": 5
}
